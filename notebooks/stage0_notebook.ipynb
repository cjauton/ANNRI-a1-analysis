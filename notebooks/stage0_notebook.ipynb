{
 "cells": [
  {
   "cell_type": "code",
   "execution_count": 1,
   "id": "1b6e2ac7-35ab-47ab-a988-7b0dcff1cd46",
   "metadata": {
    "scrolled": true
   },
   "outputs": [
    {
     "name": "stdout",
     "output_type": "stream",
     "text": [
      "Welcome to JupyROOT 6.28/00\n"
     ]
    },
    {
     "ename": "ModuleNotFoundError",
     "evalue": "No module named 'annri_a1_analysis'",
     "output_type": "error",
     "traceback": [
      "\u001b[0;31m---------------------------------------------------------------------------\u001b[0m",
      "\u001b[0;31mModuleNotFoundError\u001b[0m                       Traceback (most recent call last)",
      "Cell \u001b[0;32mIn[1], line 4\u001b[0m\n\u001b[1;32m      2\u001b[0m \u001b[39mimport\u001b[39;00m \u001b[39mnumpy\u001b[39;00m \u001b[39mas\u001b[39;00m \u001b[39mnp\u001b[39;00m\n\u001b[1;32m      3\u001b[0m \u001b[39m# import toml\u001b[39;00m\n\u001b[0;32m----> 4\u001b[0m \u001b[39mfrom\u001b[39;00m \u001b[39mannri_a1_analysis\u001b[39;00m \u001b[39mimport\u001b[39;00m config \n\u001b[1;32m      5\u001b[0m \u001b[39m# from tqdm.notebook import tqdm, trange\u001b[39;00m\n\u001b[1;32m      6\u001b[0m \u001b[39mfrom\u001b[39;00m \u001b[39mannri_a1_analysis\u001b[39;00m \u001b[39mimport\u001b[39;00m utils\n",
      "File \u001b[0;32m/opt/homebrew/Caskroom/miniconda/base/envs/research/lib/python3.11/site-packages/ROOT/_facade.py:154\u001b[0m, in \u001b[0;36mROOTFacade._set_import_hook.<locals>._importhook\u001b[0;34m(name, *args, **kwds)\u001b[0m\n\u001b[1;32m    152\u001b[0m     \u001b[39mexcept\u001b[39;00m \u001b[39mException\u001b[39;00m:\n\u001b[1;32m    153\u001b[0m         \u001b[39mpass\u001b[39;00m\n\u001b[0;32m--> 154\u001b[0m \u001b[39mreturn\u001b[39;00m _orig_ihook(name, \u001b[39m*\u001b[39;49margs, \u001b[39m*\u001b[39;49m\u001b[39m*\u001b[39;49mkwds)\n",
      "\u001b[0;31mModuleNotFoundError\u001b[0m: No module named 'annri_a1_analysis'"
     ]
    }
   ],
   "source": [
    "import ROOT\n",
    "import numpy as np\n",
    "# import toml\n",
    "from annri_a1_analysis import config \n",
    "# from tqdm.notebook import tqdm, trange\n",
    "from annri_a1_analysis import utils\n",
    "import numba\n",
    "\n",
    "%jsroot on"
   ]
  },
  {
   "cell_type": "markdown",
   "id": "f1f26c42-268c-49ea-bc29-7df8b88c4851",
   "metadata": {},
   "source": [
    "## Load Config\n",
    "The config holds all the information on how to construct the histograms and other general settings"
   ]
  },
  {
   "cell_type": "code",
   "execution_count": 2,
   "id": "5ae00d1f-1c6b-45af-90b0-ab1cf7ff62a0",
   "metadata": {
    "editable": true,
    "slideshow": {
     "slide_type": ""
    },
    "tags": []
   },
   "outputs": [],
   "source": [
    "# config = toml.load(\"stage0_config.toml\")\n",
    "config = config.load_config(\"stage0_config.toml\")\n",
    "config"
   ]
  },
  {
   "cell_type": "markdown",
   "id": "753cbd25-d176-48f7-b26b-f6f67c73ee27",
   "metadata": {},
   "source": [
    "## Read Calibration\n",
    "Read the detector calibration from csv file"
   ]
  },
  {
   "cell_type": "code",
   "execution_count": 3,
   "id": "9a94da2b-8442-4271-9de2-5de916d24f83",
   "metadata": {},
   "outputs": [],
   "source": [
    "numch = config['general']['numch']\n",
    "\n",
    "calib_slope = [1] * numch\n",
    "calib_offset = [0] * numch\n",
    "\n",
    "def read_calibration(filename, numch):\n",
    "    \n",
    "    with open(filename, \"r\") as file:\n",
    "        \n",
    "        file = open(filename, \"r\")\n",
    "        file.readline()\n",
    "\n",
    "        for line in file:\n",
    "            values = line.strip().split(',')\n",
    "            calib_slope[int(values[0])] = float(values[1])\n",
    "            calib_offset[int(values[0])] = float(values[2])\n",
    "\n",
    "\n",
    "        calib_slope = np.array(calib_slope)\n",
    "        calib_offset = np.array(calib_offset)\n",
    "        \n",
    "read_calibration(\"calib/calib_apr.csv\", 32)\n",
    "\n"
   ]
  },
  {
   "cell_type": "code",
   "execution_count": null,
   "id": "8e9aa881",
   "metadata": {},
   "outputs": [],
   "source": [
    "import csv\n",
    "import numpy as np\n",
    "\n",
    "def extract_columns_from_csv(filename, numch):\n",
    "    # Initialize the arrays with default values\n",
    "    calib_slope = np.ones(numch)\n",
    "    calib_offset = np.zeros(numch)\n",
    "\n",
    "    with open(filename, 'r') as file:\n",
    "        reader = csv.reader(file)\n",
    "        next(reader)  # Skip the header\n",
    "        \n",
    "        for row in reader:\n",
    "            index = int(row[0])\n",
    "            calib_slope[index] = float(row[1])\n",
    "            calib_offset[index] = float(row[2])\n",
    "            \n",
    "    return calib_slope, calib_offset\n",
    "\n",
    "# Usage\n",
    "filename = \"calib/calib_apr.csv\"\n",
    "numch = config['general']['numch']\n",
    "calib_slope, calib_offset = extract_columns_from_csv(filename, numch)\n"
   ]
  },
  {
   "cell_type": "code",
   "execution_count": null,
   "id": "b5f4a776",
   "metadata": {},
   "outputs": [],
   "source": [
    "import csv\n",
    "import numpy as np\n",
    "\n",
    "def extract_calib_from_csv(filename, numch):\n",
    "    # Initialize the arrays with default values\n",
    "    calib_slope = np.ones(numch)\n",
    "    calib_offset = np.zeros(numch)\n",
    "\n",
    "    with open(filename, 'r') as file:\n",
    "        reader = csv.reader(file)\n",
    "        next(reader)  # Skip the header\n",
    "        \n",
    "        for row in reader:\n",
    "            index = int(row[0])\n",
    "            calib_slope[index] = float(row[1])\n",
    "            calib_offset[index] = float(row[2])\n",
    "            \n",
    "    return calib_slope, calib_offset\n",
    "\n",
    "# Usage\n",
    "filename = \"calib/calib_apr.csv\"\n",
    "numch = config['general']['numch']\n",
    "calib_slope, calib_offset = extract_calib_from_csv(filename, numch)\n",
    "\n"
   ]
  },
  {
   "cell_type": "markdown",
   "id": "07314c86-9498-477f-ad77-d08edb181ac5",
   "metadata": {},
   "source": [
    "## NUMBA Function\n",
    "Create JIT compiled C++ function for creating hEgam column"
   ]
  },
  {
   "cell_type": "code",
   "execution_count": 4,
   "id": "d72a20e0-dcb3-4554-939b-e910209b7509",
   "metadata": {},
   "outputs": [],
   "source": [
    "@ROOT.Numba.Declare([\"int\",\"int\"], \"double\")\n",
    "def calc_Egam(detector,PulseHeight):\n",
    "    return PulseHeight*calib_slope[detector]+calib_offset[detector]"
   ]
  },
  {
   "cell_type": "markdown",
   "id": "7e7e983f-bd71-4664-849b-b651b6f387c1",
   "metadata": {},
   "source": [
    "## Create RDataFrame\n",
    "Create data frame and define new columns then filter by channel. Create histogram models and then fill histograms."
   ]
  },
  {
   "cell_type": "code",
   "execution_count": null,
   "id": "0e7e2aed",
   "metadata": {},
   "outputs": [],
   "source": [
    "# ROOT.EnableImplicitMT()\n",
    "\n",
    "# tree_name = config['general']['tree_name']\n",
    "# numch = config['general']['numch']\n",
    "# fp_length = config['general']['fp_length']\n",
    "# pu_flag = config['general']['pu_flag']\n",
    "# fo_flag = config['general']['fo_flag']\n",
    "\n",
    "# # file_name = \"data/rawroot_run_0064*\"\n",
    "# file_name = \"data/rawroot_run_0014*\"\n",
    "\n",
    "\n",
    "# df = ROOT.RDataFrame(tree_name, file_name)\n",
    "\n",
    "\n",
    "# s1 =  \"PulseHeight != 0\"\n",
    "# s2 =  \"PulseHeight == 0\"\n",
    "# s3 =  f\"PulseHeight == 0 && Flags == {pu_flag}\"\n",
    "# s4 =  f\"PulseHeight == 0 && Flags != {pu_flag}\"\n",
    "# s5 =  f\"PulseHeight != 0 && Flags == {pu_flag}\"\n",
    "# s6 =  f\"PulseHeight != 0 && Flags != {pu_flag}\"\n",
    "# s7 =  f\"Flags == {pu_flag}\"\n",
    "# s8 =  f\"Flags != {pu_flag}\"\n",
    "\n",
    "# df = df.Filter(f\" detector == {1}\")\n",
    "# df1 = df.Filter(f\" detector == {1} &&\"+s1)\n",
    "# df2 = df.Filter(f\" detector == {1} &&\"+s2)\n",
    "# df3 = df.Filter(f\" detector == {1} &&\"+s3)\n",
    "# df4 = df.Filter(f\" detector == {1} &&\"+s4)\n",
    "# df5 = df.Filter(f\" detector == {1} &&\"+s5)\n",
    "# df6 = df.Filter(f\" detector == {1} &&\"+s6)\n",
    "# df7 = df.Filter(f\" detector == {1} &&\"+s7)\n",
    "# df8 = df.Filter(f\" detector == {1} &&\"+s8)\n",
    "\n",
    "# c = df.Count().GetValue()\n",
    "# c1 = df1.Count().GetValue()\n",
    "# c2 = df2.Count().GetValue()\n",
    "# c3 = df3.Count().GetValue()\n",
    "# c4 = df4.Count().GetValue()\n",
    "# c5 = df5.Count().GetValue()\n",
    "# c6 = df6.Count().GetValue()\n",
    "# c7 = df7.Count().GetValue()\n",
    "# c8 = df8.Count().GetValue()\n",
    "\n",
    "# print(\"no cuts:\" + f\" {c} counts\")\n",
    "# print(s1 + f\": {c1} counts {c1/c*100}%\")\n",
    "# print(s2 + f\": {c2} counts {c2/c*100}%\")\n",
    "# print(s7 + f\": {c7} counts {c7/c*100}%\")\n",
    "# print(s8 + f\": {c8} counts {c8/c*100}%\")\n",
    "# print(s3 + f\": {c3} counts {c3/c*100}%\")\n",
    "# print(s4 + f\": {c4} counts {c4/c*100}%\")\n",
    "# print(s5 + f\": {c5} counts {c5/c*100}%\")\n",
    "# print(s6 + f\": {c6} counts {c6/c*100}%\")"
   ]
  },
  {
   "cell_type": "code",
   "execution_count": 5,
   "id": "9ea51b84-61da-435c-998a-a181c9d9c16a",
   "metadata": {
    "editable": true,
    "slideshow": {
     "slide_type": ""
    },
    "tags": []
   },
   "outputs": [],
   "source": [
    "ROOT.EnableImplicitMT()\n",
    "\n",
    "tree_name = config['general']['tree_name']\n",
    "numch = config['general']['numch']\n",
    "fp_length = config['general']['fp_length']\n",
    "pu_flag = config['general']['pu_flag']\n",
    "fo_flag = config['general']['fo_flag']\n",
    "\n",
    "file_name = \"data/rawroot_run_0014*\"\n",
    "# file_name = \"data/rawroot_run_0064*\"\n",
    "\n",
    "\n",
    "df = ROOT.RDataFrame(tree_name, file_name)\n",
    "\n",
    "df = (df.Define(\"tof_ns\",\"tof*10.0\")\n",
    "      .Define(\"tof_mus\",\"tof_ns/1000.0+0.0000001\")\n",
    "      .Define(\"En\",\"pow((72.3*21.5/(tof_ns/1000.0)),2)+0.00001\")\n",
    "      .Define(\"Egam\",\"Numba::calc_Egam(detector,PulseHeight)\"))\n",
    "\n",
    "df_ch = []\n",
    "\n",
    "for ch in range(numch):\n",
    "    \n",
    "    df_ch.append(df.Filter(f\"detector == {ch}\"))\n",
    "\n",
    "hist_dict = {}\n",
    "\n",
    "for key, hist_conf in config['hist'].items():\n",
    "    \n",
    "    # name = hist_conf['name']\n",
    "    xaxis = hist_conf['xaxis']\n",
    "    yaxis = hist_conf['yaxis']\n",
    "    \n",
    "    col = hist_conf['col']\n",
    "    gate = hist_conf['gate']\n",
    "    \n",
    "    down = hist_conf['bins']['down']\n",
    "    up = hist_conf['bins']['up']\n",
    "    N = hist_conf['bins']['N']\n",
    "    var = hist_conf['bins']['var']\n",
    "\n",
    "    \n",
    "    df_gate_ch = []\n",
    "    if gate != \"\":\n",
    "        df_gate = df.Filter(gate)\n",
    "        for ch in range(numch):\n",
    "            df_gate_ch.append(df_gate.Filter(f\"detector == {ch}\"))\n",
    "    else:\n",
    "        df_gate = df\n",
    "        df_gate_ch = df_ch\n",
    "        \n",
    "\n",
    "    if hist_conf['all']:\n",
    "\n",
    "        name = hist_conf['name']\n",
    "        title  = name + ';' + xaxis + ';' + yaxis\n",
    "        xbins = utils.get_xbins(N, down, up, var, fp_length)\n",
    "\n",
    "        hist_model_all = ROOT.RDF.TH1DModel(name, title, N, xbins)\n",
    "        hist_all = df_gate.Histo1D(hist_model_all, col)\n",
    "\n",
    "        hist_dict[key] = hist_all\n",
    "\n",
    "        # if hist_conf['pu_rate']:\n",
    "        #     hist_model_all_purate = ROOT.RDF.TH1DModel(name+\"purate\", title, N, xbins)\n",
    "        #     hist_all_purate = df_gate.Histo1D(hist_model_all, col)\n",
    "        #     hist_dict[key+\"purate\"] = hist_all_purate\n",
    "\n",
    "            \n",
    "\n",
    "    else:\n",
    "        hist_dict[key] = {}\n",
    "        for ch in range(numch):\n",
    "            \n",
    "            name = hist_conf['name'] + f'_d{ch}'\n",
    "            title  = name + ';' + xaxis + ';' + yaxis\n",
    "            xbins = utils.get_xbins(N, down, up, var, fp_length)\n",
    "\n",
    "            if 'hEgam' in name:\n",
    "                scale = calib_slope[ch]\n",
    "            else:\n",
    "                scale = 1\n",
    "\n",
    "            hist_model_ch = ROOT.RDF.TH1DModel(name, title, N, xbins*scale)\n",
    "            hist_ch = df_gate_ch[ch].Histo1D(hist_model_ch, col)\n",
    "\n",
    "            hist_dict[key][name] = hist_ch\n",
    "        \n",
    "        \n",
    "# hist_dict\n"
   ]
  },
  {
   "cell_type": "markdown",
   "id": "463ea5fa-b4a4-412f-8c65-517f17d98d48",
   "metadata": {},
   "source": [
    "## Write Histograms\n",
    "Write histograms from dictionary to a root file maintaing heirerachy. "
   ]
  },
  {
   "cell_type": "code",
   "execution_count": 6,
   "id": "f37a8d48-f40a-4157-a1b3-6a7862c705e5",
   "metadata": {
    "editable": true,
    "slideshow": {
     "slide_type": ""
    },
    "tags": []
   },
   "outputs": [],
   "source": [
    "# read_root_to_dict(\"test.root\")"
   ]
  },
  {
   "cell_type": "code",
   "execution_count": 7,
   "id": "2c9dc78f-0f27-4281-a726-7879861939a7",
   "metadata": {
    "editable": true,
    "slideshow": {
     "slide_type": ""
    },
    "tags": []
   },
   "outputs": [],
   "source": [
    "det_number = [-1,1,28,3,-1,7,6,2,-1,13,10,11,-1,9,-1,15,-1,18,17,19,-1,-1,-1,-1,-1,26,-1,-1,25,-1,-1,-1] # det number for index of position number runs 13~54\n",
    "# det_number = [-1,1,28,3,-1,7,6,2,-1,13,10,11,-1,9,-1,15,-1,18,17,-1,19,-1,-1,-1,-1,26,-1,-1,25,-1,-1,-1] #det number for index of position number runs 55~90\n",
    "\n",
    "# filename = \"stage0_output.root\"\n",
    "\n",
    "det_pos_map = ROOT.TH2I(\"det_pos_map\",\"det_pos_map;position # ;detector # \",32,0,32,32,0,32)\n",
    "det_pos_graph = ROOT.TGraph()\n",
    "det_pos_graph.SetTitle(\"det_pos_graph\")\n",
    "det_pos_graph.SetName(\"det_pos_graph\")\n",
    "det_pos_graph.GetXaxis().SetTitle(\"positon #\")\n",
    "det_pos_graph.GetYaxis().SetTitle(\"detector #\")\n",
    "\n",
    "\n",
    "\n",
    "for ch in range(numch):\n",
    "    det_pos_map.SetBinContent(ch+1,det_number[ch]+1,1)\n",
    "    det_pos_graph.AddPoint(ch,det_number[ch])\n",
    "\n",
    "# hist_dict[det_pos_map.GetName()] = det_pos_map\n",
    "# hist_dict[det_pos_graph.GetName()] = det_pos_graph\n",
    "\n",
    "\n",
    "# with ROOT.TFile(filename,\"UPDATE\") as outfile:\n",
    "\n",
    "#     if det_pos_graph.GetName() in outfile.GetListOfKeys():\n",
    "#         # print(outfile.GetListOfKeys())\n",
    "#         existing_histogram = outfile.Get(det_pos_map.GetName())\n",
    "#         existing_histogram.Delete()\n",
    "\n",
    "#     if det_pos_map.GetName() in outfile.GetListOfKeys():\n",
    "#         existing_histogram = outfile.Get(det_pos_map.GetName())\n",
    "#         existing_histogram.Delete()\n",
    "\n",
    "#     # outfile.WriteObject(det_pos_graph, det_pos_graph.GetName())\n",
    "    \n",
    "#     det_pos_graph.Write()\n",
    "#     det_pos_map.Write()"
   ]
  },
  {
   "cell_type": "code",
   "execution_count": 8,
   "id": "e7f17a12-20e9-417f-a7bc-2200292ac2f1",
   "metadata": {},
   "outputs": [],
   "source": [
    "utils.write_dict_to_root(hist_dict, \"stage0_output.root\")"
   ]
  },
  {
   "cell_type": "code",
   "execution_count": 9,
   "id": "1683c124-dc98-4279-9f48-d050f6101917",
   "metadata": {},
   "outputs": [],
   "source": [
    "# read_root_to_dict(\"stage0_output.root\")"
   ]
  },
  {
   "cell_type": "code",
   "execution_count": null,
   "id": "f8d70b51-ddaa-4921-a9f8-b42b58350c7e",
   "metadata": {},
   "outputs": [],
   "source": []
  }
 ],
 "metadata": {
  "kernelspec": {
   "display_name": "research",
   "language": "python",
   "name": "python3"
  },
  "language_info": {
   "codemirror_mode": {
    "name": "ipython",
    "version": 3
   },
   "file_extension": ".py",
   "mimetype": "text/x-python",
   "name": "python",
   "nbconvert_exporter": "python",
   "pygments_lexer": "ipython3",
   "version": "3.11.4"
  }
 },
 "nbformat": 4,
 "nbformat_minor": 5
}
