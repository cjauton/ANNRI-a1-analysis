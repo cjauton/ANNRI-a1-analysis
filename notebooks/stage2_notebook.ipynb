{
 "cells": [
  {
   "cell_type": "code",
   "execution_count": 1,
   "id": "9607fd41",
   "metadata": {},
   "outputs": [
    {
     "name": "stdout",
     "output_type": "stream",
     "text": [
      "Welcome to JupyROOT 6.28/00\n"
     ]
    }
   ],
   "source": [
    "import ROOT\n",
    "import sys\n",
    "import numpy as np\n",
    "from dataclasses import dataclass\n",
    "from utils import *\n",
    "\n",
    "%jsroot on"
   ]
  },
  {
   "cell_type": "markdown",
   "id": "8cafda87-3c99-47c2-8f8a-cb8452e4368a",
   "metadata": {},
   "source": [
    "# Defining Functions"
   ]
  },
  {
   "attachments": {},
   "cell_type": "markdown",
   "id": "3be5a5b9-6975-4153-b722-a027566f0ee6",
   "metadata": {},
   "source": [
    "## Getting Hists\n",
    "\n",
    "Using pyroot to get the detector map and generally a list of histograms from a `ROOT` file measureing "
   ]
  },
  {
   "cell_type": "code",
   "execution_count": 5,
   "id": "12b52225-9292-465b-af2c-dbf0b62c9d46",
   "metadata": {},
   "outputs": [],
   "source": [
    "def get_det_angle (file_name: str) -> list[int]:\n",
    "    \"\"\"Takes a string of a root file and returns a list containing the detector map\"\"\"\n",
    "\n",
    "    file = ROOT.TFile(file_name)\n",
    "    det_pos_graph = file.Get(\"det_pos_graph\")\n",
    "    det_pos = []\n",
    "    pos_angle = [-1,71,90,109,109,90,71,90,-1,71,90,109,109,90,71,90,-1,36,72,108,144,-1,-1,-1,-1,144,108,72,36,-1,-1,-1] \n",
    "    det_angle = []\n",
    "\n",
    "    for i in range(det_pos_graph.GetN()):\n",
    "        det_pos.append(int(det_pos_graph.Eval(i)))\n",
    "\n",
    "    file.Close()\n",
    "    \n",
    "    for i in range(len(det_pos)):\n",
    "        det_angle.append(pos_angle[det_pos[i]])\n",
    "    det_angle.append(-1)\n",
    "    return det_angle\n",
    "\n",
    "def get_hist (file_name: str, dir_name: str) -> list[ROOT.TH1]:\n",
    "    \"\"\"Takes a string of a root file and a name of a histogram and returns a list of histograms\"\"\"\n",
    "\n",
    "    list_of_hist = []\n",
    "    file = ROOT.TFile(file_name)\n",
    "\n",
    "    dir=file.Get(dir_name)\n",
    "\n",
    "    for i, key in enumerate(dir.GetListOfKeys()):\n",
    "        list_of_hist.append(dir.Get(key.GetName()))\n",
    "        list_of_hist[i].SetDirectory(0)\n",
    "\n",
    "    file.Close()\n",
    "    \n",
    "    return list_of_hist"
   ]
  },
  {
   "cell_type": "code",
   "execution_count": 6,
   "id": "2a0c5165-e880-4d2d-9841-e94f42e648c2",
   "metadata": {},
   "outputs": [],
   "source": [
    "# def get_hist_uproot(file_name: str, dir_name: str) -> list[ROOT.TH1]:"
   ]
  },
  {
   "cell_type": "code",
   "execution_count": 7,
   "id": "63c9ae54-307b-4d34-ba1b-89f11f00b0d1",
   "metadata": {},
   "outputs": [],
   "source": [
    "hist = get_hist(\"stage0_output_NaI_1.root\",\"hEn\")\n",
    "\n",
    "nbins = hist[1].GetXaxis().GetNbins()\n",
    "\n",
    "bin_edges = [hist[1].GetXaxis().GetBinLowEdge(bin) for bin in range(1, nbins+1)]\n",
    "\n",
    "# bin_edges"
   ]
  },
  {
   "attachments": {},
   "cell_type": "markdown",
   "id": "4180472b-4e1b-4faf-9281-0e4363e0793c",
   "metadata": {},
   "source": [
    "## Calculate Subtracted Histogram\n",
    "\n",
    "First the scale is caclculated from the background and used to do the background subtraction"
   ]
  },
  {
   "cell_type": "code",
   "execution_count": 8,
   "id": "09e62b5d-df6d-4952-907a-0271bc20c281",
   "metadata": {},
   "outputs": [],
   "source": [
    "def calc_scale(hEgam_bkg: list[ROOT.TH1], gate: list[float], gate_bkg: list[float]) -> list[float]:\n",
    "    \"\"\"Takes a list of histograms, calculates the scale and return the scales as a list\"\"\"\n",
    "\n",
    "    scale = []\n",
    "\n",
    "    for i in range(len(hEgam_bkg)):\n",
    "        try:     \n",
    "            num = hEgam_bkg[i].Integral(hEgam_bkg[i].GetXaxis().FindBin(gate[0]),hEgam_bkg[i].GetXaxis().FindBin(gate[1]))\n",
    "            dem = hEgam_bkg[i].Integral(hEgam_bkg[i].GetXaxis().FindBin(gate_bkg[0]),hEgam_bkg[i].GetXaxis().FindBin(gate_bkg[1]))\n",
    "            scale.append(num/dem)\n",
    "        except ZeroDivisionError:\n",
    "            scale.append(0)\n",
    "    \n",
    "    return scale\n",
    "\n",
    "def calc_hEn_sub(hist: list, hist_bkg: list, scale: list[float]) -> list[ROOT.TH1]:\n",
    "    \"\"\"Takes 2 lists of histograms and a list of scales and calculates a new histogram then returns the histograms as a list\"\"\"\n",
    "        \n",
    "    assert len(hist) == len(hist_bkg)\n",
    "    \n",
    "    hist_bkg_sub = []\n",
    "    for i in range(len(hist)):\n",
    "        hist_bkg_sub.append(hist[i]-hist_bkg[i]*scale[i])\n",
    "        hist_bkg_sub[i].SetName(hist[i].GetName()+\"_bkgsub\")\n",
    "        hist_bkg_sub[i].SetDirectory(0)\n",
    "\n",
    "    return hist_bkg_sub\n",
    "\n",
    "def calc_hEgam_bkg ( list_of_hist: list[ROOT.TH1], x1: float, x2: float) -> list[ROOT.TH1]:\n",
    "    \"\"\"Takes a list of histograms and a range in the form of x1 and x2 and returns a list of histograms\"\"\"\n",
    "\n",
    "    hEgam_bkg = []\n",
    "    for i, hist in enumerate(list_of_hist):\n",
    "        hist.GetXaxis().SetRangeUser(x1,x2)\n",
    "        hEgam_bkg.append(hist.ShowBackground(50))\n",
    "        hEgam_bkg[i].SetName(hist.GetName()+\"_bkg\")\n",
    "\n",
    "    return hEgam_bkg"
   ]
  },
  {
   "cell_type": "markdown",
   "id": "7ce68ee8-5dc3-43f8-b2d8-d9133d52fdd3",
   "metadata": {},
   "source": [
    "## Calculating N_LH"
   ]
  },
  {
   "cell_type": "code",
   "execution_count": 9,
   "id": "5e11edd0-19ab-48e9-bcb6-afddcc13c5f1",
   "metadata": {},
   "outputs": [],
   "source": [
    "def calc_N_LH(hist: list[ROOT.TH1], energy: float, width: float) -> tuple[np.array, np.array]:\n",
    "    \"\"\"Takes a list of histograms and returns a list of N_L, N_H for each histogram\"\"\"\n",
    "    \n",
    "    N_L = []\n",
    "    N_H = []\n",
    "    \n",
    "\n",
    "    for i in range(len(hist)):\n",
    "        energy_bin = hist[i].FindBin(energy)\n",
    "        width_bin = int(width//hist[i].GetBinWidth(energy_bin))\n",
    "        N_L.append(hist[i].Integral(energy_bin - width_bin, energy_bin - 1))\n",
    "        N_H.append(hist[i].Integral(energy_bin, energy_bin + width_bin))\n",
    "    \n",
    "        \n",
    "\n",
    "    return np.array(N_L), np.array(N_H)"
   ]
  },
  {
   "cell_type": "code",
   "execution_count": 10,
   "id": "8e9247d6-2650-406d-a1cd-2344ea5a96f7",
   "metadata": {
    "tags": []
   },
   "outputs": [],
   "source": [
    "# calc_N_LH(get_hist(\"stage0_output_NaI_1.root\",\"hEn\"),13.6,0.5)"
   ]
  },
  {
   "cell_type": "markdown",
   "id": "97fb8cdc-7ea7-4ed7-ac29-010c4762ac87",
   "metadata": {},
   "source": [
    "## Adding by Angle"
   ]
  },
  {
   "cell_type": "code",
   "execution_count": 11,
   "id": "e686ce92-950f-41f7-beea-ceca5e2853ff",
   "metadata": {
    "jupyter": {
     "source_hidden": true
    }
   },
   "outputs": [],
   "source": [
    "def add_by_angle(list_by_det: list[list[any]], det_angle: list[list[int]]) -> list[any]:\n",
    "    \"\"\"DEPRICATED\n",
    "    \n",
    "    Takes a lists of lists to be added by detector\n",
    "    \"\"\"\n",
    "    \n",
    "    angle_list = [36,71,72,90,108,109,144]\n",
    "    list_by_angle = [0] * len(angle_list)\n",
    "    \n",
    "    for i, sublist in enumerate(list_by_det):\n",
    "        for j, value in enumerate(sublist):\n",
    "             for k, angle in enumerate(angle_list):\n",
    "                if angle == det_angle[i][j]:\n",
    "                    list_by_angle[k]+=value\n",
    "               \n",
    "    return list_by_angle"
   ]
  },
  {
   "cell_type": "code",
   "execution_count": 12,
   "id": "8969d6c0-0da5-4a4e-885f-460463c06895",
   "metadata": {},
   "outputs": [],
   "source": [
    "def sort_by_angle(list_by_det: list[any], det_angle_map: list[int]) -> list[any]:\n",
    "    \"\"\"Takes a lists and a detector angle map and returns an angle sorted list \"\"\"\n",
    "    \n",
    "    assert len(list_by_det) == len(det_angle_map)\n",
    "                  \n",
    "    angle_list = [36,71,72,90,108,109,144]\n",
    "    list_by_angle = [0] * len(angle_list)\n",
    "    \n",
    "    for i, value in enumerate(list_by_det):\n",
    "         for j, angle in enumerate(angle_list):\n",
    "            if angle == det_angle_map[i]:\n",
    "                list_by_angle[j]+=value\n",
    "               \n",
    "    return np.array(list_by_angle)"
   ]
  },
  {
   "cell_type": "code",
   "execution_count": 13,
   "id": "c9202d05-90e2-40a6-bb4a-9636cae13096",
   "metadata": {},
   "outputs": [],
   "source": [
    "# list1 = [[0.01,0.01,0.01],[0.1,0.1,0.1],[1,1,1]]\n",
    "# list2 = [[36,109,144],[36,109,144],[36,109,144]]\n",
    "# add_by_angle(list1,list2)\n",
    "# sort_by_angle([1,2,3],[36,109,108,90])"
   ]
  },
  {
   "cell_type": "markdown",
   "id": "fe0f9904-9598-4674-9702-848200b743ea",
   "metadata": {},
   "source": [
    "## Calculating A_LH"
   ]
  },
  {
   "cell_type": "code",
   "execution_count": 14,
   "id": "596b859d",
   "metadata": {},
   "outputs": [],
   "source": [
    "def A_LH (N_L: float, N_H: float) -> float:\n",
    "    \"\"\"Takes two floats N_L and N_H and returns A_LH\"\"\"\n",
    "\n",
    "    return (N_L - N_H) / (N_L + N_H)\n",
    "\n",
    "def dA_LH (N_L: float, N_H: float) -> float:\n",
    "    \"\"\"Takes two floats N_L and N_H and returns dA_LH\"\"\"\n",
    "\n",
    "    return 2 * np.sqrt((N_L * N_L * N_H + N_L * N_H * N_H)) / (N_L + N_H) / (N_L + N_H)"
   ]
  },
  {
   "cell_type": "code",
   "execution_count": 15,
   "id": "f20ad7dd-8a26-4057-94f0-cdec4e32d209",
   "metadata": {},
   "outputs": [],
   "source": [
    "# arr1 = np.array([1, 2, 3, -1, 5])\n",
    "# arr2 = np.array([2, 3, 4, 1, 6])\n",
    "# A_LH(arr1,arr2)"
   ]
  },
  {
   "cell_type": "markdown",
   "id": "0e2f300b-41a8-482a-83d3-57f4845fd497",
   "metadata": {},
   "source": [
    "## Drawing Histograms"
   ]
  },
  {
   "cell_type": "code",
   "execution_count": 16,
   "id": "1278a4c9",
   "metadata": {},
   "outputs": [],
   "source": [
    "def draw_hist (list_of_hist: list[ROOT.TH1]) -> list[ROOT.TCanvas]:\n",
    "    \"\"\"Takes a list of histograms and draws each one\"\"\"\n",
    "\n",
    "    if type(list_of_hist) is not list: list_of_hist = [list_of_hist]\n",
    "    \n",
    "    hist_canvas = []\n",
    "    \n",
    "    for i, hist in enumerate(list_of_hist): \n",
    "        if hist.GetEntries() != 0:\n",
    "            hist_canvas.append(ROOT.TCanvas(hist.GetName(),hist.GetName(),500,400))\n",
    "            hist.Draw(\"E1\")\n",
    "    for canvas in hist_canvas:     \n",
    "        canvas.Draw()\n",
    "    return hist_canvas"
   ]
  },
  {
   "cell_type": "code",
   "execution_count": 17,
   "id": "620d35a9-1bde-44c1-95e7-7fd7dac5a627",
   "metadata": {},
   "outputs": [],
   "source": [
    "# hist = get_hist(\"stage0_output_NaI_1.root\",\"hEn\")\n",
    "# draw_hist(hist[1])"
   ]
  },
  {
   "cell_type": "code",
   "execution_count": 18,
   "id": "11f4d1d0-fa06-4dd3-b69a-d21583c25c4a",
   "metadata": {
    "editable": true,
    "slideshow": {
     "slide_type": ""
    },
    "tags": []
   },
   "outputs": [],
   "source": [
    "def create_A_LH_graph(x: np.array, y: np.array, dx: np.array = None , dy: np.array = None, title: str = \"A_{LH}\") -> ROOT.TGraphErrors:\n",
    "    \"\"\"Takes a np.array of the x and y values and their errors and returns a TGraphErrors\"\"\"\n",
    "    \n",
    "    if dx is None: dx = np.zeros_like(x)\n",
    "    if dy is None: dy = np.zeros_like(y)\n",
    "\n",
    "    x = x.astype('f')\n",
    "    y = y.astype('f')\n",
    "    dx = dx.astype('f')\n",
    "    dy = dy.astype('f')\n",
    "\n",
    "    global graph\n",
    "    graph = ROOT.TGraphErrors(len(x), x, y, dx, dy)\n",
    "\n",
    "    graph.SetMarkerStyle(20)\n",
    "    graph.GetXaxis().SetTitle(\"cos#theta_{#gamma}\")\n",
    "    graph.GetYaxis().SetTitle(\"A_{LH}\")\n",
    "    graph.SetTitle(title)\n",
    "\n",
    "    return graph\n",
    "\n",
    "def linear_fit_and_plot (graph: ROOT.TGraphErrors) -> ROOT.TCanvas:\n",
    "    \"\"\"Takes TGraphErrors returns a plot with a linear fit\"\"\"\n",
    "\n",
    "    graph_canvas = ROOT.TCanvas(graph.GetTitle(), graph.GetTitle(), 600,500)\n",
    "    graph.Draw(\"AP\")\n",
    "    fitFunc = ROOT.TF1(\"fitFunc\", \"[0] * x + [1]\")\n",
    "    graph.Fit(fitFunc, \"Q\")\n",
    "    ROOT.gStyle.SetOptFit(1)\n",
    "    graph_canvas.Draw()\n",
    "\n",
    "    return graph_canvas"
   ]
  },
  {
   "cell_type": "code",
   "execution_count": 19,
   "id": "f6bef97c-36e8-4a37-937f-c8e3d055747e",
   "metadata": {},
   "outputs": [],
   "source": [
    "# g=create_A_LH_graph(np.array([0,1,2,3]), np.array([0,1,2,3]),np.array([0,1,2,3]),np.array([0,1,2,3]))\n",
    "# linear_fit_and_plot(g)"
   ]
  },
  {
   "cell_type": "markdown",
   "id": "a07c91aa-8409-449a-9750-4d81038e8c01",
   "metadata": {},
   "source": [
    "## Converting TOF to En"
   ]
  },
  {
   "cell_type": "code",
   "execution_count": 20,
   "id": "4d26fb55-726d-4cac-ae31-b9e7ea0f8f3f",
   "metadata": {},
   "outputs": [],
   "source": [
    "def htof_to_hEn (list_of_hist: ROOT.TH1, length: float) -> ROOT.TH1:\n",
    "    \"\"\"Takes a list of histograms and converts from time-of-flight to neutron energy\"\"\"\n",
    "\n",
    "    y = list_of_hist[1].GetArray()\n",
    "    y.SetSize(list_of_hist[1].GetNbinsX())\n",
    "    y = np.array(y)\n",
    "\n",
    "    return y"
   ]
  },
  {
   "cell_type": "code",
   "execution_count": 33,
   "id": "ac979856-760f-4d10-b578-ec68c4308c29",
   "metadata": {},
   "outputs": [],
   "source": [
    "# hist = get_hist(\"stage0_output_NaI_1.root\",\"hTOF\")\n",
    "# htof_to_hEn(hist, 21.5)"
   ]
  },
  {
   "cell_type": "markdown",
   "id": "926cdefe-dbda-4b89-a0f8-17dd36bb61d6",
   "metadata": {},
   "source": [
    "## RDataFrame Testing"
   ]
  },
  {
   "cell_type": "code",
   "execution_count": 32,
   "id": "61598328-7917-4f03-ada4-95b974797420",
   "metadata": {},
   "outputs": [],
   "source": [
    "# ROOT.EnableImplicitMT()\n",
    "# tree_name = \"rawTree\"\n",
    "# file_name = \"/Volumes/WD_BLACK/2023Apr/Ge/rawroot/rawroot_run_001[4-9]*\"\n",
    "\n",
    "# df = ROOT.RDataFrame(tree_name, file_name)\n",
    "# print(df.GetColumnNames())\n",
    "# print(df.GetColumnType(\"tof\"))\n",
    "# df = df.Define(\"En\",\"pow((72.3*21.5/(tof*10./1000.0)),2)\")\n",
    "\n",
    "# print(df.GetDefinedColumnNames())\n",
    "\n",
    "# print(df.Display())\n"
   ]
  },
  {
   "attachments": {},
   "cell_type": "markdown",
   "id": "3219f1a1-57f9-4a8c-ac12-ad655cd09c8d",
   "metadata": {},
   "source": [
    "# Testing Script"
   ]
  },
  {
   "cell_type": "markdown",
   "id": "2459b3fe-05c9-438c-8492-e9bff135a986",
   "metadata": {},
   "source": [
    "## Defining Globals"
   ]
  },
  {
   "cell_type": "code",
   "execution_count": 34,
   "id": "694b56fd-5dc6-4fc1-810e-d9b5bebe2d92",
   "metadata": {
    "editable": true,
    "slideshow": {
     "slide_type": ""
    },
    "tags": []
   },
   "outputs": [],
   "source": [
    "E_p = 22.2\n",
    "G_p = 0.5\n",
    "hEgam_gate_FA = [6637,6702] # 127I\n",
    "hEgam_gate_FE = [6150,6194] # 127I\n",
    "hEgam_gate_FA_bkg = [6777,7044] # 127I\n",
    "\n",
    "angle = np.array([36,71,72,90,108,109,144])\n",
    "cos_angle = np.cos(np.pi/180*angle)\n",
    "\n",
    "input_file1 = \"stage0_output_NaI_1.root\"\n",
    "input_file2 = \"stage0_output_NaI_2.root\""
   ]
  },
  {
   "cell_type": "markdown",
   "id": "5ae82118-adc7-4f11-9832-573dce593f40",
   "metadata": {},
   "source": [
    "## Getting Histograms"
   ]
  },
  {
   "cell_type": "code",
   "execution_count": 35,
   "id": "7967f7d8-f8a3-4eae-a096-b1059334e8fb",
   "metadata": {
    "editable": true,
    "slideshow": {
     "slide_type": ""
    },
    "tags": []
   },
   "outputs": [],
   "source": [
    "det_angle1 = get_det_angle(input_file1)\n",
    "hEn1 = get_hist(input_file1,\"hEn_gated_FA\")\n",
    "hEn_bkg1 = get_hist(input_file1,\"hEn_gated_FA_bkg\")\n",
    "hEgam1 = get_hist(input_file1,\"hEgam\")\n",
    "\n",
    "det_angle2 = get_det_angle(input_file2)\n",
    "hEn2 = get_hist(input_file2,\"hEn_gated_FA\")\n",
    "hEn_bkg2 = get_hist(input_file2,\"hEn_gated_FA_bkg\")\n",
    "hEgam2 = get_hist(input_file2,\"hEgam\")"
   ]
  },
  {
   "cell_type": "markdown",
   "id": "cc7d28ac-3822-4199-9d07-182e8824e029",
   "metadata": {},
   "source": [
    "## Performing Background Subtractions"
   ]
  },
  {
   "cell_type": "code",
   "execution_count": 36,
   "id": "1ae777de-b716-44d4-87e4-5053946a15a6",
   "metadata": {
    "editable": true,
    "slideshow": {
     "slide_type": ""
    },
    "tags": []
   },
   "outputs": [
    {
     "name": "stderr",
     "output_type": "stream",
     "text": [
      "Info in <TCanvas::MakeDefCanvas>:  created default TCanvas with name c1\n"
     ]
    }
   ],
   "source": [
    "hEgam_bkg2 = calc_hEgam_bkg(hEgam2,6500,7100)\n",
    "scale2 = calc_scale(hEgam_bkg2, hEgam_gate_FA, hEgam_gate_FA_bkg)\n",
    "hEn_sub2 = calc_hEn_sub(hEn2, hEn_bkg2, scale2)\n",
    "\n",
    "\n",
    "hEgam_bkg1 = calc_hEgam_bkg(hEgam1,6500,7100)\n",
    "scale1 = calc_scale(hEgam_bkg1, hEgam_gate_FA, hEgam_gate_FA_bkg)\n",
    "hEn_sub1 = calc_hEn_sub(hEn1, hEn_bkg1, scale1)"
   ]
  },
  {
   "cell_type": "markdown",
   "id": "20477bc3-7a18-4529-968b-25113852c1ac",
   "metadata": {},
   "source": [
    "## Calculating N_L and N_H"
   ]
  },
  {
   "cell_type": "code",
   "execution_count": 37,
   "id": "9b2d2954-4093-47c4-b72d-10847d84d83b",
   "metadata": {},
   "outputs": [],
   "source": [
    "N_L_det2, N_H_det2 = calc_N_LH(hEn_sub2, E_p, G_p)\n",
    "N_L_det1, N_H_det1 = calc_N_LH(hEn_sub1, E_p, G_p)"
   ]
  },
  {
   "cell_type": "markdown",
   "id": "86f9b1c5-dfa0-46cc-92a8-5ef37036a997",
   "metadata": {},
   "source": [
    "## Adding N_L and N_H By Angle"
   ]
  },
  {
   "cell_type": "code",
   "execution_count": 38,
   "id": "a39f4126-0735-4ef7-9520-4aede9c85790",
   "metadata": {
    "tags": []
   },
   "outputs": [],
   "source": [
    "N_L_angle1 = sort_by_angle(N_L_det1,det_angle1)\n",
    "N_H_angle1 = sort_by_angle(N_H_det1,det_angle1)\n",
    "N_L_angle2 = sort_by_angle(N_L_det2,det_angle2)\n",
    "N_H_angle2 = sort_by_angle(N_H_det2,det_angle2)"
   ]
  },
  {
   "cell_type": "code",
   "execution_count": 39,
   "id": "8678be9e-0034-4aea-bf24-155135772c84",
   "metadata": {
    "tags": []
   },
   "outputs": [],
   "source": [
    "# N_L_angle1"
   ]
  },
  {
   "cell_type": "markdown",
   "id": "c525b3fc-9c0e-47b0-b0e4-3a1bcfe571a7",
   "metadata": {
    "tags": []
   },
   "source": [
    "## Adding Runs"
   ]
  },
  {
   "cell_type": "code",
   "execution_count": 40,
   "id": "b29d6123-e776-45f9-829e-a0dcff530e54",
   "metadata": {},
   "outputs": [],
   "source": [
    "N_L_angle = N_L_angle1 + N_L_angle2 \n",
    "N_H_angle = N_H_angle1 + N_H_angle2 \n"
   ]
  },
  {
   "cell_type": "code",
   "execution_count": 41,
   "id": "b68a976a-92cb-4393-84a4-74c88c20b3dc",
   "metadata": {},
   "outputs": [],
   "source": [
    "# print(N_L_angle)\n",
    "# print(N_H_angle)\n",
    "# N_L_angle"
   ]
  },
  {
   "cell_type": "markdown",
   "id": "1c4a7178-ebd5-4dcf-8b2e-a585e7eb27aa",
   "metadata": {},
   "source": [
    "## Calculating A_LH and dA_LH"
   ]
  },
  {
   "cell_type": "code",
   "execution_count": 42,
   "id": "4fd890f5-5127-42ce-997d-85f68e30d2ae",
   "metadata": {},
   "outputs": [
    {
     "name": "stderr",
     "output_type": "stream",
     "text": [
      "/var/folders/xg/rnpq_36x4jqgm4p1d_0gd47c0000gn/T/ipykernel_97466/870674217.py:9: RuntimeWarning: invalid value encountered in sqrt\n",
      "  return 2 * np.sqrt((N_L * N_L * N_H + N_L * N_H * N_H)) / (N_L + N_H) / (N_L + N_H)\n"
     ]
    }
   ],
   "source": [
    "A_LH_angle = A_LH(N_L_angle,N_H_angle)\n",
    "dA_LH_angle = dA_LH(N_L_angle,N_H_angle)\n",
    "\n",
    "A_LH_angle1 = A_LH(N_L_angle1,N_H_angle1)\n",
    "dA_LH_angle1 = dA_LH(N_L_angle1,N_H_angle1)\n",
    "\n",
    "A_LH_angle2 = A_LH(N_L_angle2,N_H_angle2)\n",
    "dA_LH_angle2 = dA_LH(N_L_angle2,N_H_angle2)\n"
   ]
  },
  {
   "cell_type": "code",
   "execution_count": 44,
   "id": "1775a67f",
   "metadata": {},
   "outputs": [
    {
     "data": {
      "text/plain": [
       "<cppyy.gbl.TCanvas object at 0x105f38d60>"
      ]
     },
     "execution_count": 44,
     "metadata": {},
     "output_type": "execute_result"
    },
    {
     "name": "stderr",
     "output_type": "stream",
     "text": [
      "Warning in <TCanvas::Constructor>: Deleting canvas with same name: A_{LH}\n"
     ]
    },
    {
     "data": {
      "text/html": [
       "\n",
       "\n",
       "<div id=\"root_plot_1687359020039\"\n",
       "     style=\"width: 596px; height: 472px\">\n",
       "</div>\n",
       "<script>\n",
       "\n",
       "function display_root_plot_1687359020039(Core) {\n",
       "   let obj = Core.parse({\"_typename\":\"TCanvas\",\"fUniqueID\":0,\"fBits\":3342344,\"fLineColor\":1,\"fLineStyle\":1,\"fLineWidth\":1,\"fFillColor\":0,\"fFillStyle\":1001,\"fLeftMargin\":0.1,\"fRightMargin\":0.1,\"fBottomMargin\":0.1,\"fTopMargin\":0.1,\"fXfile\":2,\"fYfile\":2,\"fAfile\":1,\"fXstat\":0.99,\"fYstat\":0.99,\"fAstat\":2,\"fFrameFillColor\":0,\"fFrameLineColor\":1,\"fFrameFillStyle\":1001,\"fFrameLineStyle\":1,\"fFrameLineWidth\":1,\"fFrameBorderSize\":1,\"fFrameBorderMode\":0,\"fX1\":-1.21352552195677,\"fY1\":-0.890404653803734,\"fX2\":1.21352552195677,\"fY2\":0.49375908549252,\"fXtoAbsPixelk\":298.00005,\"fXtoPixelk\":298.00005,\"fXtoPixel\":245.56549871278,\"fYtoAbsPixelk\":168.371956976093,\"fYtoPixelk\":168.371956976093,\"fYtoPixel\":-341.000119133288,\"fUtoAbsPixelk\":5e-5,\"fUtoPixelk\":5e-5,\"fUtoPixel\":596,\"fVtoAbsPixelk\":472.00005,\"fVtoPixelk\":472,\"fVtoPixel\":-472,\"fAbsPixeltoXk\":-1.21352552195677,\"fPixeltoXk\":-1.21352552195677,\"fPixeltoX\":0.00407223329515693,\"fAbsPixeltoYk\":0.49375908549252,\"fPixeltoYk\":-0.890404653803734,\"fPixeltoY\":-0.00293255029511918,\"fXlowNDC\":0,\"fYlowNDC\":0,\"fXUpNDC\":1,\"fYUpNDC\":1,\"fWNDC\":1,\"fHNDC\":1,\"fAbsXlowNDC\":0,\"fAbsYlowNDC\":0,\"fAbsWNDC\":1,\"fAbsHNDC\":1,\"fUxmin\":-0.97082040309906,\"fUymin\":-0.75198827162385,\"fUxmax\":0.97082040309906,\"fUymax\":0.355342703312635,\"fTheta\":30,\"fPhi\":30,\"fAspectRatio\":0,\"fNumber\":0,\"fTickx\":0,\"fTicky\":0,\"fLogx\":0,\"fLogy\":0,\"fLogz\":0,\"fPadPaint\":0,\"fCrosshair\":0,\"fCrosshairPos\":0,\"fBorderSize\":2,\"fBorderMode\":0,\"fModified\":false,\"fGridx\":false,\"fGridy\":false,\"fAbsCoord\":false,\"fEditable\":true,\"fFixedAspectRatio\":false,\"fPrimitives\":{\"_typename\":\"TList\",\"name\":\"TList\",\"arr\":[{\"_typename\":\"TFrame\",\"fUniqueID\":0,\"fBits\":8,\"fLineColor\":1,\"fLineStyle\":1,\"fLineWidth\":1,\"fFillColor\":0,\"fFillStyle\":1001,\"fX1\":-0.97082040309906,\"fY1\":-0.75198827162385,\"fX2\":0.97082040309906,\"fY2\":0.355342703312635,\"fBorderSize\":1,\"fBorderMode\":0},{\"_typename\":\"TGraphErrors\",\"fUniqueID\":0,\"fBits\":1032,\"fName\":\"Graph\",\"fTitle\":\"A_{LH}\",\"fLineColor\":1,\"fLineStyle\":1,\"fLineWidth\":1,\"fFillColor\":0,\"fFillStyle\":1000,\"fMarkerColor\":1,\"fMarkerStyle\":20,\"fMarkerSize\":1,\"fNpoints\":7,\"fX\":{\"$arr\":\"Float64\",\"len\":7,\"v\":[0.80901700258255,0.325568169355392,0.30901700258255,6.12323426292584e-17,-0.30901700258255,-0.325568169355392,-0.80901700258255]},\"fY\":{\"$arr\":\"Float64\",\"len\":7,\"v\":[0.140914842486382,-0.149705648422241,-0.503421425819397,-0.251313596963882,-0.127233222126961,0.0738767310976982,0.0573659650981426]},\"fFunctions\":{\"_typename\":\"TList\",\"name\":\"TList\",\"arr\":[{\"_typename\":\"TF1\",\"fUniqueID\":0,\"fBits\":1024,\"fName\":\"fitFunc\",\"fTitle\":\"[0] * x + [1]\",\"fLineColor\":2,\"fLineStyle\":1,\"fLineWidth\":2,\"fFillColor\":19,\"fFillStyle\":0,\"fMarkerColor\":1,\"fMarkerStyle\":1,\"fMarkerSize\":1,\"fXmin\":-0.97082040309906,\"fXmax\":0.97082040309906,\"fNpar\":2,\"fNdim\":1,\"fNpx\":100,\"fType\":0,\"fNpfits\":7,\"fNDF\":5,\"fChisquare\":19.5569144651011,\"fMinimum\":-1111,\"fMaximum\":-1111,\"fParErrors\":[0.0961571128531078,0.0384767719027115],\"fParMin\":[0,0],\"fParMax\":[0,0],\"fSave\":{\"$arr\":\"Float64\",\"len\":103,\"v\":[-0.0645315662536877,-0.0655086299364909,-0.066485693619294,-0.0674627573020972,-0.0684398209849003,-0.0694168846677035,-0.0703939483505066,-0.0713710120333098,-0.0723480757161129,-0.0733251393989161,-0.0743022030817192,-0.0752792667645224,-0.0762563304473255,-0.0772333941301287,-0.0782104578129319,-0.079187521495735,-0.0801645851785382,-0.0811416488613413,-0.0821187125441445,-0.0830957762269476,-0.0840728399097508,-0.0850499035925539,-0.0860269672753571,-0.0870040309581602,-0.0879810946409634,-0.0889581583237666,-0.0899352220065697,-0.0909122856893728,-0.091889349372176,-0.0928664130549792,-0.0938434767377823,-0.0948205404205855,-0.0957976041033886,-0.0967746677861918,-0.0977517314689949,-0.0987287951517981,-0.0997058588346012,-0.100682922517404,-0.101659986200208,-0.102637049883011,-0.103614113565814,-0.104591177248617,-0.10556824093142,-0.106545304614223,-0.107522368297026,-0.10849943197983,-0.109476495662633,-0.110453559345436,-0.111430623028239,-0.112407686711042,-0.113384750393845,-0.114361814076649,-0.115338877759452,-0.116315941442255,-0.117293005125058,-0.118270068807861,-0.119247132490664,-0.120224196173467,-0.121201259856271,-0.122178323539074,-0.123155387221877,-0.12413245090468,-0.125109514587483,-0.126086578270286,-0.12706364195309,-0.128040705635893,-0.129017769318696,-0.129994833001499,-0.130971896684302,-0.131948960367105,-0.132926024049908,-0.133903087732712,-0.134880151415515,-0.135857215098318,-0.136834278781121,-0.137811342463924,-0.138788406146727,-0.139765469829531,-0.140742533512334,-0.141719597195137,-0.14269666087794,-0.143673724560743,-0.144650788243546,-0.145627851926349,-0.146604915609153,-0.147581979291956,-0.148559042974759,-0.149536106657562,-0.150513170340365,-0.151490234023168,-0.152467297705972,-0.153444361388775,-0.154421425071578,-0.155398488754381,-0.156375552437184,-0.157352616119987,-0.15832967980279,-0.159306743485594,-0.160283807168397,-0.1612608708512,-0.162237934534003,-0.97082040309906,0.97082040309906]},\"fNormalized\":false,\"fNormIntegral\":0,\"fFormula\":{\"_typename\":\"TFormula\",\"fUniqueID\":0,\"fBits\":1024,\"fName\":\"fitFunc\",\"fTitle\":\"[0] * x + [1]\",\"fClingParameters\":[-0.0503215465849381,-0.113384750393845],\"fAllParametersSetted\":true,\"fParams\":[{\"$pair\":\"pair<TString,int,TFormulaParamOrder>\",\"first\":\"p0\",\"second\":0},{\"$pair\":\"pair<TString,int,TFormulaParamOrder>\",\"first\":\"p1\",\"second\":1}],\"fFormula\":\"[p0]*x+[p1]\",\"fNdim\":1,\"fLinearParts\":[],\"fVectorized\":false},\"fParams\":null,\"fComposition\":null},{\"_typename\":\"TPaveStats\",\"fUniqueID\":0,\"fBits\":9,\"fLineColor\":1,\"fLineStyle\":1,\"fLineWidth\":1,\"fFillColor\":0,\"fFillStyle\":1001,\"fX1\":0.291246158542232,\"fY1\":0.182322252401122,\"fX2\":1.16498454737082,\"fY2\":0.403788445738367,\"fX1NDC\":0.620000013709068,\"fY1NDC\":0.775000005960464,\"fX2NDC\":0.980000019073486,\"fY2NDC\":0.935000002384186,\"fBorderSize\":1,\"fInit\":1,\"fShadowColor\":1,\"fCornerRadius\":0,\"fOption\":\"brNDC\",\"fName\":\"stats\",\"fTextAngle\":0,\"fTextSize\":0,\"fTextAlign\":12,\"fTextColor\":1,\"fTextFont\":42,\"fLabel\":\"\",\"fLongest\":32,\"fMargin\":0.05,\"fLines\":{\"_typename\":\"TList\",\"name\":\"TList\",\"arr\":[{\"_typename\":\"TLatex\",\"fUniqueID\":0,\"fBits\":0,\"fName\":\"\",\"fTitle\":\"#chi^{2} \\/ ndf = 19.56 \\/ 5\",\"fTextAngle\":0,\"fTextSize\":0,\"fTextAlign\":0,\"fTextColor\":0,\"fTextFont\":0,\"fX\":0,\"fY\":0,\"fLineColor\":1,\"fLineStyle\":1,\"fLineWidth\":2,\"fLimitFactorSize\":3,\"fOriginSize\":0.04},{\"_typename\":\"TLatex\",\"fUniqueID\":0,\"fBits\":0,\"fName\":\"\",\"fTitle\":\"p0       = -0.05032 #pm 0.09616 \",\"fTextAngle\":0,\"fTextSize\":0,\"fTextAlign\":0,\"fTextColor\":0,\"fTextFont\":0,\"fX\":0,\"fY\":0,\"fLineColor\":1,\"fLineStyle\":1,\"fLineWidth\":2,\"fLimitFactorSize\":3,\"fOriginSize\":0.04},{\"_typename\":\"TLatex\",\"fUniqueID\":0,\"fBits\":0,\"fName\":\"\",\"fTitle\":\"p1       = -0.1134 #pm 0.03848 \",\"fTextAngle\":0,\"fTextSize\":0,\"fTextAlign\":0,\"fTextColor\":0,\"fTextFont\":0,\"fX\":0,\"fY\":0,\"fLineColor\":1,\"fLineStyle\":1,\"fLineWidth\":2,\"fLimitFactorSize\":3,\"fOriginSize\":0.04}],\"opt\":[\"\",\"\",\"\"]},\"fOptFit\":111,\"fOptStat\":0,\"fFitFormat\":\"5.4g\",\"fStatFormat\":\"6.4g\",\"fParent\":{\"$ref\":4}}],\"opt\":[\"\",\"brNDC\"]},\"fHistogram\":{\"_typename\":\"TH1F\",\"fUniqueID\":0,\"fBits\":512,\"fName\":\"Graph\",\"fTitle\":\"A_{LH}\",\"fLineColor\":602,\"fLineStyle\":1,\"fLineWidth\":1,\"fFillColor\":0,\"fFillStyle\":1001,\"fMarkerColor\":1,\"fMarkerStyle\":1,\"fMarkerSize\":1,\"fNcells\":102,\"fXaxis\":{\"_typename\":\"TAxis\",\"fUniqueID\":0,\"fBits\":0,\"fName\":\"xaxis\",\"fTitle\":\"cos#theta_{#gamma}\",\"fNdivisions\":510,\"fAxisColor\":1,\"fLabelColor\":1,\"fLabelFont\":42,\"fLabelOffset\":0.005,\"fLabelSize\":0.035,\"fTickLength\":0.03,\"fTitleOffset\":1,\"fTitleSize\":0.035,\"fTitleColor\":1,\"fTitleFont\":42,\"fNbins\":100,\"fXmin\":-0.97082040309906,\"fXmax\":0.97082040309906,\"fXbins\":[],\"fFirst\":0,\"fLast\":0,\"fBits2\":0,\"fTimeDisplay\":false,\"fTimeFormat\":\"\",\"fLabels\":null,\"fModLabs\":null},\"fYaxis\":{\"_typename\":\"TAxis\",\"fUniqueID\":0,\"fBits\":0,\"fName\":\"yaxis\",\"fTitle\":\"A_{LH}\",\"fNdivisions\":510,\"fAxisColor\":1,\"fLabelColor\":1,\"fLabelFont\":42,\"fLabelOffset\":0.005,\"fLabelSize\":0.035,\"fTickLength\":0.03,\"fTitleOffset\":0,\"fTitleSize\":0.035,\"fTitleColor\":1,\"fTitleFont\":42,\"fNbins\":1,\"fXmin\":-0.75198827162385,\"fXmax\":0.355342703312635,\"fXbins\":[],\"fFirst\":0,\"fLast\":0,\"fBits2\":0,\"fTimeDisplay\":false,\"fTimeFormat\":\"\",\"fLabels\":null,\"fModLabs\":null},\"fZaxis\":{\"_typename\":\"TAxis\",\"fUniqueID\":0,\"fBits\":0,\"fName\":\"zaxis\",\"fTitle\":\"\",\"fNdivisions\":510,\"fAxisColor\":1,\"fLabelColor\":1,\"fLabelFont\":42,\"fLabelOffset\":0.005,\"fLabelSize\":0.035,\"fTickLength\":0.03,\"fTitleOffset\":1,\"fTitleSize\":0.035,\"fTitleColor\":1,\"fTitleFont\":42,\"fNbins\":1,\"fXmin\":0,\"fXmax\":1,\"fXbins\":[],\"fFirst\":0,\"fLast\":0,\"fBits2\":0,\"fTimeDisplay\":false,\"fTimeFormat\":\"\",\"fLabels\":null,\"fModLabs\":null},\"fBarOffset\":0,\"fBarWidth\":1000,\"fEntries\":0,\"fTsumw\":0,\"fTsumw2\":0,\"fTsumwx\":0,\"fTsumwx2\":0,\"fMaximum\":0.355342703312635,\"fMinimum\":-0.75198827162385,\"fNormFactor\":0,\"fContour\":[],\"fSumw2\":[],\"fOption\":\"\",\"fFunctions\":{\"_typename\":\"TList\",\"name\":\"TList\",\"arr\":[],\"opt\":[]},\"fBufferSize\":0,\"fBuffer\":[],\"fBinStatErrOpt\":0,\"fStatOverflows\":2,\"fArray\":{\"$arr\":\"Float32\",\"len\":102}},\"fMinimum\":-1111,\"fMaximum\":-1111,\"fEX\":{\"$arr\":\"Float64\",\"len\":7},\"fEY\":{\"$arr\":\"Float64\",\"len\":7,\"v\":[0.122150279581547,0.0830282717943192,0.156289264559746,0.0732030645012856,0.115112870931625,0.0892848670482635,0.161703109741211]}},{\"_typename\":\"TPaveText\",\"fUniqueID\":0,\"fBits\":9,\"fLineColor\":1,\"fLineStyle\":1,\"fLineWidth\":1,\"fFillColor\":0,\"fFillStyle\":0,\"fX1\":-0.101642943047117,\"fY1\":0.39886176454267,\"fX2\":0.101642943047117,\"fY2\":0.486838273396246,\"fX1NDC\":0.458120805369128,\"fY1NDC\":0.931440682734473,\"fX2NDC\":0.541879194630873,\"fY2NDC\":0.995000004768372,\"fBorderSize\":0,\"fInit\":1,\"fShadowColor\":1,\"fCornerRadius\":0,\"fOption\":\"blNDC\",\"fName\":\"title\",\"fTextAngle\":0,\"fTextSize\":0,\"fTextAlign\":22,\"fTextColor\":1,\"fTextFont\":42,\"fLabel\":\"\",\"fLongest\":6,\"fMargin\":0.05,\"fLines\":{\"_typename\":\"TList\",\"name\":\"TList\",\"arr\":[{\"_typename\":\"TLatex\",\"fUniqueID\":0,\"fBits\":0,\"fName\":\"\",\"fTitle\":\"A_{LH}\",\"fTextAngle\":0,\"fTextSize\":0,\"fTextAlign\":0,\"fTextColor\":0,\"fTextFont\":0,\"fX\":0,\"fY\":0,\"fLineColor\":1,\"fLineStyle\":1,\"fLineWidth\":2,\"fLimitFactorSize\":3,\"fOriginSize\":0.0540254227817059}],\"opt\":[\"\"]}},{\"_typename\":\"TStyle\",\"fUniqueID\":0,\"fBits\":0,\"fName\":\"Modern\",\"fTitle\":\"Modern Style\",\"fLineColor\":1,\"fLineStyle\":1,\"fLineWidth\":1,\"fFillColor\":19,\"fFillStyle\":1001,\"fMarkerColor\":1,\"fMarkerStyle\":1,\"fMarkerSize\":1,\"fTextAngle\":0,\"fTextSize\":0.05,\"fTextAlign\":11,\"fTextColor\":1,\"fTextFont\":62,\"fXaxis\":{\"_typename\":\"TAttAxis\",\"fNdivisions\":510,\"fAxisColor\":1,\"fLabelColor\":1,\"fLabelFont\":42,\"fLabelOffset\":0.005,\"fLabelSize\":0.035,\"fTickLength\":0.03,\"fTitleOffset\":1,\"fTitleSize\":0.035,\"fTitleColor\":1,\"fTitleFont\":42},\"fYaxis\":{\"_typename\":\"TAttAxis\",\"fNdivisions\":510,\"fAxisColor\":1,\"fLabelColor\":1,\"fLabelFont\":42,\"fLabelOffset\":0.005,\"fLabelSize\":0.035,\"fTickLength\":0.03,\"fTitleOffset\":0,\"fTitleSize\":0.035,\"fTitleColor\":1,\"fTitleFont\":42},\"fZaxis\":{\"_typename\":\"TAttAxis\",\"fNdivisions\":510,\"fAxisColor\":1,\"fLabelColor\":1,\"fLabelFont\":42,\"fLabelOffset\":0.005,\"fLabelSize\":0.035,\"fTickLength\":0.03,\"fTitleOffset\":1,\"fTitleSize\":0.035,\"fTitleColor\":1,\"fTitleFont\":42},\"fBarWidth\":1,\"fBarOffset\":0,\"fColorModelPS\":0,\"fDrawBorder\":0,\"fOptLogx\":0,\"fOptLogy\":0,\"fOptLogz\":0,\"fOptDate\":0,\"fOptStat\":1111,\"fOptTitle\":1,\"fOptFile\":0,\"fOptFit\":1,\"fShowEventStatus\":0,\"fShowEditor\":0,\"fShowToolBar\":0,\"fNumberContours\":20,\"fAttDate\":{\"_typename\":\"TAttText\",\"fTextAngle\":0,\"fTextSize\":0.025,\"fTextAlign\":11,\"fTextColor\":1,\"fTextFont\":62},\"fDateX\":0.01,\"fDateY\":0.01,\"fEndErrorSize\":2,\"fErrorX\":0.5,\"fFuncColor\":2,\"fFuncStyle\":1,\"fFuncWidth\":2,\"fGridColor\":0,\"fGridStyle\":3,\"fGridWidth\":1,\"fLegendBorderSize\":1,\"fLegendFillColor\":0,\"fLegendFont\":42,\"fLegendTextSize\":0,\"fHatchesLineWidth\":1,\"fHatchesSpacing\":1,\"fFrameFillColor\":0,\"fFrameLineColor\":1,\"fFrameFillStyle\":1001,\"fFrameLineStyle\":1,\"fFrameLineWidth\":1,\"fFrameBorderSize\":1,\"fFrameBorderMode\":0,\"fHistFillColor\":0,\"fHistLineColor\":602,\"fHistFillStyle\":1001,\"fHistLineStyle\":1,\"fHistLineWidth\":1,\"fHistMinimumZero\":false,\"fHistTopMargin\":0.05,\"fCanvasPreferGL\":false,\"fCanvasColor\":0,\"fCanvasBorderSize\":2,\"fCanvasBorderMode\":0,\"fCanvasDefH\":500,\"fCanvasDefW\":700,\"fCanvasDefX\":10,\"fCanvasDefY\":10,\"fPadColor\":0,\"fPadBorderSize\":2,\"fPadBorderMode\":0,\"fPadBottomMargin\":0.1,\"fPadTopMargin\":0.1,\"fPadLeftMargin\":0.1,\"fPadRightMargin\":0.1,\"fPadGridX\":false,\"fPadGridY\":false,\"fPadTickX\":0,\"fPadTickY\":0,\"fPaperSizeX\":20,\"fPaperSizeY\":26,\"fScreenFactor\":1,\"fStatColor\":0,\"fStatTextColor\":1,\"fStatBorderSize\":1,\"fStatFont\":42,\"fStatFontSize\":0,\"fStatStyle\":1001,\"fStatFormat\":\"6.4g\",\"fStatX\":0.98,\"fStatY\":0.935,\"fStatW\":0.2,\"fStatH\":0.16,\"fStripDecimals\":true,\"fTitleAlign\":23,\"fTitleColor\":0,\"fTitleTextColor\":1,\"fTitleBorderSize\":0,\"fTitleFont\":42,\"fTitleFontSize\":0.05,\"fTitleStyle\":0,\"fTitleX\":0.5,\"fTitleY\":0.995,\"fTitleW\":0,\"fTitleH\":0,\"fLegoInnerR\":0.5,\"fLineStyles\":[\"\",\"  \",\" 12 12\",\" 4 8\",\" 12 16 4 16\",\" 20 12 4 12\",\" 20 12 4 12 4 12 4 12\",\" 20 20\",\" 20 12 4 12 4 12\",\" 80 20\",\" 80 40 4 40\",\"  \",\"  \",\"  \",\"  \",\"  \",\"  \",\"  \",\"  \",\"  \",\"  \",\"  \",\"  \",\"  \",\"  \",\"  \",\"  \",\"  \",\"  \",\"  \"],\"fHeaderPS\":\"\",\"fTitlePS\":\"\",\"fFitFormat\":\"5.4g\",\"fPaintTextFormat\":\"g\",\"fLineScalePS\":3,\"fJoinLinePS\":0,\"fCapLinePS\":0,\"fTimeOffset\":788918400,\"fImageScaling\":1}],\"opt\":[\"\",\"ap\",\"blNDC\",\"\"]},\"fExecs\":null,\"fName\":\"A_{LH}\",\"fTitle\":\"A_{LH}\",\"fNumPaletteColor\":0,\"fNextPaletteColor\":0,\"fDISPLAY\":\"$DISPLAY\",\"fDoubleBuffer\":0,\"fRetained\":true,\"fXsizeUser\":0,\"fYsizeUser\":0,\"fXsizeReal\":20,\"fYsizeReal\":16.66667,\"fWindowTopX\":0,\"fWindowTopY\":0,\"fWindowWidth\":0,\"fWindowHeight\":0,\"fCw\":596,\"fCh\":472,\"fCatt\":{\"_typename\":\"TAttCanvas\",\"fXBetween\":2,\"fYBetween\":2,\"fTitleFromTop\":1.2,\"fXdate\":0.2,\"fYdate\":0.3,\"fAdate\":1},\"kMoveOpaque\":true,\"kResizeOpaque\":true,\"fHighLightColor\":2,\"fBatch\":true,\"kShowEventStatus\":false,\"kAutoExec\":true,\"kMenuBar\":true});\n",
       "   Core.settings.HandleKeys = false;\n",
       "   Core.draw(\"root_plot_1687359020039\", obj, \"\");\n",
       "}\n",
       "\n",
       "function script_load_root_plot_1687359020039(src, on_error) {\n",
       "    let script = document.createElement('script');\n",
       "    script.src = src;\n",
       "    script.onload = function() { display_root_plot_1687359020039(JSROOT); };\n",
       "    script.onerror = function() { script.remove(); on_error(); };\n",
       "    document.head.appendChild(script);\n",
       "}\n",
       "\n",
       "if (typeof requirejs !== 'undefined') {\n",
       "\n",
       "    // We are in jupyter notebooks, use require.js which should be configured already\n",
       "    requirejs.config({\n",
       "       paths: { 'JSRootCore' : [ 'build/jsroot', 'https://root.cern/js/7.2.1/build/jsroot', 'https://jsroot.gsi.de/7.2.1/build/jsroot' ] }\n",
       "    })(['JSRootCore'],  function(Core) {\n",
       "       display_root_plot_1687359020039(Core);\n",
       "    });\n",
       "\n",
       "} else if (typeof JSROOT !== 'undefined') {\n",
       "\n",
       "   // JSROOT already loaded, just use it\n",
       "   display_root_plot_1687359020039(JSROOT);\n",
       "\n",
       "} else {\n",
       "\n",
       "    // We are in jupyterlab without require.js, directly loading jsroot\n",
       "    // Jupyterlab might be installed in a different base_url so we need to know it.\n",
       "    try {\n",
       "        var base_url = JSON.parse(document.getElementById('jupyter-config-data').innerHTML).baseUrl;\n",
       "    } catch(_) {\n",
       "        var base_url = '/';\n",
       "    }\n",
       "\n",
       "    // Try loading a local version of requirejs and fallback to cdn if not possible.\n",
       "    script_load_root_plot_1687359020039(base_url + 'static/build/jsroot.js', function(){\n",
       "        console.error('Fail to load JSROOT locally, please check your jupyter_notebook_config.py file');\n",
       "        script_load_root_plot_1687359020039('https://root.cern/js/7.2.1/build/jsroot.js', function(){\n",
       "            document.getElementById(\"root_plot_1687359020039\").innerHTML = \"Failed to load JSROOT\";\n",
       "        });\n",
       "    });\n",
       "}\n",
       "\n",
       "</script>\n"
      ],
      "text/plain": [
       "<IPython.core.display.HTML object>"
      ]
     },
     "metadata": {},
     "output_type": "display_data"
    }
   ],
   "source": [
    "# graph = ROOT.TGraphErrors(len(A_LH_angle[1:]),cos_angle[1:], A_LH_angle[1:], np.zeros_like(A_LH_angle[1:]), dA_LH_angle[1:])\n",
    "# graph.SetMarkerStyle(20)\n",
    "# graph.GetXaxis().SetTitle(\"cos#theta_{#gamma}\")\n",
    "# graph.GetYaxis().SetTitle(\"A_{LH}\")\n",
    "# # graph.SetTitle(title)\n",
    "\n",
    "# canvas = ROOT.TCanvas(\"canvas\", \"My Graph\", 600, 500)\n",
    "# graph.Draw()\n",
    "# fitFunc = ROOT.TF1(\"fitFunc\", \"[0]*x + [1]\")\n",
    "# graph.Fit(fitFunc, \"Q\")\n",
    "# ROOT.gStyle.SetOptFit(1)\n",
    "# graph.Draw(\"AP\")\n",
    "# canvas.Draw()\n",
    "A_LH_graph = create_A_LH_graph(cos_angle, A_LH_angle, dy = dA_LH_angle)\n",
    "linear_fit_and_plot(graph)"
   ]
  },
  {
   "cell_type": "code",
   "execution_count": null,
   "id": "9420cf6d-21b8-497f-91aa-dafc9405600b",
   "metadata": {},
   "outputs": [],
   "source": []
  },
  {
   "cell_type": "code",
   "execution_count": null,
   "id": "2ee61a8d-83fb-4234-af72-d772317d956b",
   "metadata": {},
   "outputs": [],
   "source": []
  },
  {
   "cell_type": "code",
   "execution_count": null,
   "id": "9bc55d93-b25a-4ead-8158-eb7e5dfb444c",
   "metadata": {},
   "outputs": [],
   "source": []
  },
  {
   "cell_type": "code",
   "execution_count": null,
   "id": "0dbe37f5-af4f-490d-9b68-c848b45cd05e",
   "metadata": {},
   "outputs": [],
   "source": []
  },
  {
   "cell_type": "code",
   "execution_count": null,
   "id": "bb23a5ed-66ca-455d-a13a-14fb7d90dee2",
   "metadata": {},
   "outputs": [],
   "source": []
  }
 ],
 "metadata": {
  "kernelspec": {
   "display_name": "research",
   "language": "python",
   "name": "research"
  },
  "language_info": {
   "codemirror_mode": {
    "name": "ipython",
    "version": 3
   },
   "file_extension": ".py",
   "mimetype": "text/x-python",
   "name": "python",
   "nbconvert_exporter": "python",
   "pygments_lexer": "ipython3",
   "version": "3.11.4"
  }
 },
 "nbformat": 4,
 "nbformat_minor": 5
}
