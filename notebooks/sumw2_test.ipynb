{
 "cells": [
  {
   "cell_type": "code",
   "execution_count": 1,
   "metadata": {},
   "outputs": [
    {
     "name": "stdout",
     "output_type": "stream",
     "text": [
      "Welcome to JupyROOT 6.30/04\n",
      "Without Sumw2 - Bin 50 after scaling and addition: content = 199.0, error = 22.693611435820433\n",
      "Expected error (without Sumw2): 22.693611435820433\n"
     ]
    }
   ],
   "source": [
    "import ROOT\n",
    "import numpy as np\n",
    "\n",
    "# Create histograms\n",
    "h1_no_sumw2 = ROOT.TH1F(\"h1_no_sumw2\", \"Histogram 1 without Sumw2\", 100, 0, 10)\n",
    "h2_no_sumw2 = ROOT.TH1F(\"h2_no_sumw2\", \"Histogram 2 without Sumw2\", 100, 0, 10)\n",
    "\n",
    "# Fill the histograms with weights equal to 1\n",
    "for value in np.random.normal(5, 1, 1000):\n",
    "    h1_no_sumw2.Fill(value, 1.0)\n",
    "\n",
    "for value in np.random.normal(5, 1, 1000):\n",
    "    h2_no_sumw2.Fill(value, 1.0)\n",
    "\n",
    "# Scale the histograms\n",
    "scaling_factor1 = 2.0\n",
    "scaling_factor2 = 3.0\n",
    "h1_no_sumw2.Scale(scaling_factor1)\n",
    "h2_no_sumw2.Scale(scaling_factor2)\n",
    "\n",
    "# Manually calculate the expected error\n",
    "bin_num = 50\n",
    "content_h1_no_sumw2 = h1_no_sumw2.GetBinContent(bin_num) / scaling_factor1  # original content of h1\n",
    "content_h2_no_sumw2 = h2_no_sumw2.GetBinContent(bin_num) / scaling_factor2  # original content of h2\n",
    "expected_error_h1_no_sumw2 = np.sqrt(content_h1_no_sumw2) * scaling_factor1\n",
    "expected_error_h2_no_sumw2 = np.sqrt(content_h2_no_sumw2) * scaling_factor2\n",
    "expected_error_no_sumw2 = np.sqrt(expected_error_h1_no_sumw2**2 + expected_error_h2_no_sumw2**2)\n",
    "\n",
    "# Add histograms\n",
    "h1_no_sumw2.Add(h2_no_sumw2)\n",
    "\n",
    "# Print the content and error of a bin after addition\n",
    "content_no_sumw2 = h1_no_sumw2.GetBinContent(bin_num)\n",
    "error_no_sumw2 = h1_no_sumw2.GetBinError(bin_num)\n",
    "print(f\"Without Sumw2 - Bin {bin_num} after scaling and addition: content = {content_no_sumw2}, error = {error_no_sumw2}\")\n",
    "print(f\"Expected error (without Sumw2): {expected_error_no_sumw2}\")\n"
   ]
  },
  {
   "cell_type": "code",
   "execution_count": 2,
   "metadata": {},
   "outputs": [
    {
     "name": "stdout",
     "output_type": "stream",
     "text": [
      "With Sumw2 - Bin 50 after scaling and addition: content = 208.0, error = 23.40939982143925\n",
      "Expected error (with Sumw2): 23.40939982143925\n"
     ]
    }
   ],
   "source": [
    "import ROOT\n",
    "import numpy as np\n",
    "\n",
    "# Create histograms\n",
    "h1 = ROOT.TH1F(\"h1\", \"Histogram 1 with Sumw2\", 100, 0, 10)\n",
    "h2 = ROOT.TH1F(\"h2\", \"Histogram 2 with Sumw2\", 100, 0, 10)\n",
    "\n",
    "# Enable Sumw2 for both histograms\n",
    "h1.Sumw2()\n",
    "h2.Sumw2()\n",
    "\n",
    "# Fill the histograms with weights equal to 1\n",
    "for value in np.random.normal(5, 1, 1000):\n",
    "    h1.Fill(value, 1.0)\n",
    "\n",
    "for value in np.random.normal(5, 1, 1000):\n",
    "    h2.Fill(value, 1.0)\n",
    "\n",
    "# Scale the histograms\n",
    "scaling_factor1 = 2.0\n",
    "scaling_factor2 = 3.0\n",
    "h1.Scale(scaling_factor1)\n",
    "h2.Scale(scaling_factor2)\n",
    "\n",
    "# Manually calculate the expected error\n",
    "bin_num = 50\n",
    "content_h1 = h1.GetBinContent(bin_num) / scaling_factor1  # original content of h1\n",
    "content_h2 = h2.GetBinContent(bin_num) / scaling_factor2  # original content of h2\n",
    "expected_error_h1 = np.sqrt(content_h1) * scaling_factor1\n",
    "expected_error_h2 = np.sqrt(content_h2) * scaling_factor2\n",
    "expected_error_with_sumw2 = np.sqrt(expected_error_h1**2 + expected_error_h2**2)\n",
    "\n",
    "# Add histograms\n",
    "h1.Add(h2)\n",
    "\n",
    "# Print the content and error of a bin after addition\n",
    "content_with_sumw2 = h1.GetBinContent(bin_num)\n",
    "error_with_sumw2 = h1.GetBinError(bin_num)\n",
    "print(f\"With Sumw2 - Bin {bin_num} after scaling and addition: content = {content_with_sumw2}, error = {error_with_sumw2}\")\n",
    "print(f\"Expected error (with Sumw2): {expected_error_with_sumw2}\")\n"
   ]
  },
  {
   "cell_type": "code",
   "execution_count": 3,
   "metadata": {},
   "outputs": [
    {
     "data": {
      "image/png": "[encoded data removed]",
      "text/plain": [
       "<IPython.core.display.Image object>"
      ]
     },
     "metadata": {},
     "output_type": "display_data"
    }
   ],
   "source": [
    "import ROOT\n",
    "import numpy as np\n",
    "\n",
    "# Create a histogram with Sumw2 enabled for accurate error propagation\n",
    "hist = ROOT.TH1F(\"hist\", \"Weighted Histogram\", 100, 0, 10)\n",
    "hist.Sumw2()\n",
    "\n",
    "# Generate some data with associated weights\n",
    "data = np.random.normal(5, 1, 1000)\n",
    "weights = np.random.uniform(0.5, 1.5, 1000)\n",
    "\n",
    "# Fill the histogram with weighted data\n",
    "for value, weight in zip(data, weights):\n",
    "    hist.Fill(value, weight)\n",
    "\n",
    "# Draw the histogram\n",
    "canvas = ROOT.TCanvas(\"canvas\", \"Canvas\", 800, 600)\n",
    "hist.Draw()\n",
    "canvas.Draw()\n",
    "# canvas.SaveAs(\"weighted_histogram.png\")\n"
   ]
  },
  {
   "cell_type": "code",
   "execution_count": 1,
   "metadata": {},
   "outputs": [
    {
     "name": "stdout",
     "output_type": "stream",
     "text": [
      "Welcome to JupyROOT 6.30/04\n",
      "After multiplication - Bin 50: content = 1680.0, error = 40.98780306383839\n",
      "Expected - Bin 50: content = 1680.0, error = 373.4166573681469\n"
     ]
    }
   ],
   "source": [
    "import ROOT\n",
    "import numpy as np\n",
    "\n",
    "# Create two histograms\n",
    "h1 = ROOT.TH1F(\"h1\", \"Histogram 1\", 100, 0, 10)\n",
    "h2 = ROOT.TH1F(\"h2\", \"Histogram 2\", 100, 0, 10)\n",
    "\n",
    "# Enable Sumw2 for accurate error propagation\n",
    "# h1.Sumw2()\n",
    "# h2.Sumw2()\n",
    "\n",
    "# Fill the histograms with some random data\n",
    "data1 = np.random.normal(5, 1, 1000)\n",
    "data2 = np.random.normal(5, 1, 1000)\n",
    "\n",
    "for value in data1:\n",
    "    h1.Fill(value, 1.0)  # Fill with weight 1.0\n",
    "\n",
    "for value in data2:\n",
    "    h2.Fill(value, 1.0)  # Fill with weight 1.0\n",
    "\n",
    "# Multiply the histograms\n",
    "h_result = h1.Clone(\"h_result\")  # Clone h1 to h_result\n",
    "h_result.Multiply(h2)\n",
    "\n",
    "# Print the content and error of a bin after multiplication\n",
    "bin_num = 50\n",
    "content_result = h_result.GetBinContent(bin_num)\n",
    "error_result = h_result.GetBinError(bin_num)\n",
    "print(f\"After multiplication - Bin {bin_num}: content = {content_result}, error = {error_result}\")\n",
    "\n",
    "# Manually calculate the expected bin content and error\n",
    "content_h1 = h1.GetBinContent(bin_num)\n",
    "content_h2 = h2.GetBinContent(bin_num)\n",
    "error_h1 = h1.GetBinError(bin_num)\n",
    "error_h2 = h2.GetBinError(bin_num)\n",
    "\n",
    "# Expected content and error after multiplication\n",
    "expected_content = content_h1 * content_h2\n",
    "expected_error = np.sqrt((content_h2 * error_h1)**2 + (content_h1 * error_h2)**2)\n",
    "\n",
    "print(f\"Expected - Bin {bin_num}: content = {expected_content}, error = {expected_error}\")\n"
   ]
  },
  {
   "cell_type": "code",
   "execution_count": null,
   "metadata": {},
   "outputs": [],
   "source": []
  }
 ],
 "metadata": {
  "kernelspec": {
   "display_name": "research",
   "language": "python",
   "name": "python3"
  },
  "language_info": {
   "codemirror_mode": {
    "name": "ipython",
    "version": 3
   },
   "file_extension": ".py",
   "mimetype": "text/x-python",
   "name": "python",
   "nbconvert_exporter": "python",
   "pygments_lexer": "ipython3",
   "version": "3.11.9"
  }
 },
 "nbformat": 4,
 "nbformat_minor": 2
}
