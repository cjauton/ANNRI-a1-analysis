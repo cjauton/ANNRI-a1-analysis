{
 "cells": [
  {
   "cell_type": "code",
   "execution_count": 1,
   "metadata": {},
   "outputs": [
    {
     "name": "stdout",
     "output_type": "stream",
     "text": [
      "Welcome to JupyROOT 6.30/04\n"
     ]
    }
   ],
   "source": [
    "import histogram_filler as hf\n",
    "import ROOT\n",
    "\n",
    "# import histogram_manager as hm"
   ]
  },
  {
   "cell_type": "code",
   "execution_count": 2,
   "metadata": {},
   "outputs": [],
   "source": [
    "chain_Cd = ROOT.TChain(\"rawTree\")\n",
    "chain_Bo = ROOT.TChain(\"rawTree\")\n",
    "chain_melamine = ROOT.TChain(\"rawTree\")\n",
    "chain_Al = ROOT.TChain(\"rawTree\")\n",
    "chain_empty = ROOT.TChain(\"rawTree\")\n",
    "\n",
    "\n",
    "\n",
    "chain_Cd.Add(\"/Volumes/WD_BLACK/2023Dec/rawroot/rawroot_run_012[4-9]*\")  ### chunk 1\n",
    "# chain_Cd.Add(\"/Volumes/WD_BLACK/2023Dec/rawroot/rawroot_run_013[0-9]*\")\n",
    "# chain_Cd.Add(\"/Volumes/WD_BLACK/2023Dec/rawroot/rawroot_run_014[0-9]*\")\n",
    "# chain_Cd.Add(\"/Volumes/WD_BLACK/2023Dec/rawroot/rawroot_run_015[0-9]*\")\n",
    "# chain_Cd.Add(\"/Volumes/WD_BLACK/2023Dec/rawroot/rawroot_run_016[0-9]*\")\n",
    "# chain_Cd.Add(\"/Volumes/WD_BLACK/2023Dec/rawroot/rawroot_run_017[0-9]*\")\n",
    "# chain_Cd.Add(\"/Volumes/WD_BLACK/2023Dec/rawroot/rawroot_run_018[0-9]*\")\n",
    "\n",
    "# chain_Cd.Add(\"/Volumes/WD_BLACK/2023Dec/rawroot/rawroot_run_019[0-9]*\")  ### chunk 2\n",
    "# chain_Cd.Add(\"/Volumes/WD_BLACK/2023Dec/rawroot/rawroot_run_020[7-9]*\")\n",
    "# chain_Cd.Add(\"/Volumes/WD_BLACK/2023Dec/rawroot/rawroot_run_021[0-9]*\")\n",
    "# chain_Cd.Add(\"/Volumes/WD_BLACK/2023Dec/rawroot/rawroot_run_022[0-9]*\")\n",
    "# chain_Cd.Add(\"/Volumes/WD_BLACK/2023Dec/rawroot/rawroot_run_023[0-9]*\")\n",
    "# chain_Cd.Add(\"/Volumes/WD_BLACK/2023Dec/rawroot/rawroot_run_024[0-2]*\")\n",
    "\n",
    "# chain_Cd.Add(\"/Volumes/WD_BLACK/2023Dec/rawroot/rawroot_run_024[5-9]*\")  ### chunk 3\n",
    "# chain_Cd.Add(\"/Volumes/WD_BLACK/2023Dec/rawroot/rawroot_run_025[0-9]*\")\n",
    "# chain_Cd.Add(\"/Volumes/WD_BLACK/2023Dec/rawroot/rawroot_run_026[0-9]*\")\n",
    "# chain_Cd.Add(\"/Volumes/WD_BLACK/2023Dec/rawroot/rawroot_run_027[0-9]*\")\n",
    "# chain_Cd.Add(\"/Volumes/WD_BLACK/2023Dec/rawroot/rawroot_run_028[0-9]*\")\n",
    "# chain_Cd.Add(\"/Volumes/WD_BLACK/2023Dec/rawroot/rawroot_run_029[0-9]*\")\n",
    "# chain_Cd.Add(\"/Volumes/WD_BLACK/2023Dec/rawroot/rawroot_run_030[0-8]*\")\n",
    "\n",
    "\n",
    "chain_Bo.Add(\"/Volumes/WD_BLACK/2023Dec/rawroot/rawroot_run_020[4-6]*\") # Boron\n",
    "\n",
    "\n",
    "# chain_Cd.Add(\"/Volumes/WD_BLACK/2024May/Ge/rawroot/rawroot_run_048[2-9]*\") # 950 kW\n",
    "# chain_Cd.Add(\"/Volumes/WD_BLACK/2024May/Ge/rawroot/rawroot_run_049[0-4]*\")\n",
    "# chain_Cd.Add(\"/Volumes/WD_BLACK/2024May/Ge/rawroot/rawroot_run_050[3-9]*\")\n",
    "# chain_Cd.Add(\"/Volumes/WD_BLACK/2024May/Ge/rawroot/rawroot_run_051[0-9]*\")\n",
    "\n",
    "# chain_Cd.Add(\"/Volumes/WD_BLACK/2024May/Ge/rawroot/rawroot_run_0521*\") # test\n",
    "\n",
    "# chain_Cd.Add(\"/Volumes/WD_BLACK/2024May/Ge/rawroot/rawroot_run_052[1-9]*\")  # 900 kW 2024\n",
    "# chain_Cd.Add(\"/Volumes/WD_BLACK/2024May/Ge/rawroot/rawroot_run_053[1-7]*\")\n",
    "# chain_Cd.Add(\"/Volumes/WD_BLACK/2024May/Ge/rawroot/rawroot_run_053[9-9]*\")\n",
    "# chain_Cd.Add(\"/Volumes/WD_BLACK/2024May/Ge/rawroot/rawroot_run_054[0-9]*\")\n",
    "# chain_Cd.Add(\"/Volumes/WD_BLACK/2024May/Ge/rawroot/rawroot_run_055[0-9]*\")\n",
    "# chain_Cd.Add(\"/Volumes/WD_BLACK/2024May/Ge/rawroot/rawroot_run_056[0-9]*\")\n",
    "# chain_Cd.Add(\"/Volumes/WD_BLACK/2024May/Ge/rawroot/rawroot_run_057[0-9]*\")\n",
    "# chain_Cd.Add(\"/Volumes/WD_BLACK/2024May/Ge/rawroot/rawroot_run_058[0-9]*\")\n",
    "# chain_Cd.Add(\"/Volumes/WD_BLACK/2024May/Ge/rawroot/rawroot_run_059[0-9]*\")\n",
    "# chain_Cd.Add(\"/Volumes/WD_BLACK/2024May/Ge/rawroot/rawroot_run_060[0-9]*\")\n",
    "# chain_Cd.Add(\"/Volumes/WD_BLACK/2024May/Ge/rawroot/rawroot_run_061[0-9]*\")\n",
    "# chain_Cd.Add(\"/Volumes/WD_BLACK/2024May/Ge/rawroot/rawroot_run_062[0-9]*\")\n",
    "# chain_Cd.Add(\"/Volumes/WD_BLACK/2024May/Ge/rawroot/rawroot_run_063[0-9]*\")\n",
    "# chain_Cd.Add(\"/Volumes/WD_BLACK/2024May/Ge/rawroot/rawroot_run_064[0-9]*\")\n",
    "# chain_Cd.Add(\"/Volumes/WD_BLACK/2024May/Ge/rawroot/rawroot_run_065[0-8]*\")\n",
    "# chain_Cd.Add(\"/Volumes/WD_BLACK/2024May/Ge/rawroot/rawroot_run_066[1-9]*\")\n",
    "# chain_Cd.Add(\"/Volumes/WD_BLACK/2024May/Ge/rawroot/rawroot_run_067[0-9]*\")\n",
    "# chain_Cd.Add(\"/Volumes/WD_BLACK/2024May/Ge/rawroot/rawroot_run_068[0-7]*\")\n",
    "\n",
    "# chain_Al.Add(\"/Volumes/WD_BLACK/2024May/Ge/rawroot/rawroot_run_0479*\")  # Al 2024\n",
    "\n",
    "# # chain_melamine.Add(\"/Volumes/WD_BLACK/2024May/Ge/rawroot/rawroot_run_0480*\") # Melamine 1\n",
    "# chain_melamine.Add(\"/Volumes/WD_BLACK/2024May/Ge/rawroot/rawroot_run_0481*\")  # Melamine 2 (correct Pb) 2024\n",
    "\n",
    "# # chain_Bo.Add(\"/Volumes/WD_BLACK/2024May/Ge/rawroot/rawroot_run_050[0-2]*\") # 10B 950 kw\n",
    "# chain_Bo.Add(\"/Volumes/WD_BLACK/2024May/Ge/rawroot/rawroot_run_0538*\")  # 10B 900 kW\n",
    "# chain_Bo.Add(\"/Volumes/WD_BLACK/2024May/Ge/rawroot/rawroot_run_0659*\")  # 10B 900 kW\n",
    "\n",
    "# chain_empty.Add(\"/Volumes/WD_BLACK/2024May/Ge/rawroot/rawroot_run_0660*\")  # Empty\n",
    "\n",
    "ROOT.EnableImplicitMT()\n",
    "df_Cd = ROOT.RDataFrame(chain_Cd)\n",
    "# df_Al = ROOT.RDataFrame(chain_Al)\n",
    "df_Bo = ROOT.RDataFrame(chain_Bo)\n",
    "# df_melamine = ROOT.RDataFrame(chain_melamine)\n",
    "# df_empty = ROOT.RDataFrame(chain_empty)\n",
    "\n",
    "df_Cd.Describe()"
   ]
  },
  {
   "cell_type": "code",
   "execution_count": 3,
   "metadata": {},
   "outputs": [
    {
     "ename": "RuntimeError",
     "evalue": "Error initializing HistogramFiller: Type error in histogram definitions: Expected 'columns' to be a list in histogram 'hEn'",
     "output_type": "error",
     "traceback": [
      "\u001b[0;31m---------------------------------------------------------------------------\u001b[0m",
      "\u001b[0;31mTypeError\u001b[0m                                 Traceback (most recent call last)",
      "File \u001b[0;32m~/Projects/annri-analysis-framework/src/histogram_filler.py:100\u001b[0m, in \u001b[0;36mHistogramFiller._load_histogram_definitions\u001b[0;34m(self, hist_def_path)\u001b[0m\n\u001b[1;32m     99\u001b[0m \u001b[38;5;28;01mif\u001b[39;00m \u001b[38;5;129;01mnot\u001b[39;00m \u001b[38;5;28misinstance\u001b[39m(columns, \u001b[38;5;28mlist\u001b[39m):\n\u001b[0;32m--> 100\u001b[0m     \u001b[38;5;28;01mraise\u001b[39;00m \u001b[38;5;167;01mTypeError\u001b[39;00m(\n\u001b[1;32m    101\u001b[0m         \u001b[38;5;124mf\u001b[39m\u001b[38;5;124m\"\u001b[39m\u001b[38;5;124mExpected \u001b[39m\u001b[38;5;124m'\u001b[39m\u001b[38;5;124mcolumns\u001b[39m\u001b[38;5;124m'\u001b[39m\u001b[38;5;124m to be a list in histogram \u001b[39m\u001b[38;5;124m'\u001b[39m\u001b[38;5;132;01m{\u001b[39;00mkey\u001b[38;5;132;01m}\u001b[39;00m\u001b[38;5;124m'\u001b[39m\u001b[38;5;124m\"\u001b[39m\n\u001b[1;32m    102\u001b[0m     )\n\u001b[1;32m    104\u001b[0m axis_labels \u001b[38;5;241m=\u001b[39m []\n",
      "\u001b[0;31mTypeError\u001b[0m: Expected 'columns' to be a list in histogram 'hEn'",
      "\nDuring handling of the above exception, another exception occurred:\n",
      "\u001b[0;31mRuntimeError\u001b[0m                              Traceback (most recent call last)",
      "File \u001b[0;32m~/Projects/annri-analysis-framework/src/histogram_filler.py:57\u001b[0m, in \u001b[0;36mHistogramFiller.__post_init__\u001b[0;34m(self)\u001b[0m\n\u001b[1;32m     56\u001b[0m \u001b[38;5;28mself\u001b[39m\u001b[38;5;241m.\u001b[39mconfig \u001b[38;5;241m=\u001b[39m \u001b[38;5;28mself\u001b[39m\u001b[38;5;241m.\u001b[39m_load_config(\u001b[38;5;28mself\u001b[39m\u001b[38;5;241m.\u001b[39mconfig_path)\n\u001b[0;32m---> 57\u001b[0m \u001b[38;5;28mself\u001b[39m\u001b[38;5;241m.\u001b[39mhist_def \u001b[38;5;241m=\u001b[39m \u001b[38;5;28;43mself\u001b[39;49m\u001b[38;5;241;43m.\u001b[39;49m\u001b[43m_load_histogram_definitions\u001b[49m\u001b[43m(\u001b[49m\u001b[38;5;28;43mself\u001b[39;49m\u001b[38;5;241;43m.\u001b[39;49m\u001b[43mhist_def_path\u001b[49m\u001b[43m)\u001b[49m\n\u001b[1;32m     58\u001b[0m \u001b[38;5;28mself\u001b[39m\u001b[38;5;241m.\u001b[39mdet_map \u001b[38;5;241m=\u001b[39m utils\u001b[38;5;241m.\u001b[39mload_det_map(\u001b[38;5;28mself\u001b[39m\u001b[38;5;241m.\u001b[39mdet_info_path)\n",
      "File \u001b[0;32m~/Projects/annri-analysis-framework/src/histogram_filler.py:135\u001b[0m, in \u001b[0;36mHistogramFiller._load_histogram_definitions\u001b[0;34m(self, hist_def_path)\u001b[0m\n\u001b[1;32m    134\u001b[0m \u001b[38;5;28;01mexcept\u001b[39;00m \u001b[38;5;167;01mTypeError\u001b[39;00m \u001b[38;5;28;01mas\u001b[39;00m te:\n\u001b[0;32m--> 135\u001b[0m     \u001b[38;5;28;01mraise\u001b[39;00m \u001b[38;5;167;01mRuntimeError\u001b[39;00m(\u001b[38;5;124mf\u001b[39m\u001b[38;5;124m\"\u001b[39m\u001b[38;5;124mType error in histogram definitions: \u001b[39m\u001b[38;5;132;01m{\u001b[39;00mte\u001b[38;5;132;01m}\u001b[39;00m\u001b[38;5;124m\"\u001b[39m)\n\u001b[1;32m    136\u001b[0m \u001b[38;5;28;01mexcept\u001b[39;00m \u001b[38;5;167;01mException\u001b[39;00m \u001b[38;5;28;01mas\u001b[39;00m e:\n",
      "\u001b[0;31mRuntimeError\u001b[0m: Type error in histogram definitions: Expected 'columns' to be a list in histogram 'hEn'",
      "\nDuring handling of the above exception, another exception occurred:\n",
      "\u001b[0;31mRuntimeError\u001b[0m                              Traceback (most recent call last)",
      "Cell \u001b[0;32mIn[3], line 7\u001b[0m\n\u001b[1;32m      4\u001b[0m det_info_path \u001b[38;5;241m=\u001b[39m \u001b[38;5;124m\"\u001b[39m\u001b[38;5;124m../config/det_info_2023dec.toml\u001b[39m\u001b[38;5;124m\"\u001b[39m\n\u001b[1;32m      5\u001b[0m \u001b[38;5;66;03m# output = \"../output/2024may/test.root\"\u001b[39;00m\n\u001b[0;32m----> 7\u001b[0m hf_Cd \u001b[38;5;241m=\u001b[39m \u001b[43mhf\u001b[49m\u001b[38;5;241;43m.\u001b[39;49m\u001b[43mHistogramFiller\u001b[49m\u001b[43m(\u001b[49m\u001b[43mdf_Cd\u001b[49m\u001b[43m,\u001b[49m\u001b[43m \u001b[49m\u001b[43mconfig_path\u001b[49m\u001b[43m,\u001b[49m\u001b[43m \u001b[49m\u001b[43mhist_def_path\u001b[49m\u001b[43m,\u001b[49m\u001b[43m \u001b[49m\u001b[43mcalib_path\u001b[49m\u001b[43m,\u001b[49m\u001b[43m \u001b[49m\u001b[43mdet_info_path\u001b[49m\u001b[43m)\u001b[49m\n\u001b[1;32m      8\u001b[0m \u001b[38;5;66;03m# hf_Al = hf.HistogramFiller(df_Al, config, hist_def)\u001b[39;00m\n\u001b[1;32m      9\u001b[0m hf_Bo \u001b[38;5;241m=\u001b[39m hf\u001b[38;5;241m.\u001b[39mHistogramFiller(df_Bo, config_path, hist_def_path, calib_path, det_info_path)\n",
      "File \u001b[0;32m<string>:8\u001b[0m, in \u001b[0;36m__init__\u001b[0;34m(self, df, config_path, hist_def_path, calib_path, det_info_path)\u001b[0m\n",
      "File \u001b[0;32m~/Projects/annri-analysis-framework/src/histogram_filler.py:65\u001b[0m, in \u001b[0;36mHistogramFiller.__post_init__\u001b[0;34m(self)\u001b[0m\n\u001b[1;32m     61\u001b[0m     \u001b[38;5;28mself\u001b[39m\u001b[38;5;241m.\u001b[39mcalib_slope, \u001b[38;5;28mself\u001b[39m\u001b[38;5;241m.\u001b[39mcalib_offset \u001b[38;5;241m=\u001b[39m \u001b[38;5;28mself\u001b[39m\u001b[38;5;241m.\u001b[39m_extract_calib_from_csv(\n\u001b[1;32m     62\u001b[0m         \u001b[38;5;28mself\u001b[39m\u001b[38;5;241m.\u001b[39mcalib_path, \u001b[38;5;28mself\u001b[39m\u001b[38;5;241m.\u001b[39mconfig\u001b[38;5;241m.\u001b[39mnumch\n\u001b[1;32m     63\u001b[0m     )\n\u001b[1;32m     64\u001b[0m \u001b[38;5;28;01mexcept\u001b[39;00m \u001b[38;5;167;01mException\u001b[39;00m \u001b[38;5;28;01mas\u001b[39;00m e:\n\u001b[0;32m---> 65\u001b[0m     \u001b[38;5;28;01mraise\u001b[39;00m \u001b[38;5;167;01mRuntimeError\u001b[39;00m(\u001b[38;5;124mf\u001b[39m\u001b[38;5;124m\"\u001b[39m\u001b[38;5;124mError initializing HistogramFiller: \u001b[39m\u001b[38;5;132;01m{\u001b[39;00me\u001b[38;5;132;01m}\u001b[39;00m\u001b[38;5;124m\"\u001b[39m)\n\u001b[1;32m     67\u001b[0m calib_slope_str \u001b[38;5;241m=\u001b[39m \u001b[38;5;124m\"\u001b[39m\u001b[38;5;124m{\u001b[39m\u001b[38;5;124m\"\u001b[39m \u001b[38;5;241m+\u001b[39m \u001b[38;5;124m\"\u001b[39m\u001b[38;5;124m,\u001b[39m\u001b[38;5;124m\"\u001b[39m\u001b[38;5;241m.\u001b[39mjoin(\u001b[38;5;28mmap\u001b[39m(\u001b[38;5;28mstr\u001b[39m, \u001b[38;5;28mself\u001b[39m\u001b[38;5;241m.\u001b[39mcalib_slope\u001b[38;5;241m.\u001b[39mtolist())) \u001b[38;5;241m+\u001b[39m \u001b[38;5;124m\"\u001b[39m\u001b[38;5;124m}\u001b[39m\u001b[38;5;124m\"\u001b[39m\n\u001b[1;32m     68\u001b[0m calib_offset_str \u001b[38;5;241m=\u001b[39m \u001b[38;5;124m\"\u001b[39m\u001b[38;5;124m{\u001b[39m\u001b[38;5;124m\"\u001b[39m \u001b[38;5;241m+\u001b[39m \u001b[38;5;124m\"\u001b[39m\u001b[38;5;124m,\u001b[39m\u001b[38;5;124m\"\u001b[39m\u001b[38;5;241m.\u001b[39mjoin(\u001b[38;5;28mmap\u001b[39m(\u001b[38;5;28mstr\u001b[39m, \u001b[38;5;28mself\u001b[39m\u001b[38;5;241m.\u001b[39mcalib_offset\u001b[38;5;241m.\u001b[39mtolist())) \u001b[38;5;241m+\u001b[39m \u001b[38;5;124m\"\u001b[39m\u001b[38;5;124m}\u001b[39m\u001b[38;5;124m\"\u001b[39m\n",
      "\u001b[0;31mRuntimeError\u001b[0m: Error initializing HistogramFiller: Type error in histogram definitions: Expected 'columns' to be a list in histogram 'hEn'"
     ]
    }
   ],
   "source": [
    "config_path = \"../config/config_2023dec.toml\"\n",
    "hist_def_path = \"../config/hist_def_Cd_BR.toml\"\n",
    "calib_path = \"../calib/calib_2023dec.csv\"\n",
    "det_info_path = \"../config/det_info_2023dec.toml\"\n",
    "# output = \"../output/2024may/test.root\"\n",
    "\n",
    "hf_Cd = hf.HistogramFiller(df_Cd, config_path, hist_def_path, calib_path, det_info_path)\n",
    "# hf_Al = hf.HistogramFiller(df_Al, config, hist_def)\n",
    "hf_Bo = hf.HistogramFiller(df_Bo, config_path, hist_def_path, calib_path, det_info_path)\n",
    "# hf_melamine = hf.HistogramFiller(df_melamine, config, hist_def)\n",
    "# hf_empty = hf.HistogramFiller(df_empty, config, hist_def) "
   ]
  },
  {
   "cell_type": "code",
   "execution_count": 4,
   "metadata": {},
   "outputs": [],
   "source": [
    "hf_Cd.define_columns()\n",
    "# hf_Al.define_columns()\n",
    "hf_Bo.define_columns()\n",
    "# hf_melamine.define_columns()\n",
    "# hf_empty.define_columns()\n",
    "\n",
    "hists_Cd = hf_Cd.create_hm_from_df()\n",
    "# hists_Al = hf_Al.create_hm_from_df()\n",
    "hists_Bo = hf_Bo.create_hm_from_df()\n",
    "# hists_melamine = hf_melamine.create_hm_from_df()\n",
    "# hists_empty = hf_melamine.create_hm_from_df()\n",
    "\n",
    "hists_Cd.write(\"../output/BR_Cd.root\")\n",
    "hists_Bo.write(\"../output/BR_Bo.root\")\n",
    "# hists_Al.write(\"../output/2024may/BR_Al.root\")\n",
    "# hists_melamine.write(\"../output/2024may/BR_melamine.root\")\n",
    "# hists_empty.write(\"../output/2024may/BR_empty.root\")"
   ]
  },
  {
   "cell_type": "code",
   "execution_count": null,
   "metadata": {},
   "outputs": [],
   "source": [
    "\n"
   ]
  },
  {
   "cell_type": "code",
   "execution_count": null,
   "metadata": {},
   "outputs": [],
   "source": []
  }
 ],
 "metadata": {
  "kernelspec": {
   "display_name": "research",
   "language": "python",
   "name": "research"
  },
  "language_info": {
   "codemirror_mode": {
    "name": "ipython",
    "version": 3
   },
   "file_extension": ".py",
   "mimetype": "text/x-python",
   "name": "python",
   "nbconvert_exporter": "python",
   "pygments_lexer": "ipython3",
   "version": "3.11.9"
  }
 },
 "nbformat": 4,
 "nbformat_minor": 2
}
