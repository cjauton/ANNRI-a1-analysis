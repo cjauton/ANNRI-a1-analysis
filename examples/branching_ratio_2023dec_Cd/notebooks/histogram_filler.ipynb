{
 "cells": [
  {
   "cell_type": "code",
   "execution_count": 1,
   "metadata": {},
   "outputs": [
    {
     "name": "stdout",
     "output_type": "stream",
     "text": [
      "Welcome to JupyROOT 6.30/04\n"
     ]
    }
   ],
   "source": [
    "import histogram_filler as hf\n",
    "import ROOT\n",
    "\n",
    "# import histogram_manager as hm"
   ]
  },
  {
   "cell_type": "code",
   "execution_count": 2,
   "metadata": {},
   "outputs": [
    {
     "data": {
      "text/plain": [
       "Dataframe from TChain rawTree in files\n",
       "  /Volumes/WD_BLACK/2023Dec/rawroot/rawroot_run_0124_000.root\n",
       "  /Volumes/WD_BLACK/2023Dec/rawroot/rawroot_run_0125_000.root\n",
       "  /Volumes/WD_BLACK/2023Dec/rawroot/rawroot_run_0126_000.root\n",
       "  /Volumes/WD_BLACK/2023Dec/rawroot/rawroot_run_0127_000.root\n",
       "  /Volumes/WD_BLACK/2023Dec/rawroot/rawroot_run_0128_000.root\n",
       "  /Volumes/WD_BLACK/2023Dec/rawroot/rawroot_run_0129_000.root\n",
       "\n",
       "Property                Value\n",
       "--------                -----\n",
       "Columns in total            7\n",
       "Columns from defines        0\n",
       "Event loops run             0\n",
       "Processing slots            8\n",
       "\n",
       "Column          Type            Origin\n",
       "------          ----            ------\n",
       "Coin            UInt_t          Dataset\n",
       "Flags           UInt_t          Dataset\n",
       "PulseHeight     UShort_t        Dataset\n",
       "Timestamp       ULong64_t       Dataset\n",
       "detector        Int_t           Dataset\n",
       "nTrigger        ULong64_t       Dataset\n",
       "tof             ULong64_t       Dataset"
      ]
     },
     "execution_count": 2,
     "metadata": {},
     "output_type": "execute_result"
    }
   ],
   "source": [
    "chain_Cd = ROOT.TChain(\"rawTree\")\n",
    "chain_Bo = ROOT.TChain(\"rawTree\")\n",
    "chain_melamine = ROOT.TChain(\"rawTree\")\n",
    "chain_Al = ROOT.TChain(\"rawTree\")\n",
    "chain_empty = ROOT.TChain(\"rawTree\")\n",
    "\n",
    "\n",
    "\n",
    "chain_Cd.Add(\"/Volumes/WD_BLACK/2023Dec/rawroot/rawroot_run_012[4-9]*\")  ### chunk 1\n",
    "# chain_Cd.Add(\"/Volumes/WD_BLACK/2023Dec/rawroot/rawroot_run_013[0-9]*\")\n",
    "# chain_Cd.Add(\"/Volumes/WD_BLACK/2023Dec/rawroot/rawroot_run_014[0-9]*\")\n",
    "# chain_Cd.Add(\"/Volumes/WD_BLACK/2023Dec/rawroot/rawroot_run_015[0-9]*\")\n",
    "# chain_Cd.Add(\"/Volumes/WD_BLACK/2023Dec/rawroot/rawroot_run_016[0-9]*\")\n",
    "# chain_Cd.Add(\"/Volumes/WD_BLACK/2023Dec/rawroot/rawroot_run_017[0-9]*\")\n",
    "# chain_Cd.Add(\"/Volumes/WD_BLACK/2023Dec/rawroot/rawroot_run_018[0-9]*\")\n",
    "\n",
    "# chain_Cd.Add(\"/Volumes/WD_BLACK/2023Dec/rawroot/rawroot_run_019[0-9]*\")  ### chunk 2\n",
    "# chain_Cd.Add(\"/Volumes/WD_BLACK/2023Dec/rawroot/rawroot_run_020[7-9]*\")\n",
    "# chain_Cd.Add(\"/Volumes/WD_BLACK/2023Dec/rawroot/rawroot_run_021[0-9]*\")\n",
    "# chain_Cd.Add(\"/Volumes/WD_BLACK/2023Dec/rawroot/rawroot_run_022[0-9]*\")\n",
    "# chain_Cd.Add(\"/Volumes/WD_BLACK/2023Dec/rawroot/rawroot_run_023[0-9]*\")\n",
    "# chain_Cd.Add(\"/Volumes/WD_BLACK/2023Dec/rawroot/rawroot_run_024[0-2]*\")\n",
    "\n",
    "# chain_Cd.Add(\"/Volumes/WD_BLACK/2023Dec/rawroot/rawroot_run_024[5-9]*\")  ### chunk 3\n",
    "# chain_Cd.Add(\"/Volumes/WD_BLACK/2023Dec/rawroot/rawroot_run_025[0-9]*\")\n",
    "# chain_Cd.Add(\"/Volumes/WD_BLACK/2023Dec/rawroot/rawroot_run_026[0-9]*\")\n",
    "# chain_Cd.Add(\"/Volumes/WD_BLACK/2023Dec/rawroot/rawroot_run_027[0-9]*\")\n",
    "# chain_Cd.Add(\"/Volumes/WD_BLACK/2023Dec/rawroot/rawroot_run_028[0-9]*\")\n",
    "# chain_Cd.Add(\"/Volumes/WD_BLACK/2023Dec/rawroot/rawroot_run_029[0-9]*\")\n",
    "# chain_Cd.Add(\"/Volumes/WD_BLACK/2023Dec/rawroot/rawroot_run_030[0-8]*\")\n",
    "\n",
    "\n",
    "chain_Bo.Add(\"/Volumes/WD_BLACK/2023Dec/rawroot/rawroot_run_020[4-6]*\") # Boron\n",
    "\n",
    "\n",
    "# chain_Cd.Add(\"/Volumes/WD_BLACK/2024May/Ge/rawroot/rawroot_run_048[2-9]*\") # 950 kW\n",
    "# chain_Cd.Add(\"/Volumes/WD_BLACK/2024May/Ge/rawroot/rawroot_run_049[0-4]*\")\n",
    "# chain_Cd.Add(\"/Volumes/WD_BLACK/2024May/Ge/rawroot/rawroot_run_050[3-9]*\")\n",
    "# chain_Cd.Add(\"/Volumes/WD_BLACK/2024May/Ge/rawroot/rawroot_run_051[0-9]*\")\n",
    "\n",
    "# chain_Cd.Add(\"/Volumes/WD_BLACK/2024May/Ge/rawroot/rawroot_run_0521*\") # test\n",
    "\n",
    "# chain_Cd.Add(\"/Volumes/WD_BLACK/2024May/Ge/rawroot/rawroot_run_052[1-9]*\")  # 900 kW 2024\n",
    "# chain_Cd.Add(\"/Volumes/WD_BLACK/2024May/Ge/rawroot/rawroot_run_053[1-7]*\")\n",
    "# chain_Cd.Add(\"/Volumes/WD_BLACK/2024May/Ge/rawroot/rawroot_run_053[9-9]*\")\n",
    "# chain_Cd.Add(\"/Volumes/WD_BLACK/2024May/Ge/rawroot/rawroot_run_054[0-9]*\")\n",
    "# chain_Cd.Add(\"/Volumes/WD_BLACK/2024May/Ge/rawroot/rawroot_run_055[0-9]*\")\n",
    "# chain_Cd.Add(\"/Volumes/WD_BLACK/2024May/Ge/rawroot/rawroot_run_056[0-9]*\")\n",
    "# chain_Cd.Add(\"/Volumes/WD_BLACK/2024May/Ge/rawroot/rawroot_run_057[0-9]*\")\n",
    "# chain_Cd.Add(\"/Volumes/WD_BLACK/2024May/Ge/rawroot/rawroot_run_058[0-9]*\")\n",
    "# chain_Cd.Add(\"/Volumes/WD_BLACK/2024May/Ge/rawroot/rawroot_run_059[0-9]*\")\n",
    "# chain_Cd.Add(\"/Volumes/WD_BLACK/2024May/Ge/rawroot/rawroot_run_060[0-9]*\")\n",
    "# chain_Cd.Add(\"/Volumes/WD_BLACK/2024May/Ge/rawroot/rawroot_run_061[0-9]*\")\n",
    "# chain_Cd.Add(\"/Volumes/WD_BLACK/2024May/Ge/rawroot/rawroot_run_062[0-9]*\")\n",
    "# chain_Cd.Add(\"/Volumes/WD_BLACK/2024May/Ge/rawroot/rawroot_run_063[0-9]*\")\n",
    "# chain_Cd.Add(\"/Volumes/WD_BLACK/2024May/Ge/rawroot/rawroot_run_064[0-9]*\")\n",
    "# chain_Cd.Add(\"/Volumes/WD_BLACK/2024May/Ge/rawroot/rawroot_run_065[0-8]*\")\n",
    "# chain_Cd.Add(\"/Volumes/WD_BLACK/2024May/Ge/rawroot/rawroot_run_066[1-9]*\")\n",
    "# chain_Cd.Add(\"/Volumes/WD_BLACK/2024May/Ge/rawroot/rawroot_run_067[0-9]*\")\n",
    "# chain_Cd.Add(\"/Volumes/WD_BLACK/2024May/Ge/rawroot/rawroot_run_068[0-7]*\")\n",
    "\n",
    "# chain_Al.Add(\"/Volumes/WD_BLACK/2024May/Ge/rawroot/rawroot_run_0479*\")  # Al 2024\n",
    "\n",
    "# # chain_melamine.Add(\"/Volumes/WD_BLACK/2024May/Ge/rawroot/rawroot_run_0480*\") # Melamine 1\n",
    "# chain_melamine.Add(\"/Volumes/WD_BLACK/2024May/Ge/rawroot/rawroot_run_0481*\")  # Melamine 2 (correct Pb) 2024\n",
    "\n",
    "# # chain_Bo.Add(\"/Volumes/WD_BLACK/2024May/Ge/rawroot/rawroot_run_050[0-2]*\") # 10B 950 kw\n",
    "# chain_Bo.Add(\"/Volumes/WD_BLACK/2024May/Ge/rawroot/rawroot_run_0538*\")  # 10B 900 kW\n",
    "# chain_Bo.Add(\"/Volumes/WD_BLACK/2024May/Ge/rawroot/rawroot_run_0659*\")  # 10B 900 kW\n",
    "\n",
    "# chain_empty.Add(\"/Volumes/WD_BLACK/2024May/Ge/rawroot/rawroot_run_0660*\")  # Empty\n",
    "\n",
    "ROOT.EnableImplicitMT()\n",
    "df_Cd = ROOT.RDataFrame(chain_Cd)\n",
    "# df_Al = ROOT.RDataFrame(chain_Al)\n",
    "df_Bo = ROOT.RDataFrame(chain_Bo)\n",
    "# df_melamine = ROOT.RDataFrame(chain_melamine)\n",
    "# df_empty = ROOT.RDataFrame(chain_empty)\n",
    "\n",
    "df_Cd.Describe()"
   ]
  },
  {
   "cell_type": "code",
   "execution_count": 3,
   "metadata": {},
   "outputs": [],
   "source": [
    "config_path = \"../config/config_2023dec.toml\"\n",
    "hist_def_path = \"../config/hist_def_Cd_BR.toml\"\n",
    "calib_path = \"../calib/calib_2023dec.csv\"\n",
    "det_info_path = \"../config/det_info_2023dec.toml\"\n",
    "# output = \"../output/2024may/test.root\"\n",
    "\n",
    "hf_Cd = hf.HistogramFiller(df_Cd, config_path, hist_def_path, calib_path, det_info_path)\n",
    "# hf_Al = hf.HistogramFiller(df_Al, config, hist_def)\n",
    "hf_Bo = hf.HistogramFiller(df_Bo, config_path, hist_def_path, calib_path, det_info_path)\n",
    "# hf_melamine = hf.HistogramFiller(df_melamine, config, hist_def)\n",
    "# hf_empty = hf.HistogramFiller(df_empty, config, hist_def) "
   ]
  },
  {
   "cell_type": "code",
   "execution_count": 4,
   "metadata": {},
   "outputs": [],
   "source": [
    "hf_Cd.define_columns()\n",
    "# hf_Al.define_columns()\n",
    "hf_Bo.define_columns()\n",
    "# hf_melamine.define_columns()\n",
    "# hf_empty.define_columns()\n",
    "\n",
    "hists_Cd = hf_Cd.create_hm_from_df()\n",
    "# hists_Al = hf_Al.create_hm_from_df()\n",
    "hists_Bo = hf_Bo.create_hm_from_df()\n",
    "# hists_melamine = hf_melamine.create_hm_from_df()\n",
    "# hists_empty = hf_melamine.create_hm_from_df()\n",
    "\n",
    "hists_Cd.write(\"../output/BR_Cd.root\")\n",
    "hists_Bo.write(\"../output/BR_Bo.root\")\n",
    "# hists_Al.write(\"../output/2024may/BR_Al.root\")\n",
    "# hists_melamine.write(\"../output/2024may/BR_melamine.root\")\n",
    "# hists_empty.write(\"../output/2024may/BR_empty.root\")"
   ]
  },
  {
   "cell_type": "code",
   "execution_count": null,
   "metadata": {},
   "outputs": [],
   "source": [
    "\n"
   ]
  },
  {
   "cell_type": "code",
   "execution_count": null,
   "metadata": {},
   "outputs": [],
   "source": []
  }
 ],
 "metadata": {
  "kernelspec": {
   "display_name": "research",
   "language": "python",
   "name": "research"
  },
  "language_info": {
   "codemirror_mode": {
    "name": "ipython",
    "version": 3
   },
   "file_extension": ".py",
   "mimetype": "text/x-python",
   "name": "python",
   "nbconvert_exporter": "python",
   "pygments_lexer": "ipython3",
   "version": "3.11.9"
  }
 },
 "nbformat": 4,
 "nbformat_minor": 2
}
