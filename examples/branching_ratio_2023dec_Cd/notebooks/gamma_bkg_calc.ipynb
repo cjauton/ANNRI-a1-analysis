{
 "cells": [
  {
   "cell_type": "code",
   "execution_count": 1,
   "metadata": {},
   "outputs": [
    {
     "name": "stdout",
     "output_type": "stream",
     "text": [
      "Welcome to JupyROOT 6.30/04\n"
     ]
    }
   ],
   "source": [
    "import histogram_manager as hm\n",
    "import ROOT\n",
    "import utils"
   ]
  },
  {
   "cell_type": "code",
   "execution_count": 2,
   "metadata": {},
   "outputs": [
    {
     "data": {
      "text/plain": [
       "<HistogramManager(filename='../output/BR_Cd.root', total_objects=41)>\n",
       "\n",
       "\n",
       "Name               | Type  \n",
       "----------------------------\n",
       "hEn                | 📂 TH1D\n",
       "hEgam              | 📊 TH1D\n",
       "hEn_gate477        | 📊 TH1D\n",
       "hEn_gate9394       | 📊 TH1D\n",
       "hEn_gate9394_SE    | 📊 TH1D\n",
       "hEn_gate9394_SEbkg | 📊 TH1D\n",
       "hEn_gate9394bkg    | 📊 TH1D\n",
       "hEn_ge2MeV         | 📊 TH1D\n",
       "hPulseHeight       | 📊 TH1D\n",
       "hTOF_mus           | 📊 TH1D"
      ]
     },
     "execution_count": 2,
     "metadata": {},
     "output_type": "execute_result"
    }
   ],
   "source": [
    "hists = hm.HistogramManager(\"../output/BR_Cd.root\")\n",
    "hists"
   ]
  },
  {
   "cell_type": "code",
   "execution_count": 3,
   "metadata": {},
   "outputs": [],
   "source": [
    "# regions = {\n",
    "#     \"hEn_gate9394\": [9316, 9408],\n",
    "#     \"hEn_gate9394bkg\": [9474, 9694],\n",
    "#     \"hEn_gate9394SE\": [8860, 8892],\n",
    "#     \"hEn_gate9394SEbkg\": [8908, 8968],\n",
    "# }\n",
    "\n",
    "# regions = {\n",
    "#     \"hEn_gate9394\": [9316, 9408],\n",
    "#     \"hEn_gate9394bkg\": [9474, 9694],\n",
    "# }\n",
    "\n",
    "# gates = [\"hEn_gate9394\",\"hEn_gate9394SE\"]"
   ]
  },
  {
   "cell_type": "code",
   "execution_count": 4,
   "metadata": {},
   "outputs": [],
   "source": [
    "# for gate in gates:\n",
    "#     hist = hists.get(gate)\n",
    "#     hist_bkg = hists.get(gate+'bkg')"
   ]
  },
  {
   "cell_type": "code",
   "execution_count": 5,
   "metadata": {},
   "outputs": [],
   "source": [
    "hEgam = hists.get(\"hEgam\")"
   ]
  },
  {
   "cell_type": "code",
   "execution_count": 6,
   "metadata": {},
   "outputs": [
    {
     "name": "stdout",
     "output_type": "stream",
     "text": [
      "[0.4753725228516223]\n",
      "[]\n"
     ]
    },
    {
     "data": {
      "image/png": "[encoded data removed]",
      "text/plain": [
       "<IPython.core.display.Image object>"
      ]
     },
     "metadata": {},
     "output_type": "display_data"
    }
   ],
   "source": [
    "%jsroot off\n",
    "\n",
    "gate = [9316,9408]\n",
    "gate_bkg = [9474,9694]\n",
    "\n",
    "# gate = [8805,8897]   # SE\n",
    "# gate_bkg = [8900,8950]\n",
    "\n",
    "# gate_SE = [8860,8892]\n",
    "# gate_bkg_SE = [8908,8968]\n",
    "\n",
    "canvas_list = []\n",
    "scale_list = []\n",
    "scale_list_SE = []\n",
    "\n",
    "\n",
    "\n",
    "# for key, hEgam in hEgam_dict.items():\n",
    "    \n",
    "            \n",
    "#     c = ROOT.TCanvas()\n",
    "    \n",
    "#     hEgam.GetXaxis().SetRangeUser(gate_bkg[0]-1500,gate_bkg[1]+1000)\n",
    "#     hEgam.Draw()\n",
    "#     hEgam_bkg = hEgam.ShowBackground(80)\n",
    "    \n",
    "#     try:     \n",
    "#         num = hEgam_bkg.Integral(hEgam_bkg.GetXaxis().FindBin(gate[0]),hEgam_bkg.GetXaxis().FindBin(gate[1]))\n",
    "#         dem = hEgam_bkg.Integral(hEgam_bkg.GetXaxis().FindBin(gate_bkg[0]),hEgam_bkg.GetXaxis().FindBin(gate_bkg[1]))\n",
    "#         scale = num/dem\n",
    "#     except ZeroDivisionError:\n",
    "#         scale = 0\n",
    "        \n",
    "#     # try:     \n",
    "#     #     num_SE = hEgam_bkg.Integral(hEgam_bkg.GetXaxis().FindBin(gate_SE[0]),hEgam_bkg.GetXaxis().FindBin(gate_SE[1]))\n",
    "#     #     dem_SE = hEgam_bkg.Integral(hEgam_bkg.GetXaxis().FindBin(gate_bkg_SE[0]),hEgam_bkg.GetXaxis().FindBin(gate_bkg_SE[1]))\n",
    "#     #     scale_SE = num_SE/dem_SE\n",
    "#     # except ZeroDivisionError:\n",
    "#     #     scale_SE = 0\n",
    "        \n",
    "    \n",
    "#     canvas_list.append(c)\n",
    "#     scale_list.append(scale)\n",
    "#     # scale_list_SE.append(scale_SE)\n",
    "\n",
    "\n",
    "        \n",
    "c = ROOT.TCanvas()\n",
    "\n",
    "hEgam.GetXaxis().SetRangeUser(gate_bkg[0]-1500,gate_bkg[1]+1000)\n",
    "hEgam.Draw()\n",
    "hEgam_bkg = hEgam.ShowBackground(80)\n",
    "\n",
    "try:     \n",
    "    num = hEgam_bkg.Integral(hEgam_bkg.GetXaxis().FindBin(gate[0]),hEgam_bkg.GetXaxis().FindBin(gate[1]))\n",
    "    dem = hEgam_bkg.Integral(hEgam_bkg.GetXaxis().FindBin(gate_bkg[0]),hEgam_bkg.GetXaxis().FindBin(gate_bkg[1]))\n",
    "    scale = num/dem\n",
    "except ZeroDivisionError:\n",
    "    scale = 0\n",
    "    \n",
    "# try:     \n",
    "#     num_SE = hEgam_bkg.Integral(hEgam_bkg.GetXaxis().FindBin(gate_SE[0]),hEgam_bkg.GetXaxis().FindBin(gate_SE[1]))\n",
    "#     dem_SE = hEgam_bkg.Integral(hEgam_bkg.GetXaxis().FindBin(gate_bkg_SE[0]),hEgam_bkg.GetXaxis().FindBin(gate_bkg_SE[1]))\n",
    "#     scale_SE = num_SE/dem_SE\n",
    "# except ZeroDivisionError:\n",
    "#     scale_SE = 0\n",
    "        \n",
    "    \n",
    "canvas_list.append(c)\n",
    "scale_list.append(scale)\n",
    "#     # scale_list_SE.append(scale_SE)\n",
    "\n",
    "                \n",
    "            \n",
    "print(scale_list)\n",
    "print(scale_list_SE)\n",
    "ROOT.gROOT.GetListOfCanvases().Draw()        "
   ]
  },
  {
   "cell_type": "code",
   "execution_count": 7,
   "metadata": {},
   "outputs": [],
   "source": [
    "hEn_gatebkg = hists.get(\"hEn_gate9394bkg\")\n",
    "\n",
    "\n",
    "scaled_dict = {}\n",
    "\n",
    "\n",
    "key_scaled = utils.rename_string(\"hEn_gate9394bkg\", \"scaled\")\n",
    "\n",
    "hist_scaled = hEn_gatebkg.Clone()\n",
    "hist_scaled.SetTitle(key_scaled)\n",
    "hist_scaled.SetName(key_scaled)\n",
    "hist_scaled.Scale(scale_list[0])\n",
    "\n",
    "scaled_dict[\"hEn_gate9394bkg_scaled\"] = hist_scaled\n",
    "\n",
    "hists_scaled = hm.HistogramManager(scaled_dict)\n",
    "hists_scaled.write(\"../output/BR_Cd_bkg.root\")"
   ]
  },
  {
   "cell_type": "markdown",
   "metadata": {},
   "source": []
  },
  {
   "cell_type": "code",
   "execution_count": 8,
   "metadata": {},
   "outputs": [],
   "source": [
    "# %jsroot on\n",
    "\n",
    "# c = hists.plot_folder(\"hEn_gate9394bkg\",2,30)\n",
    "# c.Draw()\n",
    "\n",
    "# c1 = hists_scaled.plot(\"hEn_gate9394bkg_scaled\",2,30)\n",
    "\n",
    "# for canvas in c1:\n",
    "#     canvas.Draw()\n",
    "\n",
    "# ROOT.gROOT.GetListOfCanvases().Draw()"
   ]
  },
  {
   "cell_type": "code",
   "execution_count": null,
   "metadata": {},
   "outputs": [],
   "source": []
  },
  {
   "cell_type": "code",
   "execution_count": null,
   "metadata": {},
   "outputs": [],
   "source": []
  }
 ],
 "metadata": {
  "kernelspec": {
   "display_name": "research",
   "language": "python",
   "name": "research"
  },
  "language_info": {
   "codemirror_mode": {
    "name": "ipython",
    "version": 3
   },
   "file_extension": ".py",
   "mimetype": "text/x-python",
   "name": "python",
   "nbconvert_exporter": "python",
   "pygments_lexer": "ipython3",
   "version": "3.11.9"
  }
 },
 "nbformat": 4,
 "nbformat_minor": 2
}
