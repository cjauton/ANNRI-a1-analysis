{
 "cells": [
  {
   "cell_type": "code",
   "execution_count": 1,
   "id": "1b6e2ac7-35ab-47ab-a988-7b0dcff1cd46",
   "metadata": {
    "scrolled": true
   },
   "outputs": [
    {
     "name": "stdout",
     "output_type": "stream",
     "text": [
      "Welcome to JupyROOT 6.28/00\n"
     ]
    }
   ],
   "source": [
    "import ROOT\n",
    "import stage0\n",
    "import histogram_manager as hm\n",
    "\n",
    "%jsroot on"
   ]
  },
  {
   "cell_type": "markdown",
   "id": "81bb4e6f",
   "metadata": {},
   "source": [
    "## Create TChain\n",
    "\n",
    "Chain together multiple run files"
   ]
  },
  {
   "cell_type": "code",
   "execution_count": 2,
   "id": "b00e6b7a",
   "metadata": {},
   "outputs": [
    {
     "data": {
      "text/plain": [
       "1"
      ]
     },
     "execution_count": 2,
     "metadata": {},
     "output_type": "execute_result"
    }
   ],
   "source": [
    "chain = ROOT.TChain(\"rawTree\")\n",
    "\n",
    "############################## 2024Mar\n",
    "\n",
    "# chain.Add(\"/Volumes/WD_BLACK/2024Mar/Ge/rawroot/rawroot_run_0901*\") # Al \n",
    "# chain.Add(\"/Volumes/WD_BLACK/2024Mar/Ge/rawroot/rawroot_run_0903*\") # Pr 1hr\n",
    "# chain.Add(\"/Volumes/WD_BLACK/2024Mar/Ge/rawroot/rawroot_run_0905*\") # Ho 1hr\n",
    "# chain.Add(\"/Volumes/WD_BLACK/2024Mar/Ge/rawroot/rawroot_run_0906*\") # Nd 1hr\n",
    "# chain.Add(\"/Volumes/WD_BLACK/2024Mar/Ge/rawroot/rawroot_run_0908*\") # Yb 1hr\n",
    "# chain.Add(\"/Volumes/WD_BLACK/2024Mar/Ge/rawroot/rawroot_run_0910*\") # Lu 1hr\n",
    "chain.Add(\"/Volumes/WD_BLACK/2024Mar/Ge/rawroot/rawroot_run_0910_000*\") # Lu 1hr\n",
    "\n",
    "# chain.Add(\"/Volumes/WD_BLACK/2024Mar/Ge/rawroot/rawroot_run_0913*\") # Tm 1hr\n",
    "# chain.Add(\"/Volumes/WD_BLACK/2024Mar/Ge/rawroot/rawroot_run_0916*\") # Dy 1hr\n",
    "# chain.Add(\"/Volumes/WD_BLACK/2024Mar/Ge/rawroot/rawroot_run_0918*\") # Er 1hr\n",
    "# chain.Add(\"/Volumes/WD_BLACK/2024Mar/Ge/rawroot/rawroot_run_0919*\") # Gd 1hr\n",
    "# chain.Add(\"/Volumes/WD_BLACK/2024Mar/Ge/rawroot/rawroot_run_0921*\") # Sm 1hr\n",
    "\n",
    "\n",
    "# chain"
   ]
  },
  {
   "cell_type": "code",
   "execution_count": 3,
   "id": "8051908b",
   "metadata": {},
   "outputs": [],
   "source": [
    "ROOT.EnableImplicitMT() # Enable multi-threading\n",
    "\n",
    "df = ROOT.RDataFrame(chain)\n",
    "\n",
    "# df.Display().Print()\n",
    "# df.Describe().Print()"
   ]
  },
  {
   "cell_type": "code",
   "execution_count": 4,
   "id": "94de7adb",
   "metadata": {},
   "outputs": [],
   "source": [
    "# df = stage0.filter_active_channels(df)\n",
    "\n",
    "\n",
    "\n",
    "df = stage0.define_columns(df)\n",
    "hist_dict = stage0.create_hist_dict_from_df(df)\n",
    "\n",
    "hists = hm.HistogramManager(hist_dict)\n",
    "\n",
    "hists.write('../output/2024mar/2024mar_Lu.root')"
   ]
  },
  {
   "cell_type": "code",
   "execution_count": null,
   "metadata": {},
   "outputs": [],
   "source": []
  },
  {
   "cell_type": "code",
   "execution_count": null,
   "id": "b29584cb",
   "metadata": {},
   "outputs": [],
   "source": []
  },
  {
   "cell_type": "code",
   "execution_count": null,
   "id": "13cc59f6",
   "metadata": {},
   "outputs": [],
   "source": []
  },
  {
   "cell_type": "code",
   "execution_count": null,
   "id": "7d972b04",
   "metadata": {},
   "outputs": [],
   "source": []
  }
 ],
 "metadata": {
  "kernelspec": {
   "display_name": "research",
   "language": "python",
   "name": "python3"
  },
  "language_info": {
   "codemirror_mode": {
    "name": "ipython",
    "version": 3
   },
   "file_extension": ".py",
   "mimetype": "text/x-python",
   "name": "python",
   "nbconvert_exporter": "python",
   "pygments_lexer": "ipython3",
   "version": "3.11.4"
  }
 },
 "nbformat": 4,
 "nbformat_minor": 5
}
