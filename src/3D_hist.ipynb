{
 "cells": [
  {
   "cell_type": "code",
   "execution_count": 1,
   "metadata": {},
   "outputs": [
    {
     "name": "stdout",
     "output_type": "stream",
     "text": [
      "Welcome to JupyROOT 6.28/00\n"
     ]
    }
   ],
   "source": [
    "import ROOT\n",
    "import stage0\n",
    "import utils\n",
    "import numpy as np\n",
    "import matplotlib.pyplot as plt\n",
    "\n",
    "# %jsroot on"
   ]
  },
  {
   "cell_type": "code",
   "execution_count": 2,
   "metadata": {},
   "outputs": [
    {
     "data": {
      "text/plain": [
       "2"
      ]
     },
     "execution_count": 2,
     "metadata": {},
     "output_type": "execute_result"
    }
   ],
   "source": [
    "chain = ROOT.TChain(\"rawTree\")\n",
    "\n",
    "# chain.Add(\"/Volumes/WD_BLACK/2023Dec/rawroot/rawroot_run_012[4-9]*\") ### chunk 1\n",
    "# chain.Add(\"/Volumes/WD_BLACK/2023Dec/rawroot/rawroot_run_013[0-9]*\")\n",
    "# chain.Add(\"/Volumes/WD_BLACK/2023Dec/rawroot/rawroot_run_014[0-9]*\")\n",
    "# chain.Add(\"/Volumes/WD_BLACK/2023Dec/rawroot/rawroot_run_015[0-9]*\")\n",
    "# chain.Add(\"/Volumes/WD_BLACK/2023Dec/rawroot/rawroot_run_016[0-9]*\") \n",
    "# chain.Add(\"/Volumes/WD_BLACK/2023Dec/rawroot/rawroot_run_017[0-9]*\")\n",
    "# chain.Add(\"/Volumes/WD_BLACK/2023Dec/rawroot/rawroot_run_018[0-9]*\")\n",
    "\n",
    "# chain.Add(\"/Volumes/WD_BLACK/2023Dec/rawroot/rawroot_run_019[0-9]*\") ### chunk 2\n",
    "# chain.Add(\"/Volumes/WD_BLACK/2023Dec/rawroot/rawroot_run_020[7-9]*\") \n",
    "# chain.Add(\"/Volumes/WD_BLACK/2023Dec/rawroot/rawroot_run_021[0-9]*\")\n",
    "# chain.Add(\"/Volumes/WD_BLACK/2023Dec/rawroot/rawroot_run_022[0-9]*\")\n",
    "# chain.Add(\"/Volumes/WD_BLACK/2023Dec/rawroot/rawroot_run_023[0-9]*\")\n",
    "# chain.Add(\"/Volumes/WD_BLACK/2023Dec/rawroot/rawroot_run_024[0-2]*\") \n",
    "\n",
    "# chain.Add(\"/Volumes/WD_BLACK/2023Dec/rawroot/rawroot_run_024[5-9]*\") ### chunk 3\n",
    "# chain.Add(\"/Volumes/WD_BLACK/2023Dec/rawroot/rawroot_run_025[0-9]*\") \n",
    "# chain.Add(\"/Volumes/WD_BLACK/2023Dec/rawroot/rawroot_run_026[0-9]*\")\n",
    "# chain.Add(\"/Volumes/WD_BLACK/2023Dec/rawroot/rawroot_run_027[0-9]*\") \n",
    "# chain.Add(\"/Volumes/WD_BLACK/2023Dec/rawroot/rawroot_run_028[0-9]*\")\n",
    "# chain.Add(\"/Volumes/WD_BLACK/2023Dec/rawroot/rawroot_run_029[0-9]*\")\n",
    "# chain.Add(\"/Volumes/WD_BLACK/2023Dec/rawroot/rawroot_run_030[0-8]*\")\n",
    "\n",
    "\n",
    "\n",
    "# chain.Add(\"/Volumes/WD_BLACK/2023Dec/rawroot/rawroot_run_0309*\")\n",
    "\n",
    "# chain.Add(\"/Volumes/WD_BLACK/2023Dec/rawroot/rawroot_run_0310*\")\n",
    "# chain.Add(\"/Volumes/WD_BLACK/2023Dec/rawroot/rawroot_run_0311*\")\n",
    "\n",
    "### Pr 1hr\n",
    "chain.Add(\"/Volumes/WD_BLACK/2024Mar/Ge/rawroot/rawroot_run_0926*\")\n",
    "\n"
   ]
  },
  {
   "cell_type": "code",
   "execution_count": 3,
   "metadata": {},
   "outputs": [
    {
     "name": "stdout",
     "output_type": "stream",
     "text": [
      "Dataframe from TChain rawTree in files\n",
      "  /Volumes/WD_BLACK/2024Mar/Ge/rawroot/rawroot_run_0926_000.root\n",
      "  /Volumes/WD_BLACK/2024Mar/Ge/rawroot/rawroot_run_0926_001.root\n",
      "\n",
      "Property                Value\n",
      "--------                -----\n",
      "Columns in total           13\n",
      "Columns from defines        6\n",
      "Event loops run             0\n",
      "Processing slots            8\n",
      "\n",
      "Column          Type            Origin\n",
      "------          ----            ------\n",
      "Coin            UInt_t          Dataset\n",
      "Egam            double          Define\n",
      "Egam_rounded    double          Define\n",
      "En              double          Define\n",
      "Flags           UInt_t          Dataset\n",
      "PulseHeight     UShort_t        Dataset\n",
      "Timestamp       ULong64_t       Dataset\n",
      "detector        Int_t           Dataset\n",
      "nTrigger        ULong64_t       Dataset\n",
      "tof             ULong64_t       Dataset\n",
      "tof_10ns        ULong64_t       Define\n",
      "tof_mus         double          Define\n",
      "tof_ns          double          Define"
     ]
    }
   ],
   "source": [
    "ROOT.EnableImplicitMT() # Enable multi-threading\n",
    "\n",
    "df = ROOT.RDataFrame(chain)\n",
    "\n",
    "df = stage0.filter_active_channels(df)\n",
    "\n",
    "df = stage0.define_columns(df)\n",
    "\n",
    "df = df.Filter(\"PulseHeight > 0\")\n",
    "\n",
    "df.Describe().Print()\n"
   ]
  },
  {
   "cell_type": "code",
   "execution_count": 4,
   "metadata": {},
   "outputs": [],
   "source": [
    "xbins = np.array(utils.get_xbins(10000, 0, 10000, True, 21.5))\n",
    "# ybins = np.array(utils.get_xbins(10000, 0, 10000, False, 21.5))\n",
    "ybins = np.array(utils.get_xbins(2000, 6000, 8000, False, 21.5))\n",
    "\n",
    "hEn_hEgam_model = ROOT.RDF.TH2DModel(\"hEn_hEgam\", \"hEn_hEgam;En (eV); Egam (keV)\", len(xbins)-1, xbins, len(ybins)-1, ybins)\n",
    "hEn_model = ROOT.RDF.TH1DModel(\"hEn\", \"hEn; En (eV); Counts\",  len(xbins)-1, xbins)\n",
    "\n",
    "hEgam_model = ROOT.RDF.TH1DModel(\"hEgam\", \"hEgam; Egam (keV); counts\", len(ybins)-1, ybins)\n",
    "\n",
    "hEn_hEgam = df.Histo2D(hEn_hEgam_model,\"En\",\"Egam_rounded\")\n",
    "hEn = df.Histo1D(hEn_model,\"En\")\n",
    "hEgam = df.Histo1D(hEgam_model,\"Egam\")\n"
   ]
  },
  {
   "cell_type": "code",
   "execution_count": 5,
   "metadata": {},
   "outputs": [],
   "source": [
    "# %jsroot on\n",
    "# c = ROOT.TCanvas()\n",
    "# hEn_hEgam.Draw(\"colz\")\n",
    "# hEn_hEgam.GetXaxis().SetRangeUser(2,10)\n",
    "# hEn_hEgam.GetYaxis().SetRangeUser(2000,12000)\n",
    "# c.SetLogz()\n",
    "# ROOT.gStyle.SetOptStat(0)\n",
    "# c.Draw()"
   ]
  },
  {
   "cell_type": "code",
   "execution_count": 6,
   "metadata": {},
   "outputs": [],
   "source": [
    "f = ROOT.TFile.Open(\"../output/2024mar/2024mar_3D_Ho.root\", \"recreate\")\n",
    "\n",
    "# hEn_hEgam.Write()\n",
    "# hEn.Write()\n",
    "hEgam.Write()\n",
    "\n",
    "f.Close()"
   ]
  },
  {
   "cell_type": "code",
   "execution_count": 7,
   "metadata": {},
   "outputs": [],
   "source": [
    "# import ROOT\n",
    "# %jsroot on\n",
    "\n",
    "# f = ROOT.TFile.Open(\"2023dec_3D_Pr.root\",\"READ\")\n",
    "    \n",
    "# hEn_hEgam = f.Get(\"hEn_hEgam\")\n",
    "\n",
    "\n",
    "# x1 = hEn_hEgam.GetYaxis().FindBin(9200)\n",
    "# x2 = hEn_hEgam.GetYaxis().FindBin(9500)\n",
    "# hEn_hEgam_proj = hEn_hEgam.ProjectionX(\"projection\",x1,x2)\n",
    "\n",
    "\n",
    "# # hEn_hEgam.SetDirectory(0)\n",
    "\n",
    "# c = ROOT.TCanvas()\n",
    "\n",
    "# hEn_hEgam_proj.Draw()\n",
    "\n",
    "# hEn_hEgam_proj.GetXaxis().SetRangeUser(1,8)\n",
    "\n",
    "# # hEn_hEgam_proj.Rebin(2)\n",
    "# # hEn_hEgam_proj.Smooth()\n",
    "\n",
    "# hEn_hEgam_proj_bkg = hEn_hEgam_proj.ShowBackground(40,\"same nocompton\")\n",
    "# hEn_hEgam_proj.Add(hEn_hEgam_proj_bkg,-1)\n",
    "\n",
    "\n",
    "# c.Draw()\n",
    "# # ROOT.gROOT.GetListOfCanvases().Draw()    "
   ]
  },
  {
   "cell_type": "code",
   "execution_count": null,
   "metadata": {},
   "outputs": [],
   "source": []
  },
  {
   "cell_type": "code",
   "execution_count": null,
   "metadata": {},
   "outputs": [],
   "source": []
  }
 ],
 "metadata": {
  "kernelspec": {
   "display_name": "research",
   "language": "python",
   "name": "python3"
  },
  "language_info": {
   "codemirror_mode": {
    "name": "ipython",
    "version": 3
   },
   "file_extension": ".py",
   "mimetype": "text/x-python",
   "name": "python",
   "nbconvert_exporter": "python",
   "pygments_lexer": "ipython3",
   "version": "3.11.4"
  }
 },
 "nbformat": 4,
 "nbformat_minor": 2
}
