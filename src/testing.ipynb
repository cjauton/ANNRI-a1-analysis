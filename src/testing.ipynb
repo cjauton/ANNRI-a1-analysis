{
 "cells": [
  {
   "cell_type": "code",
   "execution_count": null,
   "metadata": {},
   "outputs": [],
   "source": [
    "import histogram_manager as hm\n",
    "import ROOT\n",
    "import utils\n",
    "import toml\n",
    "import pandas as pd \n",
    "import numpy as np\n",
    "\n",
    "%jsroot on"
   ]
  },
  {
   "cell_type": "code",
   "execution_count": null,
   "metadata": {},
   "outputs": [],
   "source": [
    "hists = hm.HistogramManager(\"../output/stage1_output.root\")\n",
    "hists\n",
    "c = hists.plot(\"hEgam_d1\")[0]\n",
    "\n",
    "c.Draw()\n",
    "\n",
    "# hists.write(\"test.root\")\n",
    "\n",
    "ROOT.gROOT.GetListOfCanvases().Draw()\n",
    "\n"
   ]
  },
  {
   "cell_type": "code",
   "execution_count": null,
   "metadata": {},
   "outputs": [],
   "source": [
    "# c = hists.plot(\"hEn_beamcorr_pucorr\",(8,16))\n",
    "# # c.Draw()\n",
    "\n",
    "# for canvas in c:\n",
    "#     canvas.Draw()\n",
    "\n",
    "# ROOT.gROOT.GetListOfCanvases().Draw()"
   ]
  },
  {
   "cell_type": "code",
   "execution_count": null,
   "metadata": {},
   "outputs": [],
   "source": [
    "# det_map_dict = {\n",
    "#     \"position\": [-1,1,7,3,-1,-1,6,5,-1,13,10,11,-1,9,-1,15,-1,18,17,19,20,-1,-1,-1,-1,28,25,-1,-1,-1,-1,-1],\n",
    "#     \"active\": [False,True,True,True,False,False,True,True,False,True,True,True,False,True,False,True,\n",
    "#                False,True,True,True,False,False,False,False,False,True,False,True,False,False,False,False],\n",
    "#     \"type\": ['shot', 'up', 'up', 'up', 'empty', 'empty', 'up', 'up', 'shot', 'down', 'down', 'down', 'empty', \n",
    "#              'down', 'empty', 'down', 'shot', 'coaxial', 'coaxial', 'coaxial', 'coaxial', 'empty', 'empty', \n",
    "#              'empty', 'shot', 'coaxial', 'coaxial', 'empty', 'up', 'empty', 'empty', 'empty']\n",
    "# }\n",
    "\n",
    "# df = pd.DataFrame(det_map_dict)\n",
    "# df.index.name = 'ch'\n",
    "# df"
   ]
  },
  {
   "cell_type": "code",
   "execution_count": null,
   "metadata": {},
   "outputs": [],
   "source": [
    "config1= utils.load_config(\"../scripts/det_map1.toml\")\n",
    "data1 = config1[\"det\"]\n",
    "# data\n",
    "\n",
    "df1 = pd.DataFrame(data1).T\n",
    "# df1.index.name = 'channel'\n",
    "df1.index = df1.channel\n",
    "del df1[\"channel\"]\n",
    "df1\n",
    "\n",
    "config2= utils.load_config(\"../scripts/det_map2.toml\")\n",
    "data2 = config2[\"det\"]\n",
    "# data\n",
    "\n",
    "df2 = pd.DataFrame(data2).T\n",
    "# df1.index.name = 'channel'\n",
    "df2.index = df2.channel\n",
    "del df2[\"channel\"]\n",
    "df2\n",
    "\n",
    "\n",
    "# dict = df1.to_dict(orient=\"list\")\n",
    "# with open('test.toml','w') as f:\n",
    "#     toml.dump(dict,f)\n"
   ]
  },
  {
   "cell_type": "code",
   "execution_count": null,
   "metadata": {},
   "outputs": [],
   "source": [
    "# type(list(df1.position)[1])\n",
    "# list(df1.position)\n",
    "\n",
    "# df1.active.to_numpy()\n"
   ]
  },
  {
   "cell_type": "code",
   "execution_count": null,
   "metadata": {},
   "outputs": [],
   "source": [
    "import matplotlib.pyplot as plt\n",
    "import numpy as np\n",
    "import matplotlib.patches as patches\n",
    "\n",
    "def plot_detectors(channels=None):\n",
    "    fig, ax = plt.subplots(figsize=(8, 8))\n",
    "    ax.set_aspect('equal')\n",
    "\n",
    "    def hexagon_vertices(ctr, rad):\n",
    "        return [(ctr[0] + rad * np.cos(angle), ctr[1] + rad * np.sin(angle)) for angle in np.linspace(0, 2*np.pi, 6, endpoint=False)]\n",
    "\n",
    "    def centroid(vertices):\n",
    "        x_coords = [vert[0] for vert in vertices]\n",
    "        y_coords = [vert[1] for vert in vertices]\n",
    "        return sum(x_coords) / len(vertices), sum(y_coords) / len(vertices)\n",
    "\n",
    "    def get_label(position):\n",
    "        if channels is None:\n",
    "            return str(position)\n",
    "        else:\n",
    "            try:\n",
    "                return f\"ch{channels.index(position)}\"\n",
    "            except ValueError:\n",
    "                return \"x\"\n",
    "\n",
    "    def plot_hexagon_cluster(center=(0, 0), s=1, start_position=1):\n",
    "        outer_hex_verts = hexagon_vertices(center, s)\n",
    "        outer_hex = patches.Polygon(outer_hex_verts, closed=True, edgecolor='blue', fill=False)\n",
    "        ax.add_patch(outer_hex)\n",
    "\n",
    "        r = np.sqrt((2 * s**2) / (7 * np.sqrt(3)))\n",
    "        inner_hex_verts = hexagon_vertices(center, r)\n",
    "        inner_hex = patches.Polygon(inner_hex_verts, closed=True, edgecolor='blue', fill=False)\n",
    "        ax.add_patch(inner_hex)\n",
    "\n",
    "        ax.text(center[0], center[1], get_label(start_position + 6), ha='center', va='center')\n",
    "        indices = [5, 4, 3, 2, 1, 0]\n",
    "        for i, index in enumerate(indices):\n",
    "            inner_v, outer_v = inner_hex_verts[index], outer_hex_verts[index]\n",
    "            ax.plot([inner_v[0], outer_v[0]], [inner_v[1], outer_v[1]], color='blue')\n",
    "            next_outer_v = outer_hex_verts[(index+1) % 6]\n",
    "            next_inner_v = inner_hex_verts[(index+1) % 6]\n",
    "            trap_center = centroid([inner_v, next_inner_v, next_outer_v, outer_v])\n",
    "            ax.text(trap_center[0], trap_center[1], get_label(start_position + i), ha='center', va='center')\n",
    "\n",
    "    def plot_circular_detectors(center=(0,0), radius=2.9, angles=[-144, -108, -72, -36, 36, 72, 108, 144], circle_radius=0.4, start_position=17):\n",
    "        custom_order = [17, 18, 19, 20, 28, 27, 26, 25]\n",
    "        for i, angle in enumerate(angles):\n",
    "            x = center[0] + radius * np.cos(np.radians(angle))\n",
    "            y = center[1] + radius * np.sin(np.radians(angle))\n",
    "            circle = patches.Circle((x, y), circle_radius, edgecolor='red', fill=False)\n",
    "            ax.add_patch(circle)\n",
    "            ax.text(x, y, get_label(custom_order[i]), ha='center', va='center')\n",
    "\n",
    "    plot_hexagon_cluster((0, 1), start_position=1)\n",
    "    plot_hexagon_cluster((0, -1), start_position=9)\n",
    "    plot_circular_detectors(start_position=17)\n",
    "\n",
    "    ax.set_xlim(-4, 4)\n",
    "    ax.set_ylim(-4, 4)\n",
    "    ax.axis('off')\n",
    "    plt.show()\n",
    "\n",
    "\n",
    "plot_detectors()\n",
    "plot_detectors(list(df1.position))\n",
    "plot_detectors(list(df2.position))\n"
   ]
  },
  {
   "cell_type": "code",
   "execution_count": null,
   "metadata": {},
   "outputs": [],
   "source": [
    "# # infile = ROOT.TFile.Open('../data/raw0088_000.root')\n",
    "\n",
    "# df = ROOT.RDataFrame('rawTree','../data/rawroot_run_0014_000.root')\n",
    "# # df.Display().Print()\n",
    "# # df = df.Alias(\"PulseHeight\",\"pulseHeight\")\n",
    "# # df.Describe().Print()\n",
    "# # df.Display().Print()\n",
    "# a = df.Mean(\"tof\")\n",
    "\n",
    "# print(a.GetValue())"
   ]
  },
  {
   "cell_type": "code",
   "execution_count": null,
   "metadata": {},
   "outputs": [],
   "source": [
    "canvas_list = hists.plot(\"hEgam\")\n",
    "print(hists)\n",
    "\n",
    "for canvas in canvas_list:\n",
    "    canvas.Draw()\n",
    "    \n",
    "ROOT.gROOT.GetListOfCanvases().Draw()"
   ]
  },
  {
   "cell_type": "code",
   "execution_count": 34,
   "metadata": {},
   "outputs": [
    {
     "data": {
      "text/plain": [
       "32"
      ]
     },
     "execution_count": 34,
     "metadata": {},
     "output_type": "execute_result"
    }
   ],
   "source": [
    "config = toml.load(\"../configs/stage0_config.toml\")\n",
    "\n",
    "\n",
    "config['general']['numch']\n"
   ]
  },
  {
   "cell_type": "code",
   "execution_count": null,
   "metadata": {},
   "outputs": [],
   "source": []
  }
 ],
 "metadata": {
  "kernelspec": {
   "display_name": "research",
   "language": "python",
   "name": "python3"
  },
  "language_info": {
   "codemirror_mode": {
    "name": "ipython",
    "version": 3
   },
   "file_extension": ".py",
   "mimetype": "text/x-python",
   "name": "python",
   "nbconvert_exporter": "python",
   "pygments_lexer": "ipython3",
   "version": "3.11.4"
  },
  "orig_nbformat": 4
 },
 "nbformat": 4,
 "nbformat_minor": 2
}
