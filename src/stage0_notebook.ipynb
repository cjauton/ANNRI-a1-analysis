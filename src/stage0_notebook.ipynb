{
 "cells": [
  {
   "cell_type": "code",
   "execution_count": 1,
   "id": "1b6e2ac7-35ab-47ab-a988-7b0dcff1cd46",
   "metadata": {
    "scrolled": true
   },
   "outputs": [
    {
     "name": "stdout",
     "output_type": "stream",
     "text": [
      "Welcome to JupyROOT 6.28/00\n"
     ]
    }
   ],
   "source": [
    "import ROOT\n",
    "import stage0\n",
    "import utils\n",
    "\n",
    "%jsroot on"
   ]
  },
  {
   "cell_type": "markdown",
   "id": "f1f26c42-268c-49ea-bc29-7df8b88c4851",
   "metadata": {},
   "source": [
    "## Load Config\n",
    "The config holds all the information on how to construct the histograms and other general settings"
   ]
  },
  {
   "cell_type": "code",
   "execution_count": 2,
   "id": "5ae00d1f-1c6b-45af-90b0-ab1cf7ff62a0",
   "metadata": {
    "editable": true,
    "slideshow": {
     "slide_type": ""
    },
    "tags": []
   },
   "outputs": [],
   "source": [
    "# # config = toml.load(\"stage0_config.toml\")\n",
    "# config = config_loader.load(\"../configs/stage0_config.toml\")\n",
    "# # config"
   ]
  },
  {
   "cell_type": "markdown",
   "id": "753cbd25-d176-48f7-b26b-f6f67c73ee27",
   "metadata": {},
   "source": [
    "## Read Calibration\n",
    "Read the detector calibration from csv file"
   ]
  },
  {
   "cell_type": "code",
   "execution_count": 5,
   "id": "b5f4a776",
   "metadata": {},
   "outputs": [],
   "source": [
    "# import csv\n",
    "# import numpy as np\n",
    "\n",
    "# def extract_calib_from_csv(filename, numch):\n",
    "#     # Initialize the arrays with default values\n",
    "#     calib_slope = np.ones(numch)\n",
    "#     calib_offset = np.zeros(numch)\n",
    "\n",
    "#     with open(filename, 'r') as file:\n",
    "#         reader = csv.reader(file)\n",
    "#         next(reader)  # Skip the header\n",
    "        \n",
    "#         for row in reader:\n",
    "#             index = int(row[0])\n",
    "#             calib_slope[index] = float(row[1])\n",
    "#             calib_offset[index] = float(row[2])\n",
    "            \n",
    "#     return calib_slope, calib_offset\n",
    "\n",
    "# # Usage\n",
    "# filename = \"../calib/calib_apr.csv\"\n",
    "# numch = config['general']['numch']\n",
    "# calib_slope, calib_offset = extract_calib_from_csv(filename, numch)\n",
    "\n"
   ]
  },
  {
   "cell_type": "markdown",
   "id": "07314c86-9498-477f-ad77-d08edb181ac5",
   "metadata": {},
   "source": [
    "## NUMBA Function\n",
    "Create JIT compiled C++ function for creating hEgam column"
   ]
  },
  {
   "cell_type": "code",
   "execution_count": 6,
   "id": "d72a20e0-dcb3-4554-939b-e910209b7509",
   "metadata": {},
   "outputs": [],
   "source": [
    "# @ROOT.Numba.Declare([\"int\",\"int\"], \"double\")\n",
    "# def calc_Egam(detector,PulseHeight):\n",
    "#     return PulseHeight*calib_slope[detector]+calib_offset[detector]"
   ]
  },
  {
   "cell_type": "markdown",
   "id": "7e7e983f-bd71-4664-849b-b651b6f387c1",
   "metadata": {},
   "source": [
    "## Create RDataFrame\n",
    "Create data frame and define new columns then filter by channel. Create histogram models and then fill histograms."
   ]
  },
  {
   "cell_type": "code",
   "execution_count": null,
   "id": "0e7e2aed",
   "metadata": {},
   "outputs": [],
   "source": [
    "# ROOT.EnableImplicitMT()\n",
    "\n",
    "# tree_name = config['general']['tree_name']\n",
    "# numch = config['general']['numch']\n",
    "# fp_length = config['general']['fp_length']\n",
    "# pu_flag = config['general']['pu_flag']\n",
    "# fo_flag = config['general']['fo_flag']\n",
    "\n",
    "# # file_name = \"data/rawroot_run_0064*\"\n",
    "# file_name = \"data/rawroot_run_0014*\"\n",
    "\n",
    "\n",
    "# df = ROOT.RDataFrame(tree_name, file_name)\n",
    "\n",
    "\n",
    "# s1 =  \"PulseHeight != 0\"\n",
    "# s2 =  \"PulseHeight == 0\"\n",
    "# s3 =  f\"PulseHeight == 0 && Flags == {pu_flag}\"\n",
    "# s4 =  f\"PulseHeight == 0 && Flags != {pu_flag}\"\n",
    "# s5 =  f\"PulseHeight != 0 && Flags == {pu_flag}\"\n",
    "# s6 =  f\"PulseHeight != 0 && Flags != {pu_flag}\"\n",
    "# s7 =  f\"Flags == {pu_flag}\"\n",
    "# s8 =  f\"Flags != {pu_flag}\"\n",
    "\n",
    "# df = df.Filter(f\" detector == {1}\")\n",
    "# df1 = df.Filter(f\" detector == {1} &&\"+s1)\n",
    "# df2 = df.Filter(f\" detector == {1} &&\"+s2)\n",
    "# df3 = df.Filter(f\" detector == {1} &&\"+s3)\n",
    "# df4 = df.Filter(f\" detector == {1} &&\"+s4)\n",
    "# df5 = df.Filter(f\" detector == {1} &&\"+s5)\n",
    "# df6 = df.Filter(f\" detector == {1} &&\"+s6)\n",
    "# df7 = df.Filter(f\" detector == {1} &&\"+s7)\n",
    "# df8 = df.Filter(f\" detector == {1} &&\"+s8)\n",
    "\n",
    "# c = df.Count().GetValue()\n",
    "# c1 = df1.Count().GetValue()\n",
    "# c2 = df2.Count().GetValue()\n",
    "# c3 = df3.Count().GetValue()\n",
    "# c4 = df4.Count().GetValue()\n",
    "# c5 = df5.Count().GetValue()\n",
    "# c6 = df6.Count().GetValue()\n",
    "# c7 = df7.Count().GetValue()\n",
    "# c8 = df8.Count().GetValue()\n",
    "\n",
    "# print(\"no cuts:\" + f\" {c} counts\")\n",
    "# print(s1 + f\": {c1} counts {c1/c*100}%\")\n",
    "# print(s2 + f\": {c2} counts {c2/c*100}%\")\n",
    "# print(s7 + f\": {c7} counts {c7/c*100}%\")\n",
    "# print(s8 + f\": {c8} counts {c8/c*100}%\")\n",
    "# print(s3 + f\": {c3} counts {c3/c*100}%\")\n",
    "# print(s4 + f\": {c4} counts {c4/c*100}%\")\n",
    "# print(s5 + f\": {c5} counts {c5/c*100}%\")\n",
    "# print(s6 + f\": {c6} counts {c6/c*100}%\")"
   ]
  },
  {
   "cell_type": "code",
   "execution_count": 3,
   "id": "e28c5629",
   "metadata": {},
   "outputs": [],
   "source": [
    "hist_dict = stage0.read_rawroot_to_dict(\"../data/rawroot_run_0014*\")"
   ]
  },
  {
   "cell_type": "markdown",
   "id": "463ea5fa-b4a4-412f-8c65-517f17d98d48",
   "metadata": {},
   "source": [
    "## Write Histograms\n",
    "Write histograms from dictionary to a root file maintaing heirerachy. "
   ]
  },
  {
   "cell_type": "code",
   "execution_count": null,
   "id": "2c9dc78f-0f27-4281-a726-7879861939a7",
   "metadata": {
    "editable": true,
    "slideshow": {
     "slide_type": ""
    },
    "tags": []
   },
   "outputs": [],
   "source": [
    "det_number = [-1,1,28,3,-1,7,6,2,-1,13,10,11,-1,9,-1,15,-1,18,17,19,-1,-1,-1,-1,-1,26,-1,-1,25,-1,-1,-1] # det number for index of position number runs 13~54\n",
    "# det_number = [-1,1,28,3,-1,7,6,2,-1,13,10,11,-1,9,-1,15,-1,18,17,-1,19,-1,-1,-1,-1,26,-1,-1,25,-1,-1,-1] #det number for index of position number runs 55~90\n",
    "\n",
    "\n",
    "det_pos_map = ROOT.TH2I(\"det_pos_map\",\"det_pos_map;position # ;detector # \",32,0,32,32,0,32)\n",
    "det_pos_graph = ROOT.TGraph()\n",
    "det_pos_graph.SetTitle(\"det_pos_graph\")\n",
    "det_pos_graph.SetName(\"det_pos_graph\")\n",
    "det_pos_graph.GetXaxis().SetTitle(\"positon #\")\n",
    "det_pos_graph.GetYaxis().SetTitle(\"detector #\")\n",
    "\n",
    "\n",
    "\n",
    "for ch in range(numch):\n",
    "    det_pos_map.SetBinContent(ch+1,det_number[ch]+1,1)\n",
    "    det_pos_graph.AddPoint(ch,det_number[ch])\n",
    "\n",
    "hist_dict[det_pos_map.GetName()] = det_pos_map\n",
    "hist_dict[det_pos_graph.GetName()] = det_pos_graph\n",
    "\n"
   ]
  },
  {
   "cell_type": "code",
   "execution_count": null,
   "id": "e7f17a12-20e9-417f-a7bc-2200292ac2f1",
   "metadata": {},
   "outputs": [],
   "source": [
    "utils.write_dict_to_root(hist_dict, \"stage0_output.root\")"
   ]
  }
 ],
 "metadata": {
  "kernelspec": {
   "display_name": "research",
   "language": "python",
   "name": "python3"
  },
  "language_info": {
   "codemirror_mode": {
    "name": "ipython",
    "version": 3
   },
   "file_extension": ".py",
   "mimetype": "text/x-python",
   "name": "python",
   "nbconvert_exporter": "python",
   "pygments_lexer": "ipython3",
   "version": "3.11.4"
  }
 },
 "nbformat": 4,
 "nbformat_minor": 5
}
