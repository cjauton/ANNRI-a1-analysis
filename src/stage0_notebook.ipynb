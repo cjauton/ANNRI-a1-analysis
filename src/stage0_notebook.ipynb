{
 "cells": [
  {
   "cell_type": "code",
   "execution_count": 3,
   "id": "1b6e2ac7-35ab-47ab-a988-7b0dcff1cd46",
   "metadata": {
    "scrolled": true
   },
   "outputs": [],
   "source": [
    "import ROOT\n",
    "import stage0\n",
    "import utils\n",
    "\n",
    "%jsroot on"
   ]
  },
  {
   "cell_type": "markdown",
   "id": "81bb4e6f",
   "metadata": {},
   "source": [
    "## Create TChain\n",
    "\n",
    "Chain together multiple run files"
   ]
  },
  {
   "cell_type": "code",
   "execution_count": 4,
   "id": "b00e6b7a",
   "metadata": {},
   "outputs": [
    {
     "data": {
      "text/plain": [
       "1"
      ]
     },
     "execution_count": 4,
     "metadata": {},
     "output_type": "execute_result"
    }
   ],
   "source": [
    "chain = ROOT.TChain(\"rawTree\")\n",
    "\n",
    "chain.Add(\"../data/rawroot_run_0014*\")\n",
    "# chain.Add(\"../data/raw0088_000.root\")\n",
    "# chain.Add(\"/Volumes/WD_BLACK/2023Apr/Ge/rawroot/rawroot_run_0015*\")\n",
    "\n",
    "\n",
    "# Apr 23, Ge, NaI, ALL RUNS BELOW \n",
    "\n",
    "# chain.Add(\"/Volumes/WD_BLACK/2023Apr/Ge/rawroot/rawroot_run_0064*\")\n",
    "\n",
    "# chain.Add(\"/Volumes/WD_BLACK/2023Apr/Ge/rawroot/rawroot_run_001[4-9]*\")\n",
    "# chain.Add(\"/Volumes/WD_BLACK/2023Apr/Ge/rawroot/rawroot_run_002[0-1]*\")\n",
    "# chain.Add(\"/Volumes/WD_BLACK/2023Apr/Ge/rawroot/rawroot_run_004[8-9]*\")\n",
    "# chain.Add(\"/Volumes/WD_BLACK/2023Apr/Ge/rawroot/rawroot_run_005[0-4]*\")\n",
    "\n",
    "# chain.Add(\"/Volumes/WD_BLACK/2023Apr/Ge/rawroot/rawroot_run_005[7-9]*\") # detector position changes\n",
    "# chain.Add(\"/Volumes/WD_BLACK/2023Apr/Ge/rawroot/rawroot_run_006[0-3]*\")\n",
    "# chain.Add(\"/Volumes/WD_BLACK/2023Apr/Ge/rawroot/rawroot_run_006[7-9]*\")\n",
    "# chain.Add(\"/Volumes/WD_BLACK/2023Apr/Ge/rawroot/rawroot_run_007[0-3]*\")\n",
    "# chain.Add(\"/Volumes/WD_BLACK/2023Apr/Ge/rawroot/rawroot_run_007[5-8]*\")\n",
    "   \n",
    "# chain.Add(\"/Volumes/WD_BLACK/2023Apr/Ge/rawroot/rawroot_run_007[9-9]*\") # det 11 calibration changes here\n",
    "# chain.Add(\"/Volumes/WD_BLACK/2023Apr/Ge/rawroot/rawroot_run_008[0-9]*\")\n",
    "\n",
    "# chain"
   ]
  },
  {
   "cell_type": "code",
   "execution_count": 5,
   "id": "8051908b",
   "metadata": {},
   "outputs": [],
   "source": [
    "ROOT.EnableImplicitMT() # Enable multi-threading\n",
    "\n",
    "df = ROOT.RDataFrame(chain)\n",
    "\n",
    "df = stage0.filter_active_channels(df)\n",
    "\n",
    "df = stage0.define_columns(df)\n",
    "\n",
    "hist_dict = stage0.create_hist_dict_from_df(df)\n",
    "\n",
    "utils.write_dict_to_root(hist_dict, \"../output/stage0_output.root\")"
   ]
  },
  {
   "cell_type": "markdown",
   "id": "463ea5fa-b4a4-412f-8c65-517f17d98d48",
   "metadata": {},
   "source": [
    "## Write Histograms\n",
    "Write histograms from dictionary to a root file maintaing heirerachy. "
   ]
  },
  {
   "cell_type": "code",
   "execution_count": null,
   "id": "2c9dc78f-0f27-4281-a726-7879861939a7",
   "metadata": {
    "editable": true,
    "slideshow": {
     "slide_type": ""
    },
    "tags": []
   },
   "outputs": [],
   "source": [
    "# # TODO: Make this a function\n",
    "\n",
    "# # det_number = [-1,1,28,3,-1,7,6,2,-1,13,10,11,-1,9,-1,15,-1,18,17,19,-1,-1,-1,-1,-1,26,-1,-1,25,-1,-1,-1] # det number for index of position number runs 13~54\n",
    "# det_number = [-1,1,28,3,-1,7,6,2,-1,13,10,11,-1,9,-1,15,-1,18,17,-1,19,-1,-1,-1,-1,26,-1,-1,25,-1,-1,-1] #det number for index of position number runs 55~90\n",
    "\n",
    "# det_pos_map = ROOT.TH2I(\"det_pos_map\",\"det_pos_map;position # ;detector # \",32,0,32,32,0,32)\n",
    "# det_pos_graph = ROOT.TGraph()\n",
    "# det_pos_graph.SetTitle(\"det_pos_graph\")\n",
    "# det_pos_graph.SetName(\"det_pos_graph\")\n",
    "# det_pos_graph.GetXaxis().SetTitle(\"positon #\")\n",
    "# det_pos_graph.GetYaxis().SetTitle(\"detector #\")\n",
    "\n",
    "# for ch in range(stage0.config['general']['numch']):\n",
    "#     det_pos_map.SetBinContent(ch+1,det_number[ch]+1,1)\n",
    "#     det_pos_graph.AddPoint(ch,det_number[ch])\n",
    "\n",
    "# hist_dict[det_pos_map.GetName()] = det_pos_map\n",
    "# hist_dict[det_pos_graph.GetName()] = det_pos_graph\n"
   ]
  },
  {
   "cell_type": "code",
   "execution_count": null,
   "id": "e7f17a12-20e9-417f-a7bc-2200292ac2f1",
   "metadata": {},
   "outputs": [],
   "source": [
    "utils.write_dict_to_root(hist_dict, \"../output/stage0_output.root\")"
   ]
  },
  {
   "cell_type": "code",
   "execution_count": null,
   "id": "88e9dad0",
   "metadata": {},
   "outputs": [],
   "source": []
  },
  {
   "cell_type": "code",
   "execution_count": null,
   "id": "dafed1bc",
   "metadata": {},
   "outputs": [],
   "source": []
  },
  {
   "cell_type": "code",
   "execution_count": null,
   "id": "de8e1812",
   "metadata": {},
   "outputs": [],
   "source": []
  }
 ],
 "metadata": {
  "kernelspec": {
   "display_name": "research",
   "language": "python",
   "name": "python3"
  },
  "language_info": {
   "codemirror_mode": {
    "name": "ipython",
    "version": 3
   },
   "file_extension": ".py",
   "mimetype": "text/x-python",
   "name": "python",
   "nbconvert_exporter": "python",
   "pygments_lexer": "ipython3",
   "version": "3.11.4"
  }
 },
 "nbformat": 4,
 "nbformat_minor": 5
}
