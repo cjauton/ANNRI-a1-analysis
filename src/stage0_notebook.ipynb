{
 "cells": [
  {
   "cell_type": "code",
   "execution_count": 1,
   "id": "1b6e2ac7-35ab-47ab-a988-7b0dcff1cd46",
   "metadata": {
    "scrolled": true
   },
   "outputs": [
    {
     "name": "stdout",
     "output_type": "stream",
     "text": [
      "Welcome to JupyROOT 6.28/00\n"
     ]
    }
   ],
   "source": [
    "import ROOT\n",
    "import stage0\n",
    "import utils\n",
    "\n",
    "%jsroot on"
   ]
  },
  {
   "cell_type": "code",
   "execution_count": 3,
   "id": "550943bc",
   "metadata": {},
   "outputs": [
    {
     "data": {
      "text/plain": [
       "{'hTOF_mus': {'hTOF_mus_d0': <cppyy.gbl.ROOT.RDF.TH1DModel object at 0x284585610>,\n",
       "  'hTOF_mus_d1': <cppyy.gbl.ROOT.RDF.TH1DModel object at 0x284584460>,\n",
       "  'hTOF_mus_d2': <cppyy.gbl.ROOT.RDF.TH1DModel object at 0x2845842f0>,\n",
       "  'hTOF_mus_d3': <cppyy.gbl.ROOT.RDF.TH1DModel object at 0x284587880>,\n",
       "  'hTOF_mus_d4': <cppyy.gbl.ROOT.RDF.TH1DModel object at 0x2845876a0>,\n",
       "  'hTOF_mus_d5': <cppyy.gbl.ROOT.RDF.TH1DModel object at 0x284585380>,\n",
       "  'hTOF_mus_d6': <cppyy.gbl.ROOT.RDF.TH1DModel object at 0x284577de0>,\n",
       "  'hTOF_mus_d7': <cppyy.gbl.ROOT.RDF.TH1DModel object at 0x284587070>,\n",
       "  'hTOF_mus_d8': <cppyy.gbl.ROOT.RDF.TH1DModel object at 0x284583b20>,\n",
       "  'hTOF_mus_d9': <cppyy.gbl.ROOT.RDF.TH1DModel object at 0x284127b90>,\n",
       "  'hTOF_mus_d10': <cppyy.gbl.ROOT.RDF.TH1DModel object at 0x2847b8810>,\n",
       "  'hTOF_mus_d11': <cppyy.gbl.ROOT.RDF.TH1DModel object at 0x2847b8870>,\n",
       "  'hTOF_mus_d12': <cppyy.gbl.ROOT.RDF.TH1DModel object at 0x2841283d0>,\n",
       "  'hTOF_mus_d13': <cppyy.gbl.ROOT.RDF.TH1DModel object at 0x284128430>,\n",
       "  'hTOF_mus_d14': <cppyy.gbl.ROOT.RDF.TH1DModel object at 0x284128490>,\n",
       "  'hTOF_mus_d15': <cppyy.gbl.ROOT.RDF.TH1DModel object at 0x284787430>,\n",
       "  'hTOF_mus_d16': <cppyy.gbl.ROOT.RDF.TH1DModel object at 0x284787490>,\n",
       "  'hTOF_mus_d17': <cppyy.gbl.ROOT.RDF.TH1DModel object at 0x2847874f0>,\n",
       "  'hTOF_mus_d18': <cppyy.gbl.ROOT.RDF.TH1DModel object at 0x28478d230>,\n",
       "  'hTOF_mus_d19': <cppyy.gbl.ROOT.RDF.TH1DModel object at 0x28478d290>,\n",
       "  'hTOF_mus_d20': <cppyy.gbl.ROOT.RDF.TH1DModel object at 0x28478d2f0>,\n",
       "  'hTOF_mus_d21': <cppyy.gbl.ROOT.RDF.TH1DModel object at 0x28478a550>,\n",
       "  'hTOF_mus_d22': <cppyy.gbl.ROOT.RDF.TH1DModel object at 0x28478a5b0>,\n",
       "  'hTOF_mus_d23': <cppyy.gbl.ROOT.RDF.TH1DModel object at 0x28478a610>,\n",
       "  'hTOF_mus_d24': <cppyy.gbl.ROOT.RDF.TH1DModel object at 0x2847b8cb0>,\n",
       "  'hTOF_mus_d25': <cppyy.gbl.ROOT.RDF.TH1DModel object at 0x2847b8d10>,\n",
       "  'hTOF_mus_d26': <cppyy.gbl.ROOT.RDF.TH1DModel object at 0x2847b8d70>,\n",
       "  'hTOF_mus_d27': <cppyy.gbl.ROOT.RDF.TH1DModel object at 0x2847ab160>,\n",
       "  'hTOF_mus_d28': <cppyy.gbl.ROOT.RDF.TH1DModel object at 0x2847ab1f0>,\n",
       "  'hTOF_mus_d29': <cppyy.gbl.ROOT.RDF.TH1DModel object at 0x2847b3fe0>,\n",
       "  'hTOF_mus_d30': <cppyy.gbl.ROOT.RDF.TH1DModel object at 0x2847b4070>,\n",
       "  'hTOF_mus_d31': <cppyy.gbl.ROOT.RDF.TH1DModel object at 0x28479e940>},\n",
       " 'hEn': {'hEn_d0': <cppyy.gbl.ROOT.RDF.TH1DModel object at 0x15a2b5110>,\n",
       "  'hEn_d1': <cppyy.gbl.ROOT.RDF.TH1DModel object at 0x15a2ae2c0>,\n",
       "  'hEn_d2': <cppyy.gbl.ROOT.RDF.TH1DModel object at 0x15a2b6cc0>,\n",
       "  'hEn_d3': <cppyy.gbl.ROOT.RDF.TH1DModel object at 0x15a6d2340>,\n",
       "  'hEn_d4': <cppyy.gbl.ROOT.RDF.TH1DModel object at 0x161383e40>,\n",
       "  'hEn_d5': <cppyy.gbl.ROOT.RDF.TH1DModel object at 0x1613a1b90>,\n",
       "  'hEn_d6': <cppyy.gbl.ROOT.RDF.TH1DModel object at 0x1613e5450>,\n",
       "  'hEn_d7': <cppyy.gbl.ROOT.RDF.TH1DModel object at 0x1613ec260>,\n",
       "  'hEn_d8': <cppyy.gbl.ROOT.RDF.TH1DModel object at 0x1613fbe90>,\n",
       "  'hEn_d9': <cppyy.gbl.ROOT.RDF.TH1DModel object at 0x16137cb00>,\n",
       "  'hEn_d10': <cppyy.gbl.ROOT.RDF.TH1DModel object at 0x161354180>,\n",
       "  'hEn_d11': <cppyy.gbl.ROOT.RDF.TH1DModel object at 0x161372670>,\n",
       "  'hEn_d12': <cppyy.gbl.ROOT.RDF.TH1DModel object at 0x16136c8a0>,\n",
       "  'hEn_d13': <cppyy.gbl.ROOT.RDF.TH1DModel object at 0x284583b80>,\n",
       "  'hEn_d14': <cppyy.gbl.ROOT.RDF.TH1DModel object at 0x284580c90>,\n",
       "  'hEn_d15': <cppyy.gbl.ROOT.RDF.TH1DModel object at 0x284580cf0>,\n",
       "  'hEn_d16': <cppyy.gbl.ROOT.RDF.TH1DModel object at 0x284584b50>,\n",
       "  'hEn_d17': <cppyy.gbl.ROOT.RDF.TH1DModel object at 0x284584bb0>,\n",
       "  'hEn_d18': <cppyy.gbl.ROOT.RDF.TH1DModel object at 0x284581870>,\n",
       "  'hEn_d19': <cppyy.gbl.ROOT.RDF.TH1DModel object at 0x2845818d0>,\n",
       "  'hEn_d20': <cppyy.gbl.ROOT.RDF.TH1DModel object at 0x284581930>,\n",
       "  'hEn_d21': <cppyy.gbl.ROOT.RDF.TH1DModel object at 0x284582d10>,\n",
       "  'hEn_d22': <cppyy.gbl.ROOT.RDF.TH1DModel object at 0x284582d70>,\n",
       "  'hEn_d23': <cppyy.gbl.ROOT.RDF.TH1DModel object at 0x2845837b0>,\n",
       "  'hEn_d24': <cppyy.gbl.ROOT.RDF.TH1DModel object at 0x284583810>,\n",
       "  'hEn_d25': <cppyy.gbl.ROOT.RDF.TH1DModel object at 0x284585f20>,\n",
       "  'hEn_d26': <cppyy.gbl.ROOT.RDF.TH1DModel object at 0x284585f80>,\n",
       "  'hEn_d27': <cppyy.gbl.ROOT.RDF.TH1DModel object at 0x284588040>,\n",
       "  'hEn_d28': <cppyy.gbl.ROOT.RDF.TH1DModel object at 0x2845880a0>,\n",
       "  'hEn_d29': <cppyy.gbl.ROOT.RDF.TH1DModel object at 0x284588150>,\n",
       "  'hEn_d30': <cppyy.gbl.ROOT.RDF.TH1DModel object at 0x284599680>,\n",
       "  'hEn_d31': <cppyy.gbl.ROOT.RDF.TH1DModel object at 0x16136c690>}}"
      ]
     },
     "execution_count": 3,
     "metadata": {},
     "output_type": "execute_result"
    }
   ],
   "source": [
    "stage0.create_hist_models()\n"
   ]
  },
  {
   "cell_type": "markdown",
   "id": "81bb4e6f",
   "metadata": {},
   "source": [
    "## Create TChain\n",
    "\n",
    "Chain together multiple run files"
   ]
  },
  {
   "cell_type": "code",
   "execution_count": null,
   "id": "b00e6b7a",
   "metadata": {},
   "outputs": [
    {
     "data": {
      "text/plain": [
       "1"
      ]
     },
     "execution_count": 5,
     "metadata": {},
     "output_type": "execute_result"
    }
   ],
   "source": [
    "chain = ROOT.TChain(\"rawTree\")\n",
    "\n",
    "chain.Add(\"../data/rawroot_run_0014*\")\n",
    "# chain.Add(\"../data/raw0088_000.root\")\n",
    "# chain.Add(\"/Volumes/WD_BLACK/2023Apr/Ge/rawroot/rawroot_run_0015*\")\n",
    "\n",
    "\n",
    "# Apr 23, Ge, NaI, ALL RUNS BELOW \n",
    "\n",
    "# chain.Add(\"/Volumes/WD_BLACK/2023Apr/Ge/rawroot/rawroot_run_0064*\")\n",
    "\n",
    "# chain.Add(\"/Volumes/WD_BLACK/2023Apr/Ge/rawroot/rawroot_run_001[4-9]*\")\n",
    "# chain.Add(\"/Volumes/WD_BLACK/2023Apr/Ge/rawroot/rawroot_run_002[0-1]*\")\n",
    "# chain.Add(\"/Volumes/WD_BLACK/2023Apr/Ge/rawroot/rawroot_run_004[8-9]*\")\n",
    "# chain.Add(\"/Volumes/WD_BLACK/2023Apr/Ge/rawroot/rawroot_run_005[0-4]*\")\n",
    "\n",
    "# chain.Add(\"/Volumes/WD_BLACK/2023Apr/Ge/rawroot/rawroot_run_005[7-9]*\") # detector position changes\n",
    "# chain.Add(\"/Volumes/WD_BLACK/2023Apr/Ge/rawroot/rawroot_run_006[0-3]*\")\n",
    "# chain.Add(\"/Volumes/WD_BLACK/2023Apr/Ge/rawroot/rawroot_run_006[7-9]*\")\n",
    "# chain.Add(\"/Volumes/WD_BLACK/2023Apr/Ge/rawroot/rawroot_run_007[0-3]*\")\n",
    "# chain.Add(\"/Volumes/WD_BLACK/2023Apr/Ge/rawroot/rawroot_run_007[5-8]*\")\n",
    "   \n",
    "# chain.Add(\"/Volumes/WD_BLACK/2023Apr/Ge/rawroot/rawroot_run_007[9-9]*\") # det 11 calibration changes here\n",
    "# chain.Add(\"/Volumes/WD_BLACK/2023Apr/Ge/rawroot/rawroot_run_008[0-9]*\")\n",
    "\n",
    "# chain"
   ]
  },
  {
   "cell_type": "code",
   "execution_count": null,
   "id": "8d46ab38",
   "metadata": {},
   "outputs": [],
   "source": [
    "ROOT.EnableImplicitMT() # Enable multi-threading\n",
    "\n",
    "df = ROOT.RDataFrame(chain)\n",
    "\n",
    "df = stage0.filter_active_channels(df)\n",
    "\n",
    "df = stage0.define_columns(df)\n",
    "\n"
   ]
  },
  {
   "cell_type": "code",
   "execution_count": null,
   "id": "e28c5629",
   "metadata": {},
   "outputs": [
    {
     "name": "stdout",
     "output_type": "stream",
     "text": [
      "Dataframe from TChain rawTree in file ../data/rawroot_run_0014_000.root\n",
      "\n",
      "Property                Value\n",
      "--------                -----\n",
      "Columns in total           11\n",
      "Columns from defines        4\n",
      "Event loops run             0\n",
      "Processing slots            8\n",
      "\n",
      "Column          Type            Origin\n",
      "------          ----            ------\n",
      "Coin            UInt_t          Dataset\n",
      "Egam            double          Define\n",
      "En              double          Define\n",
      "Flags           UInt_t          Dataset\n",
      "PulseHeight     UShort_t        Dataset\n",
      "Timestamp       ULong64_t       Dataset\n",
      "detector        Int_t           Dataset\n",
      "nTrigger        ULong64_t       Dataset\n",
      "tof             ULong64_t       Dataset\n",
      "tof_mus         double          Define\n",
      "tof_ns          double          Define"
     ]
    }
   ],
   "source": [
    "# hist_dict = stage0.read_rawroot_to_dict(\"../data/rawroot_run_0014*\")\n",
    "hist_dict = stage0.read_rawroot_to_dict(chain, filter_active=False)\n",
    "# hist_dict"
   ]
  },
  {
   "cell_type": "markdown",
   "id": "463ea5fa-b4a4-412f-8c65-517f17d98d48",
   "metadata": {},
   "source": [
    "## Write Histograms\n",
    "Write histograms from dictionary to a root file maintaing heirerachy. "
   ]
  },
  {
   "cell_type": "code",
   "execution_count": null,
   "id": "2c9dc78f-0f27-4281-a726-7879861939a7",
   "metadata": {
    "editable": true,
    "slideshow": {
     "slide_type": ""
    },
    "tags": []
   },
   "outputs": [],
   "source": [
    "# # TODO: Make this a function\n",
    "\n",
    "# # det_number = [-1,1,28,3,-1,7,6,2,-1,13,10,11,-1,9,-1,15,-1,18,17,19,-1,-1,-1,-1,-1,26,-1,-1,25,-1,-1,-1] # det number for index of position number runs 13~54\n",
    "# det_number = [-1,1,28,3,-1,7,6,2,-1,13,10,11,-1,9,-1,15,-1,18,17,-1,19,-1,-1,-1,-1,26,-1,-1,25,-1,-1,-1] #det number for index of position number runs 55~90\n",
    "\n",
    "# det_pos_map = ROOT.TH2I(\"det_pos_map\",\"det_pos_map;position # ;detector # \",32,0,32,32,0,32)\n",
    "# det_pos_graph = ROOT.TGraph()\n",
    "# det_pos_graph.SetTitle(\"det_pos_graph\")\n",
    "# det_pos_graph.SetName(\"det_pos_graph\")\n",
    "# det_pos_graph.GetXaxis().SetTitle(\"positon #\")\n",
    "# det_pos_graph.GetYaxis().SetTitle(\"detector #\")\n",
    "\n",
    "# for ch in range(stage0.config['general']['numch']):\n",
    "#     det_pos_map.SetBinContent(ch+1,det_number[ch]+1,1)\n",
    "#     det_pos_graph.AddPoint(ch,det_number[ch])\n",
    "\n",
    "# hist_dict[det_pos_map.GetName()] = det_pos_map\n",
    "# hist_dict[det_pos_graph.GetName()] = det_pos_graph\n"
   ]
  },
  {
   "cell_type": "code",
   "execution_count": null,
   "id": "e7f17a12-20e9-417f-a7bc-2200292ac2f1",
   "metadata": {},
   "outputs": [],
   "source": [
    "utils.write_dict_to_root(hist_dict, \"../output/stage0_output.root\")"
   ]
  },
  {
   "cell_type": "code",
   "execution_count": null,
   "id": "88e9dad0",
   "metadata": {},
   "outputs": [],
   "source": []
  },
  {
   "cell_type": "code",
   "execution_count": null,
   "id": "dafed1bc",
   "metadata": {},
   "outputs": [],
   "source": []
  },
  {
   "cell_type": "code",
   "execution_count": null,
   "id": "de8e1812",
   "metadata": {},
   "outputs": [],
   "source": []
  }
 ],
 "metadata": {
  "kernelspec": {
   "display_name": "research",
   "language": "python",
   "name": "python3"
  },
  "language_info": {
   "codemirror_mode": {
    "name": "ipython",
    "version": 3
   },
   "file_extension": ".py",
   "mimetype": "text/x-python",
   "name": "python",
   "nbconvert_exporter": "python",
   "pygments_lexer": "ipython3",
   "version": "3.11.4"
  }
 },
 "nbformat": 4,
 "nbformat_minor": 5
}
