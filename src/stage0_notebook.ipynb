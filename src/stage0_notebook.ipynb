{
 "cells": [
  {
   "cell_type": "code",
   "execution_count": 1,
   "id": "1b6e2ac7-35ab-47ab-a988-7b0dcff1cd46",
   "metadata": {
    "scrolled": true
   },
   "outputs": [
    {
     "name": "stdout",
     "output_type": "stream",
     "text": [
      "Welcome to JupyROOT 6.28/00\n"
     ]
    }
   ],
   "source": [
    "import ROOT\n",
    "import stage0\n",
    "import utils\n",
    "\n",
    "%jsroot on"
   ]
  },
  {
   "cell_type": "code",
   "execution_count": 2,
   "id": "b00e6b7a",
   "metadata": {},
   "outputs": [
    {
     "data": {
      "text/plain": [
       "0"
      ]
     },
     "execution_count": 2,
     "metadata": {},
     "output_type": "execute_result"
    }
   ],
   "source": [
    "chain = ROOT.TChain(\"rawTree\")\n",
    "\n",
    "chain.Add(\"/Volumes/WD_BLACK/2023Apr/Ge/rawroot/rawroot_run_0014*\")\n",
    "chain.Add(\"/Volumes/WD_BLACK/2023Apr/Ge/rawroot/rawroot_run_0015*\")\n",
    "\n",
    "\n",
    "#    ///////////////////////////////// Apr 23, Ge, NaI, ALL RUNS BELOW ///////////////////////////////////////\n",
    "\n",
    "# chain.Add(\"/Volumes/WD_BLACK/2023Apr/Ge/rawroot/rawroot_run_0064*\")\n",
    "\n",
    "# chain.Add(\"/Volumes/WD_BLACK/2023Apr/Ge/rawroot/rawroot_run_001[4-9]*\")\n",
    "# chain.Add(\"/Volumes/WD_BLACK/2023Apr/Ge/rawroot/rawroot_run_002[0-1]*\")\n",
    "# chain.Add(\"/Volumes/WD_BLACK/2023Apr/Ge/rawroot/rawroot_run_004[8-9]*\")\n",
    "# chain.Add(\"/Volumes/WD_BLACK/2023Apr/Ge/rawroot/rawroot_run_005[0-4]*\")\n",
    "\n",
    "# chain.Add(\"/Volumes/WD_BLACK/2023Apr/Ge/rawroot/rawroot_run_005[7-9]*\") # detector position changes\n",
    "# chain.Add(\"/Volumes/WD_BLACK/2023Apr/Ge/rawroot/rawroot_run_006[0-3]*\")\n",
    "# chain.Add(\"/Volumes/WD_BLACK/2023Apr/Ge/rawroot/rawroot_run_006[7-9]*\")\n",
    "# chain.Add(\"/Volumes/WD_BLACK/2023Apr/Ge/rawroot/rawroot_run_007[0-3]*\")\n",
    "# chain.Add(\"/Volumes/WD_BLACK/2023Apr/Ge/rawroot/rawroot_run_007[5-8]*\")\n",
    "   \n",
    "# chain.Add(\"/Volumes/WD_BLACK/2023Apr/Ge/rawroot/rawroot_run_007[9-9]*\") # det 11 calibration changes here\n",
    "# chain.Add(\"/Volumes/WD_BLACK/2023Apr/Ge/rawroot/rawroot_run_008[0-9]*\")\n",
    "\n",
    "# chain"
   ]
  },
  {
   "cell_type": "code",
   "execution_count": 8,
   "id": "e28c5629",
   "metadata": {},
   "outputs": [
    {
     "name": "stdout",
     "output_type": "stream",
     "text": [
      "Dataframe from TChain rawTree in files\n",
      "  /Volumes/WD_BLACK/2023Apr/Ge/rawroot/rawroot_run_0014_000.root\n",
      "  /Volumes/WD_BLACK/2023Apr/Ge/rawroot/rawroot_run_0015_000.root\n",
      "\n",
      "Property                Value\n",
      "--------                -----\n",
      "Columns in total           11\n",
      "Columns from defines        4\n",
      "Event loops run             0\n",
      "Processing slots            8\n",
      "\n",
      "Column          Type            Origin\n",
      "------          ----            ------\n",
      "Coin            UInt_t          Dataset\n",
      "Egam            double          Define\n",
      "En              double          Define\n",
      "Flags           UInt_t          Dataset\n",
      "PulseHeight     UShort_t        Dataset\n",
      "Timestamp       ULong64_t       Dataset\n",
      "detector        Int_t           Dataset\n",
      "nTrigger        ULong64_t       Dataset\n",
      "tof             ULong64_t       Dataset\n",
      "tof_mus         double          Define\n",
      "tof_ns          double          Define"
     ]
    }
   ],
   "source": [
    "# hist_dict = stage0.read_rawroot_to_dict(\"../data/rawroot_run_0014*\")\n",
    "hist_dict = stage0.read_rawroot_to_dict(chain)\n",
    "\n",
    "\n",
    "\n"
   ]
  },
  {
   "cell_type": "markdown",
   "id": "463ea5fa-b4a4-412f-8c65-517f17d98d48",
   "metadata": {},
   "source": [
    "## Write Histograms\n",
    "Write histograms from dictionary to a root file maintaing heirerachy. "
   ]
  },
  {
   "cell_type": "code",
   "execution_count": 9,
   "id": "2c9dc78f-0f27-4281-a726-7879861939a7",
   "metadata": {
    "editable": true,
    "slideshow": {
     "slide_type": ""
    },
    "tags": []
   },
   "outputs": [],
   "source": [
    "# TODO: Make this a function\n",
    "\n",
    "det_number = [-1,1,28,3,-1,7,6,2,-1,13,10,11,-1,9,-1,15,-1,18,17,19,-1,-1,-1,-1,-1,26,-1,-1,25,-1,-1,-1] # det number for index of position number runs 13~54\n",
    "# det_number = [-1,1,28,3,-1,7,6,2,-1,13,10,11,-1,9,-1,15,-1,18,17,-1,19,-1,-1,-1,-1,26,-1,-1,25,-1,-1,-1] #det number for index of position number runs 55~90\n",
    "\n",
    "\n",
    "det_pos_map = ROOT.TH2I(\"det_pos_map\",\"det_pos_map;position # ;detector # \",32,0,32,32,0,32)\n",
    "det_pos_graph = ROOT.TGraph()\n",
    "det_pos_graph.SetTitle(\"det_pos_graph\")\n",
    "det_pos_graph.SetName(\"det_pos_graph\")\n",
    "det_pos_graph.GetXaxis().SetTitle(\"positon #\")\n",
    "det_pos_graph.GetYaxis().SetTitle(\"detector #\")\n",
    "\n",
    "\n",
    "\n",
    "for ch in range(stage0.config['general']['numch']):\n",
    "    det_pos_map.SetBinContent(ch+1,det_number[ch]+1,1)\n",
    "    det_pos_graph.AddPoint(ch,det_number[ch])\n",
    "\n",
    "hist_dict[det_pos_map.GetName()] = det_pos_map\n",
    "hist_dict[det_pos_graph.GetName()] = det_pos_graph\n",
    "\n",
    "\n",
    "\n"
   ]
  },
  {
   "cell_type": "code",
   "execution_count": 10,
   "id": "e7f17a12-20e9-417f-a7bc-2200292ac2f1",
   "metadata": {},
   "outputs": [],
   "source": [
    "utils.write_dict_to_root(hist_dict, \"../output/stage0_output.root\")"
   ]
  },
  {
   "cell_type": "code",
   "execution_count": null,
   "id": "88e9dad0",
   "metadata": {},
   "outputs": [],
   "source": []
  }
 ],
 "metadata": {
  "kernelspec": {
   "display_name": "research",
   "language": "python",
   "name": "python3"
  },
  "language_info": {
   "codemirror_mode": {
    "name": "ipython",
    "version": 3
   },
   "file_extension": ".py",
   "mimetype": "text/x-python",
   "name": "python",
   "nbconvert_exporter": "python",
   "pygments_lexer": "ipython3",
   "version": "3.11.4"
  }
 },
 "nbformat": 4,
 "nbformat_minor": 5
}
