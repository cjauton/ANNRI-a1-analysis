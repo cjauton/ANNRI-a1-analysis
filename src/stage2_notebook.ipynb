{
 "cells": [
  {
   "cell_type": "code",
   "execution_count": 140,
   "id": "9607fd41",
   "metadata": {},
   "outputs": [],
   "source": [
    "import ROOT\n",
    "import numpy as np\n",
    "import utils\n",
    "import stage2\n",
    "\n",
    "%jsroot on"
   ]
  },
  {
   "cell_type": "markdown",
   "id": "2459b3fe-05c9-438c-8492-e9bff135a986",
   "metadata": {},
   "source": [
    "## Defining Globals"
   ]
  },
  {
   "cell_type": "code",
   "execution_count": 181,
   "id": "694b56fd-5dc6-4fc1-810e-d9b5bebe2d92",
   "metadata": {
    "editable": true,
    "slideshow": {
     "slide_type": ""
    },
    "tags": []
   },
   "outputs": [
    {
     "name": "stdout",
     "output_type": "stream",
     "text": [
      "[ 8.09016994e-01  3.25568154e-01  3.09016994e-01  6.12323400e-17\n",
      " -3.09016994e-01 -3.25568154e-01 -8.09016994e-01]\n"
     ]
    }
   ],
   "source": [
    "# TODO: add handling of angle to toml for run batches\n",
    "\n",
    "# E_p = 10.229\n",
    "# E_p = 13.752\n",
    "# E_p = 24.212\n",
    "E_p = 52.362\n",
    "G_p = 0.5\n",
    "hEgam_gate_FA = [6637,6702] # 127I\n",
    "hEgam_gate_FE = [6150,6194] # 127I\n",
    "hEgam_gate_FA_bkg = [6777,7044] # 127I\n",
    "\n",
    "angle = np.array([36,71,72,90,108,109,144])\n",
    "\n",
    "cos_angle = np.cos(np.pi/180*angle)\n",
    "print(cos_angle)\n",
    "\n",
    "input_file1 = \"../output/stage1_output1.root\"\n",
    "input_file2 = \"../output/stage1_output2.root\""
   ]
  },
  {
   "cell_type": "markdown",
   "id": "5ae82118-adc7-4f11-9832-573dce593f40",
   "metadata": {},
   "source": [
    "## Getting Histograms"
   ]
  },
  {
   "cell_type": "code",
   "execution_count": 182,
   "id": "7967f7d8-f8a3-4eae-a096-b1059334e8fb",
   "metadata": {
    "editable": true,
    "slideshow": {
     "slide_type": ""
    },
    "tags": []
   },
   "outputs": [],
   "source": [
    "# det_angle1 = stage2.get_det_angle(input_file1)\n",
    "det_angle1 = [-1, 71, 90, 109, -1, -1, 71, 90, -1, 90, 90, 109, -1, 71, -1, 90, -1, 108, 144, 72, 36, -1, -1, -1, -1, 36, 144, -1, 90, -1, -1, -1]\n",
    "\n",
    "hEn1 = stage2.get_hist(input_file1,\"hEn_gate_FA_beamcorr_pucorr\")\n",
    "hEn_bkg1 = stage2.get_hist(input_file1,\"hEn_gate_FA_bkg_beamcorr_pucorr\")\n",
    "hEgam1 = stage2.get_hist(input_file1,\"hEgam\")\n",
    "\n",
    "# det_angle2 = stage2.get_det_angle(input_file2)\n",
    "det_angle2 = [-1, 71, 90, 109, -1, -1, 71, 90, -1, 90, 90, 109, -1, 71, -1, 90, -1, 108, 144, 36, -1, -1, -1, -1, -1, 36, 144, -1, 90, -1, -1, -1]\n",
    "\n",
    "hEn2 = stage2.get_hist(input_file2,\"hEn_gate_FA_beamcorr_pucorr\")\n",
    "hEn_bkg2 = stage2.get_hist(input_file2,\"hEn_gate_FA_bkg_beamcorr_pucorr\")\n",
    "hEgam2 = stage2.get_hist(input_file2,\"hEgam\")"
   ]
  },
  {
   "cell_type": "markdown",
   "id": "cc7d28ac-3822-4199-9d07-182e8824e029",
   "metadata": {},
   "source": [
    "## Performing Background Subtractions"
   ]
  },
  {
   "cell_type": "code",
   "execution_count": 183,
   "id": "1ae777de-b716-44d4-87e4-5053946a15a6",
   "metadata": {
    "editable": true,
    "slideshow": {
     "slide_type": ""
    },
    "tags": []
   },
   "outputs": [],
   "source": [
    "hEgam_bkg1 = stage2.calc_hEgam_bkg(hEgam1,6500,7100)\n",
    "scale1 = stage2.calc_scale(hEgam_bkg1, hEgam_gate_FA, hEgam_gate_FA_bkg)\n",
    "hEn_sub1 = stage2.calc_hEn_sub(hEn1, hEn_bkg1, scale1)\n",
    "\n",
    "hEgam_bkg2 = stage2.calc_hEgam_bkg(hEgam2,6500,7100)\n",
    "scale2 = stage2.calc_scale(hEgam_bkg2, hEgam_gate_FA, hEgam_gate_FA_bkg)\n",
    "hEn_sub2 = stage2.calc_hEn_sub(hEn2, hEn_bkg2, scale2)"
   ]
  },
  {
   "cell_type": "markdown",
   "id": "20477bc3-7a18-4529-968b-25113852c1ac",
   "metadata": {},
   "source": [
    "## Calculating N_L and N_H"
   ]
  },
  {
   "cell_type": "code",
   "execution_count": 184,
   "id": "9b2d2954-4093-47c4-b72d-10847d84d83b",
   "metadata": {},
   "outputs": [],
   "source": [
    "N_L_det1, N_H_det1 = stage2.calc_N_LH(hEn_sub1, E_p, G_p)\n",
    "\n",
    "N_L_det2, N_H_det2 = stage2.calc_N_LH(hEn_sub2, E_p, G_p)"
   ]
  },
  {
   "cell_type": "markdown",
   "id": "86f9b1c5-dfa0-46cc-92a8-5ef37036a997",
   "metadata": {},
   "source": [
    "## Adding N_L and N_H By Angle"
   ]
  },
  {
   "cell_type": "code",
   "execution_count": 185,
   "id": "a39f4126-0735-4ef7-9520-4aede9c85790",
   "metadata": {
    "tags": []
   },
   "outputs": [
    {
     "name": "stdout",
     "output_type": "stream",
     "text": [
      "adding d1 to angle 71\n",
      "adding d2 to angle 90\n",
      "adding d3 to angle 109\n",
      "adding d6 to angle 71\n",
      "adding d7 to angle 90\n",
      "adding d9 to angle 90\n",
      "adding d10 to angle 90\n",
      "adding d11 to angle 109\n",
      "adding d13 to angle 71\n",
      "adding d15 to angle 90\n",
      "adding d17 to angle 108\n",
      "adding d18 to angle 144\n",
      "adding d19 to angle 72\n",
      "adding d20 to angle 36\n",
      "adding d25 to angle 36\n",
      "adding d26 to angle 144\n",
      "adding d28 to angle 90\n",
      "adding d1 to angle 71\n",
      "adding d2 to angle 90\n",
      "adding d3 to angle 109\n",
      "adding d6 to angle 71\n",
      "adding d7 to angle 90\n",
      "adding d9 to angle 90\n",
      "adding d10 to angle 90\n",
      "adding d11 to angle 109\n",
      "adding d13 to angle 71\n",
      "adding d15 to angle 90\n",
      "adding d17 to angle 108\n",
      "adding d18 to angle 144\n",
      "adding d19 to angle 72\n",
      "adding d20 to angle 36\n",
      "adding d25 to angle 36\n",
      "adding d26 to angle 144\n",
      "adding d28 to angle 90\n",
      "adding d1 to angle 71\n",
      "adding d2 to angle 90\n",
      "adding d3 to angle 109\n",
      "adding d6 to angle 71\n",
      "adding d7 to angle 90\n",
      "adding d9 to angle 90\n",
      "adding d10 to angle 90\n",
      "adding d11 to angle 109\n",
      "adding d13 to angle 71\n",
      "adding d15 to angle 90\n",
      "adding d17 to angle 108\n",
      "adding d18 to angle 144\n",
      "adding d19 to angle 36\n",
      "adding d25 to angle 36\n",
      "adding d26 to angle 144\n",
      "adding d28 to angle 90\n",
      "adding d1 to angle 71\n",
      "adding d2 to angle 90\n",
      "adding d3 to angle 109\n",
      "adding d6 to angle 71\n",
      "adding d7 to angle 90\n",
      "adding d9 to angle 90\n",
      "adding d10 to angle 90\n",
      "adding d11 to angle 109\n",
      "adding d13 to angle 71\n",
      "adding d15 to angle 90\n",
      "adding d17 to angle 108\n",
      "adding d18 to angle 144\n",
      "adding d19 to angle 36\n",
      "adding d25 to angle 36\n",
      "adding d26 to angle 144\n",
      "adding d28 to angle 90\n"
     ]
    }
   ],
   "source": [
    "N_L_angle1 = stage2.sort_by_angle(N_L_det1,det_angle1)\n",
    "N_H_angle1 = stage2.sort_by_angle(N_H_det1,det_angle1)\n",
    "N_L_angle2 = stage2.sort_by_angle(N_L_det2,det_angle2)\n",
    "N_H_angle2 = stage2.sort_by_angle(N_H_det2,det_angle2)"
   ]
  },
  {
   "cell_type": "markdown",
   "id": "c525b3fc-9c0e-47b0-b0e4-3a1bcfe571a7",
   "metadata": {
    "tags": []
   },
   "source": [
    "## Adding Runs"
   ]
  },
  {
   "cell_type": "code",
   "execution_count": 186,
   "id": "b29d6123-e776-45f9-829e-a0dcff530e54",
   "metadata": {},
   "outputs": [],
   "source": [
    "N_L_angle = N_L_angle1 + N_L_angle2 \n",
    "N_H_angle = N_H_angle1 + N_H_angle2 \n",
    "\n",
    "# N_L_angle = N_L_angle1 \n",
    "# N_H_angle = N_H_angle1 \n",
    "\n",
    "# print(N_H_angle)\n",
    "# print(N_L_angle)\n",
    "\n"
   ]
  },
  {
   "cell_type": "markdown",
   "id": "1c4a7178-ebd5-4dcf-8b2e-a585e7eb27aa",
   "metadata": {},
   "source": [
    "## Calculating A_LH and dA_LH"
   ]
  },
  {
   "cell_type": "code",
   "execution_count": 187,
   "id": "4fd890f5-5127-42ce-997d-85f68e30d2ae",
   "metadata": {},
   "outputs": [],
   "source": [
    "A_LH_angle = stage2.A_LH(N_L_angle,N_H_angle)\n",
    "dA_LH_angle = stage2.dA_LH(N_L_angle,N_H_angle)\n",
    "\n",
    "# print(dA_LH_angle)\n",
    "\n",
    "# A_LH_angle1 = stage2.A_LH(N_L_angle1,N_H_angle1)\n",
    "# dA_LH_angle1 = stage2.dA_LH(N_L_angle1,N_H_angle1)\n",
    "\n",
    "# A_LH_angle2 = stage2.A_LH(N_L_angle2,N_H_angle2)\n",
    "# dA_LH_angle2 = stage2.dA_LH(N_L_angle2,N_H_angle2)\n"
   ]
  },
  {
   "cell_type": "code",
   "execution_count": 188,
   "id": "1775a67f",
   "metadata": {},
   "outputs": [
    {
     "data": {
      "text/plain": [
       "<cppyy.gbl.TCanvas object at 0x2a3b4b8d0>"
      ]
     },
     "execution_count": 188,
     "metadata": {},
     "output_type": "execute_result"
    },
    {
     "name": "stderr",
     "output_type": "stream",
     "text": [
      "Warning in <TCanvas::Constructor>: Deleting canvas with same name: A_{LH}\n"
     ]
    },
    {
     "data": {
      "text/html": [
       "\n",
       "\n",
       "<div id=\"root_plot_1693206869849\"\n",
       "     style=\"width: 596px; height: 472px\">\n",
       "</div>\n",
       "<script>\n",
       "\n",
       "function display_root_plot_1693206869849(Core) {\n",
       "   let obj = Core.parse({\"_typename\":\"TCanvas\",\"fUniqueID\":0,\"fBits\":3342344,\"fLineColor\":1,\"fLineStyle\":1,\"fLineWidth\":1,\"fFillColor\":0,\"fFillStyle\":1001,\"fLeftMargin\":0.1,\"fRightMargin\":0.1,\"fBottomMargin\":0.1,\"fTopMargin\":0.1,\"fXfile\":2,\"fYfile\":2,\"fAfile\":1,\"fXstat\":0.99,\"fYstat\":0.99,\"fAstat\":2,\"fFrameFillColor\":0,\"fFrameLineColor\":1,\"fFrameFillStyle\":1001,\"fFrameLineStyle\":1,\"fFrameLineWidth\":1,\"fFrameBorderSize\":1,\"fFrameBorderMode\":0,\"fX1\":-1.21352552195677,\"fY1\":-0.838761076893537,\"fX2\":1.21352552195677,\"fY2\":0.36172268968436,\"fXtoAbsPixelk\":298.00005,\"fXtoPixelk\":298.00005,\"fXtoPixel\":245.56549871278,\"fYtoAbsPixelk\":142.220306770077,\"fYtoPixelk\":142.220306770077,\"fYtoPixel\":-393.174829298596,\"fUtoAbsPixelk\":5e-5,\"fUtoPixelk\":5e-5,\"fUtoPixel\":596,\"fVtoAbsPixelk\":472.00005,\"fVtoPixelk\":472,\"fVtoPixel\":-472,\"fAbsPixeltoXk\":-1.21352552195677,\"fPixeltoXk\":-1.21352552195677,\"fPixeltoX\":0.00407223329515693,\"fAbsPixeltoYk\":0.36172268968436,\"fPixeltoYk\":-0.838761076893537,\"fPixeltoY\":-0.00254339781054639,\"fXlowNDC\":0,\"fYlowNDC\":0,\"fXUpNDC\":1,\"fYUpNDC\":1,\"fWNDC\":1,\"fHNDC\":1,\"fAbsXlowNDC\":0,\"fAbsYlowNDC\":0,\"fAbsWNDC\":1,\"fAbsHNDC\":1,\"fUxmin\":-0.97082040309906,\"fUymin\":-0.718712693080306,\"fUxmax\":0.97082040309906,\"fUymax\":0.241674305871129,\"fTheta\":30,\"fPhi\":30,\"fAspectRatio\":0,\"fNumber\":0,\"fTickx\":0,\"fTicky\":0,\"fLogx\":0,\"fLogy\":0,\"fLogz\":0,\"fPadPaint\":0,\"fCrosshair\":0,\"fCrosshairPos\":0,\"fBorderSize\":2,\"fBorderMode\":0,\"fModified\":false,\"fGridx\":false,\"fGridy\":false,\"fAbsCoord\":false,\"fEditable\":true,\"fFixedAspectRatio\":false,\"fPrimitives\":{\"_typename\":\"TList\",\"name\":\"TList\",\"arr\":[{\"_typename\":\"TFrame\",\"fUniqueID\":0,\"fBits\":8,\"fLineColor\":1,\"fLineStyle\":1,\"fLineWidth\":1,\"fFillColor\":0,\"fFillStyle\":1001,\"fX1\":-0.97082040309906,\"fY1\":-0.718712693080306,\"fX2\":0.97082040309906,\"fY2\":0.241674305871129,\"fBorderSize\":1,\"fBorderMode\":0},{\"_typename\":\"TGraphErrors\",\"fUniqueID\":0,\"fBits\":1032,\"fName\":\"Graph\",\"fTitle\":\"A_{LH}\",\"fLineColor\":1,\"fLineStyle\":1,\"fLineWidth\":1,\"fFillColor\":0,\"fFillStyle\":1000,\"fMarkerColor\":1,\"fMarkerStyle\":20,\"fMarkerSize\":1,\"fNpoints\":7,\"fX\":{\"$arr\":\"Float64\",\"len\":7,\"v\":[0.80901700258255,0.325568169355392,0.30901700258255,6.12323426292584e-17,-0.30901700258255,-0.325568169355392,-0.80901700258255]},\"fY\":{\"$arr\":\"Float64\",\"len\":7,\"v\":[-0.557483315467834,0.115786343812943,-0.295544266700745,0.118163578212261,0.078918568789959,-0.0373868271708488,-0.169294640421867]},\"fFunctions\":{\"_typename\":\"TList\",\"name\":\"TList\",\"arr\":[{\"_typename\":\"TF1\",\"fUniqueID\":0,\"fBits\":1024,\"fName\":\"fitFunc\",\"fTitle\":\"[0] * x + [1]\",\"fLineColor\":2,\"fLineStyle\":1,\"fLineWidth\":2,\"fFillColor\":19,\"fFillStyle\":0,\"fMarkerColor\":1,\"fMarkerStyle\":1,\"fMarkerSize\":1,\"fXmin\":-0.97082040309906,\"fXmax\":0.97082040309906,\"fNpar\":2,\"fNdim\":1,\"fNpx\":100,\"fType\":0,\"fNpfits\":7,\"fNDF\":5,\"fChisquare\":89.2676931019291,\"fMinimum\":-1111,\"fMaximum\":-1111,\"fParErrors\":[0.044866454282648,0.0199951476140765],\"fParMin\":[0,0],\"fParMax\":[0,0],\"fSave\":{\"$arr\":\"Float64\",\"len\":103,\"v\":[-0.0114758675799765,-0.0115605312003587,-0.0116451948207408,-0.0117298584411229,-0.0118145220615051,-0.0118991856818872,-0.0119838493022693,-0.0120685129226515,-0.0121531765430336,-0.0122378401634158,-0.0123225037837979,-0.01240716740418,-0.0124918310245622,-0.0125764946449443,-0.0126611582653265,-0.0127458218857086,-0.0128304855060907,-0.0129151491264729,-0.012999812746855,-0.0130844763672371,-0.0131691399876193,-0.0132538036080014,-0.0133384672283836,-0.0134231308487657,-0.0135077944691478,-0.01359245808953,-0.0136771217099121,-0.0137617853302942,-0.0138464489506764,-0.0139311125710585,-0.0140157761914407,-0.0141004398118228,-0.0141851034322049,-0.0142697670525871,-0.0143544306729692,-0.0144390942933513,-0.0145237579137335,-0.0146084215341156,-0.0146930851544978,-0.0147777487748799,-0.014862412395262,-0.0149470760156442,-0.0150317396360263,-0.0151164032564084,-0.0152010668767906,-0.0152857304971727,-0.0153703941175549,-0.015455057737937,-0.0155397213583191,-0.0156243849787013,-0.0157090485990834,-0.0157937122194655,-0.0158783758398477,-0.0159630394602298,-0.016047703080612,-0.0161323667009941,-0.0162170303213762,-0.0163016939417584,-0.0163863575621405,-0.0164710211825226,-0.0165556848029048,-0.0166403484232869,-0.0167250120436691,-0.0168096756640512,-0.0168943392844333,-0.0169790029048155,-0.0170636665251976,-0.0171483301455797,-0.0172329937659619,-0.017317657386344,-0.0174023210067262,-0.0174869846271083,-0.0175716482474904,-0.0176563118678726,-0.0177409754882547,-0.0178256391086369,-0.017910302729019,-0.0179949663494011,-0.0180796299697833,-0.0181642935901654,-0.0182489572105475,-0.0183336208309297,-0.0184182844513118,-0.018502948071694,-0.0185876116920761,-0.0186722753124582,-0.0187569389328404,-0.0188416025532225,-0.0189262661736046,-0.0190109297939868,-0.0190955934143689,-0.0191802570347511,-0.0192649206551332,-0.0193495842755153,-0.0194342478958975,-0.0195189115162796,-0.0196035751366617,-0.0196882387570439,-0.019772902377426,-0.0198575659978082,-0.0199422296181903,-0.97082040309906,0.97082040309906]},\"fNormalized\":false,\"fNormIntegral\":0,\"fFormula\":{\"_typename\":\"TFormula\",\"fUniqueID\":0,\"fBits\":1024,\"fName\":\"fitFunc\",\"fTitle\":\"[0] * x + [1]\",\"fClingParameters\":[-0.00436041620632786,-0.0157090485990834],\"fAllParametersSetted\":true,\"fParams\":[{\"$pair\":\"pair<TString,int,TFormulaParamOrder>\",\"first\":\"p0\",\"second\":0},{\"$pair\":\"pair<TString,int,TFormulaParamOrder>\",\"first\":\"p1\",\"second\":1}],\"fFormula\":\"[p0]*x+[p1]\",\"fNdim\":1,\"fLinearParts\":[],\"fVectorized\":false},\"fParams\":null,\"fComposition\":null},{\"_typename\":\"TPaveStats\",\"fUniqueID\":0,\"fBits\":9,\"fLineColor\":1,\"fLineStyle\":1,\"fLineWidth\":1,\"fFillColor\":0,\"fFillStyle\":1001,\"fX1\":0.291246158542232,\"fY1\":0.0916138493597739,\"fX2\":1.16498454737082,\"fY2\":0.283691247718973,\"fX1NDC\":0.620000013709068,\"fY1NDC\":0.775000005960464,\"fX2NDC\":0.980000019073486,\"fY2NDC\":0.935000002384186,\"fBorderSize\":1,\"fInit\":1,\"fShadowColor\":1,\"fCornerRadius\":0,\"fOption\":\"brNDC\",\"fName\":\"stats\",\"fTextAngle\":0,\"fTextSize\":0,\"fTextAlign\":12,\"fTextColor\":1,\"fTextFont\":42,\"fLabel\":\"\",\"fLongest\":32,\"fMargin\":0.05,\"fLines\":{\"_typename\":\"TList\",\"name\":\"TList\",\"arr\":[{\"_typename\":\"TLatex\",\"fUniqueID\":0,\"fBits\":0,\"fName\":\"\",\"fTitle\":\"#chi^{2} \\/ ndf = 89.27 \\/ 5\",\"fTextAngle\":0,\"fTextSize\":0,\"fTextAlign\":0,\"fTextColor\":0,\"fTextFont\":0,\"fX\":0,\"fY\":0,\"fLineColor\":1,\"fLineStyle\":1,\"fLineWidth\":2,\"fLimitFactorSize\":3,\"fOriginSize\":0.04},{\"_typename\":\"TLatex\",\"fUniqueID\":0,\"fBits\":0,\"fName\":\"\",\"fTitle\":\"p0       = -0.00436 #pm 0.04487 \",\"fTextAngle\":0,\"fTextSize\":0,\"fTextAlign\":0,\"fTextColor\":0,\"fTextFont\":0,\"fX\":0,\"fY\":0,\"fLineColor\":1,\"fLineStyle\":1,\"fLineWidth\":2,\"fLimitFactorSize\":3,\"fOriginSize\":0.04},{\"_typename\":\"TLatex\",\"fUniqueID\":0,\"fBits\":0,\"fName\":\"\",\"fTitle\":\"p1       = -0.01571 #pm  0.02 \",\"fTextAngle\":0,\"fTextSize\":0,\"fTextAlign\":0,\"fTextColor\":0,\"fTextFont\":0,\"fX\":0,\"fY\":0,\"fLineColor\":1,\"fLineStyle\":1,\"fLineWidth\":2,\"fLimitFactorSize\":3,\"fOriginSize\":0.04}],\"opt\":[\"\",\"\",\"\"]},\"fOptFit\":111,\"fOptStat\":0,\"fFitFormat\":\"5.4g\",\"fStatFormat\":\"6.4g\",\"fParent\":{\"$ref\":4}}],\"opt\":[\"\",\"brNDC\"]},\"fHistogram\":{\"_typename\":\"TH1F\",\"fUniqueID\":0,\"fBits\":512,\"fName\":\"Graph\",\"fTitle\":\"A_{LH}\",\"fLineColor\":602,\"fLineStyle\":1,\"fLineWidth\":1,\"fFillColor\":0,\"fFillStyle\":1001,\"fMarkerColor\":1,\"fMarkerStyle\":1,\"fMarkerSize\":1,\"fNcells\":102,\"fXaxis\":{\"_typename\":\"TAxis\",\"fUniqueID\":0,\"fBits\":0,\"fName\":\"xaxis\",\"fTitle\":\"cos#theta_{#gamma}\",\"fNdivisions\":510,\"fAxisColor\":1,\"fLabelColor\":1,\"fLabelFont\":42,\"fLabelOffset\":0.005,\"fLabelSize\":0.035,\"fTickLength\":0.03,\"fTitleOffset\":1,\"fTitleSize\":0.035,\"fTitleColor\":1,\"fTitleFont\":42,\"fNbins\":100,\"fXmin\":-0.97082040309906,\"fXmax\":0.97082040309906,\"fXbins\":[],\"fFirst\":0,\"fLast\":0,\"fBits2\":0,\"fTimeDisplay\":false,\"fTimeFormat\":\"\",\"fLabels\":null,\"fModLabs\":null},\"fYaxis\":{\"_typename\":\"TAxis\",\"fUniqueID\":0,\"fBits\":0,\"fName\":\"yaxis\",\"fTitle\":\"A_{LH}\",\"fNdivisions\":510,\"fAxisColor\":1,\"fLabelColor\":1,\"fLabelFont\":42,\"fLabelOffset\":0.005,\"fLabelSize\":0.035,\"fTickLength\":0.03,\"fTitleOffset\":0,\"fTitleSize\":0.035,\"fTitleColor\":1,\"fTitleFont\":42,\"fNbins\":1,\"fXmin\":-0.718712693080306,\"fXmax\":0.241674305871129,\"fXbins\":[],\"fFirst\":0,\"fLast\":0,\"fBits2\":0,\"fTimeDisplay\":false,\"fTimeFormat\":\"\",\"fLabels\":null,\"fModLabs\":null},\"fZaxis\":{\"_typename\":\"TAxis\",\"fUniqueID\":0,\"fBits\":0,\"fName\":\"zaxis\",\"fTitle\":\"\",\"fNdivisions\":510,\"fAxisColor\":1,\"fLabelColor\":1,\"fLabelFont\":42,\"fLabelOffset\":0.005,\"fLabelSize\":0.035,\"fTickLength\":0.03,\"fTitleOffset\":1,\"fTitleSize\":0.035,\"fTitleColor\":1,\"fTitleFont\":42,\"fNbins\":1,\"fXmin\":0,\"fXmax\":1,\"fXbins\":[],\"fFirst\":0,\"fLast\":0,\"fBits2\":0,\"fTimeDisplay\":false,\"fTimeFormat\":\"\",\"fLabels\":null,\"fModLabs\":null},\"fBarOffset\":0,\"fBarWidth\":1000,\"fEntries\":0,\"fTsumw\":0,\"fTsumw2\":0,\"fTsumwx\":0,\"fTsumwx2\":0,\"fMaximum\":0.241674305871129,\"fMinimum\":-0.718712693080306,\"fNormFactor\":0,\"fContour\":[],\"fSumw2\":[],\"fOption\":\"\",\"fFunctions\":{\"_typename\":\"TList\",\"name\":\"TList\",\"arr\":[],\"opt\":[]},\"fBufferSize\":0,\"fBuffer\":[],\"fBinStatErrOpt\":0,\"fStatOverflows\":2,\"fArray\":{\"$arr\":\"Float32\",\"len\":102}},\"fMinimum\":-1111,\"fMaximum\":-1111,\"fEX\":{\"$arr\":\"Float64\",\"len\":7},\"fEY\":{\"$arr\":\"Float64\",\"len\":7,\"v\":[0.081197127699852,0.0458557121455669,0.094243161380291,0.0346409007906914,0.070210374891758,0.0510600358247757,0.0467648021876812]}},{\"_typename\":\"TPaveText\",\"fUniqueID\":0,\"fBits\":9,\"fLineColor\":1,\"fLineStyle\":1,\"fLineWidth\":1,\"fFillColor\":0,\"fFillStyle\":0,\"fX1\":-0.101642943047117,\"fY1\":0.279418342259431,\"fX2\":0.101642943047117,\"fY2\":0.355720276575823,\"fX1NDC\":0.458120805369128,\"fY1NDC\":0.931440682734473,\"fX2NDC\":0.541879194630873,\"fY2NDC\":0.995000004768372,\"fBorderSize\":0,\"fInit\":1,\"fShadowColor\":1,\"fCornerRadius\":0,\"fOption\":\"blNDC\",\"fName\":\"title\",\"fTextAngle\":0,\"fTextSize\":0,\"fTextAlign\":22,\"fTextColor\":1,\"fTextFont\":42,\"fLabel\":\"\",\"fLongest\":6,\"fMargin\":0.05,\"fLines\":{\"_typename\":\"TList\",\"name\":\"TList\",\"arr\":[{\"_typename\":\"TLatex\",\"fUniqueID\":0,\"fBits\":0,\"fName\":\"\",\"fTitle\":\"A_{LH}\",\"fTextAngle\":0,\"fTextSize\":0,\"fTextAlign\":0,\"fTextColor\":0,\"fTextFont\":0,\"fX\":0,\"fY\":0,\"fLineColor\":1,\"fLineStyle\":1,\"fLineWidth\":2,\"fLimitFactorSize\":3,\"fOriginSize\":0.0540254227817059}],\"opt\":[\"\"]}},{\"_typename\":\"TStyle\",\"fUniqueID\":0,\"fBits\":0,\"fName\":\"Modern\",\"fTitle\":\"Modern Style\",\"fLineColor\":1,\"fLineStyle\":1,\"fLineWidth\":1,\"fFillColor\":19,\"fFillStyle\":1001,\"fMarkerColor\":1,\"fMarkerStyle\":1,\"fMarkerSize\":1,\"fTextAngle\":0,\"fTextSize\":0.05,\"fTextAlign\":11,\"fTextColor\":1,\"fTextFont\":62,\"fXaxis\":{\"_typename\":\"TAttAxis\",\"fNdivisions\":510,\"fAxisColor\":1,\"fLabelColor\":1,\"fLabelFont\":42,\"fLabelOffset\":0.005,\"fLabelSize\":0.035,\"fTickLength\":0.03,\"fTitleOffset\":1,\"fTitleSize\":0.035,\"fTitleColor\":1,\"fTitleFont\":42},\"fYaxis\":{\"_typename\":\"TAttAxis\",\"fNdivisions\":510,\"fAxisColor\":1,\"fLabelColor\":1,\"fLabelFont\":42,\"fLabelOffset\":0.005,\"fLabelSize\":0.035,\"fTickLength\":0.03,\"fTitleOffset\":0,\"fTitleSize\":0.035,\"fTitleColor\":1,\"fTitleFont\":42},\"fZaxis\":{\"_typename\":\"TAttAxis\",\"fNdivisions\":510,\"fAxisColor\":1,\"fLabelColor\":1,\"fLabelFont\":42,\"fLabelOffset\":0.005,\"fLabelSize\":0.035,\"fTickLength\":0.03,\"fTitleOffset\":1,\"fTitleSize\":0.035,\"fTitleColor\":1,\"fTitleFont\":42},\"fBarWidth\":1,\"fBarOffset\":0,\"fColorModelPS\":0,\"fDrawBorder\":0,\"fOptLogx\":0,\"fOptLogy\":0,\"fOptLogz\":0,\"fOptDate\":0,\"fOptStat\":1111,\"fOptTitle\":1,\"fOptFile\":0,\"fOptFit\":1,\"fShowEventStatus\":0,\"fShowEditor\":0,\"fShowToolBar\":0,\"fNumberContours\":20,\"fAttDate\":{\"_typename\":\"TAttText\",\"fTextAngle\":0,\"fTextSize\":0.025,\"fTextAlign\":11,\"fTextColor\":1,\"fTextFont\":62},\"fDateX\":0.01,\"fDateY\":0.01,\"fEndErrorSize\":2,\"fErrorX\":0.5,\"fFuncColor\":2,\"fFuncStyle\":1,\"fFuncWidth\":2,\"fGridColor\":0,\"fGridStyle\":3,\"fGridWidth\":1,\"fLegendBorderSize\":1,\"fLegendFillColor\":0,\"fLegendFont\":42,\"fLegendTextSize\":0,\"fHatchesLineWidth\":1,\"fHatchesSpacing\":1,\"fFrameFillColor\":0,\"fFrameLineColor\":1,\"fFrameFillStyle\":1001,\"fFrameLineStyle\":1,\"fFrameLineWidth\":1,\"fFrameBorderSize\":1,\"fFrameBorderMode\":0,\"fHistFillColor\":0,\"fHistLineColor\":602,\"fHistFillStyle\":1001,\"fHistLineStyle\":1,\"fHistLineWidth\":1,\"fHistMinimumZero\":false,\"fHistTopMargin\":0.05,\"fCanvasPreferGL\":false,\"fCanvasColor\":0,\"fCanvasBorderSize\":2,\"fCanvasBorderMode\":0,\"fCanvasDefH\":500,\"fCanvasDefW\":700,\"fCanvasDefX\":10,\"fCanvasDefY\":10,\"fPadColor\":0,\"fPadBorderSize\":2,\"fPadBorderMode\":0,\"fPadBottomMargin\":0.1,\"fPadTopMargin\":0.1,\"fPadLeftMargin\":0.1,\"fPadRightMargin\":0.1,\"fPadGridX\":false,\"fPadGridY\":false,\"fPadTickX\":0,\"fPadTickY\":0,\"fPaperSizeX\":20,\"fPaperSizeY\":26,\"fScreenFactor\":1,\"fStatColor\":0,\"fStatTextColor\":1,\"fStatBorderSize\":1,\"fStatFont\":42,\"fStatFontSize\":0,\"fStatStyle\":1001,\"fStatFormat\":\"6.4g\",\"fStatX\":0.98,\"fStatY\":0.935,\"fStatW\":0.2,\"fStatH\":0.16,\"fStripDecimals\":true,\"fTitleAlign\":23,\"fTitleColor\":0,\"fTitleTextColor\":1,\"fTitleBorderSize\":0,\"fTitleFont\":42,\"fTitleFontSize\":0.05,\"fTitleStyle\":0,\"fTitleX\":0.5,\"fTitleY\":0.995,\"fTitleW\":0,\"fTitleH\":0,\"fLegoInnerR\":0.5,\"fLineStyles\":[\"\",\"  \",\" 12 12\",\" 4 8\",\" 12 16 4 16\",\" 20 12 4 12\",\" 20 12 4 12 4 12 4 12\",\" 20 20\",\" 20 12 4 12 4 12\",\" 80 20\",\" 80 40 4 40\",\"  \",\"  \",\"  \",\"  \",\"  \",\"  \",\"  \",\"  \",\"  \",\"  \",\"  \",\"  \",\"  \",\"  \",\"  \",\"  \",\"  \",\"  \",\"  \"],\"fHeaderPS\":\"\",\"fTitlePS\":\"\",\"fFitFormat\":\"5.4g\",\"fPaintTextFormat\":\"g\",\"fLineScalePS\":3,\"fJoinLinePS\":0,\"fCapLinePS\":0,\"fTimeOffset\":788918400,\"fImageScaling\":1}],\"opt\":[\"\",\"ap\",\"blNDC\",\"\"]},\"fExecs\":null,\"fName\":\"A_{LH}\",\"fTitle\":\"A_{LH}\",\"fNumPaletteColor\":0,\"fNextPaletteColor\":0,\"fDISPLAY\":\"$DISPLAY\",\"fDoubleBuffer\":0,\"fRetained\":true,\"fXsizeUser\":0,\"fYsizeUser\":0,\"fXsizeReal\":20,\"fYsizeReal\":16.66667,\"fWindowTopX\":0,\"fWindowTopY\":0,\"fWindowWidth\":0,\"fWindowHeight\":0,\"fCw\":596,\"fCh\":472,\"fCatt\":{\"_typename\":\"TAttCanvas\",\"fXBetween\":2,\"fYBetween\":2,\"fTitleFromTop\":1.2,\"fXdate\":0.2,\"fYdate\":0.3,\"fAdate\":1},\"kMoveOpaque\":true,\"kResizeOpaque\":true,\"fHighLightColor\":2,\"fBatch\":true,\"kShowEventStatus\":false,\"kAutoExec\":true,\"kMenuBar\":true});\n",
       "   Core.settings.HandleKeys = false;\n",
       "   Core.draw(\"root_plot_1693206869849\", obj, \"\");\n",
       "}\n",
       "\n",
       "function script_load_root_plot_1693206869849(src, on_error) {\n",
       "    let script = document.createElement('script');\n",
       "    script.src = src;\n",
       "    script.onload = function() { display_root_plot_1693206869849(JSROOT); };\n",
       "    script.onerror = function() { script.remove(); on_error(); };\n",
       "    document.head.appendChild(script);\n",
       "}\n",
       "\n",
       "if (typeof requirejs !== 'undefined') {\n",
       "\n",
       "    // We are in jupyter notebooks, use require.js which should be configured already\n",
       "    requirejs.config({\n",
       "       paths: { 'JSRootCore' : [ 'build/jsroot', 'https://root.cern/js/7.2.1/build/jsroot', 'https://jsroot.gsi.de/7.2.1/build/jsroot' ] }\n",
       "    })(['JSRootCore'],  function(Core) {\n",
       "       display_root_plot_1693206869849(Core);\n",
       "    });\n",
       "\n",
       "} else if (typeof JSROOT !== 'undefined') {\n",
       "\n",
       "   // JSROOT already loaded, just use it\n",
       "   display_root_plot_1693206869849(JSROOT);\n",
       "\n",
       "} else {\n",
       "\n",
       "    // We are in jupyterlab without require.js, directly loading jsroot\n",
       "    // Jupyterlab might be installed in a different base_url so we need to know it.\n",
       "    try {\n",
       "        var base_url = JSON.parse(document.getElementById('jupyter-config-data').innerHTML).baseUrl;\n",
       "    } catch(_) {\n",
       "        var base_url = '/';\n",
       "    }\n",
       "\n",
       "    // Try loading a local version of requirejs and fallback to cdn if not possible.\n",
       "    script_load_root_plot_1693206869849(base_url + 'static/build/jsroot.js', function(){\n",
       "        console.error('Fail to load JSROOT locally, please check your jupyter_notebook_config.py file');\n",
       "        script_load_root_plot_1693206869849('https://root.cern/js/7.2.1/build/jsroot.js', function(){\n",
       "            document.getElementById(\"root_plot_1693206869849\").innerHTML = \"Failed to load JSROOT\";\n",
       "        });\n",
       "    });\n",
       "}\n",
       "\n",
       "</script>\n"
      ],
      "text/plain": [
       "<IPython.core.display.HTML object>"
      ]
     },
     "metadata": {},
     "output_type": "display_data"
    }
   ],
   "source": [
    "# graph = ROOT.TGraphErrors(len(A_LH_angle[1:]),cos_angle[1:], A_LH_angle[1:], np.zeros_like(A_LH_angle[1:]), dA_LH_angle[1:])\n",
    "# graph.SetMarkerStyle(20)\n",
    "# graph.GetXaxis().SetTitle(\"cos#theta_{#gamma}\")\n",
    "# graph.GetYaxis().SetTitle(\"A_{LH}\")\n",
    "# # graph.SetTitle(title)\n",
    "\n",
    "# canvas = ROOT.TCanvas(\"canvas\", \"My Graph\", 600, 500)\n",
    "# graph.Draw()\n",
    "# fitFunc = ROOT.TF1(\"fitFunc\", \"[0]*x + [1]\")\n",
    "# graph.Fit(fitFunc, \"Q\")\n",
    "# ROOT.gStyle.SetOptFit(1)\n",
    "# graph.Draw(\"AP\")\n",
    "# canvas.Draw()\n",
    "A_LH_graph = stage2.create_A_LH_graph(cos_angle, A_LH_angle, dy = dA_LH_angle)\n",
    "stage2.linear_fit_and_plot(A_LH_graph)"
   ]
  },
  {
   "cell_type": "code",
   "execution_count": null,
   "id": "417c1039",
   "metadata": {},
   "outputs": [],
   "source": []
  },
  {
   "cell_type": "code",
   "execution_count": null,
   "id": "44cace38",
   "metadata": {},
   "outputs": [],
   "source": []
  },
  {
   "cell_type": "code",
   "execution_count": null,
   "id": "7d56caf2",
   "metadata": {},
   "outputs": [],
   "source": []
  }
 ],
 "metadata": {
  "kernelspec": {
   "display_name": "research",
   "language": "python",
   "name": "python3"
  },
  "language_info": {
   "codemirror_mode": {
    "name": "ipython",
    "version": 3
   },
   "file_extension": ".py",
   "mimetype": "text/x-python",
   "name": "python",
   "nbconvert_exporter": "python",
   "pygments_lexer": "ipython3",
   "version": "3.11.4"
  }
 },
 "nbformat": 4,
 "nbformat_minor": 5
}
