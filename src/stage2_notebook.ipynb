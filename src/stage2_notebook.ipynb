{
 "cells": [
  {
   "cell_type": "code",
   "execution_count": 1,
   "id": "9607fd41",
   "metadata": {},
   "outputs": [
    {
     "name": "stdout",
     "output_type": "stream",
     "text": [
      "Welcome to JupyROOT 6.28/00\n"
     ]
    }
   ],
   "source": [
    "import ROOT\n",
    "import numpy as np\n",
    "import utils\n",
    "import stage2\n",
    "\n",
    "%jsroot on"
   ]
  },
  {
   "cell_type": "markdown",
   "id": "2459b3fe-05c9-438c-8492-e9bff135a986",
   "metadata": {},
   "source": [
    "## Defining Globals"
   ]
  },
  {
   "cell_type": "code",
   "execution_count": 2,
   "id": "694b56fd-5dc6-4fc1-810e-d9b5bebe2d92",
   "metadata": {
    "editable": true,
    "slideshow": {
     "slide_type": ""
    },
    "tags": []
   },
   "outputs": [
    {
     "name": "stdout",
     "output_type": "stream",
     "text": [
      "[ 8.09016994e-01  3.25568154e-01  3.09016994e-01  6.12323400e-17\n",
      " -3.09016994e-01 -3.25568154e-01 -8.09016994e-01]\n"
     ]
    }
   ],
   "source": [
    "# TODO: add handling of angle to toml for run batches\n",
    "\n",
    "# E_p = 10.229\n",
    "# E_p = 13.79\n",
    "E_p = 13.752\n",
    "# E_p = 13.93\n",
    "# E_p = 7.53\n",
    "# E_p = 24.212\n",
    "# E_p = 52.3\n",
    "G_p = 0.3\n",
    "hEgam_gate_FA = [6637,6702] # 127I\n",
    "hEgam_gate_FE = [6150,6194] # 127I\n",
    "hEgam_gate_FA_bkg = [6777,7044] # 127I\n",
    "\n",
    "angle = np.array([36,71,72,90,108,109,144])\n",
    "\n",
    "cos_angle = np.cos(np.pi/180*angle)\n",
    "print(cos_angle)\n",
    "\n",
    "input_file1 = \"../output/stage1_output1.root\"\n",
    "input_file2 = \"../output/stage1_output2.root\""
   ]
  },
  {
   "cell_type": "markdown",
   "id": "5ae82118-adc7-4f11-9832-573dce593f40",
   "metadata": {},
   "source": [
    "## Getting Histograms"
   ]
  },
  {
   "cell_type": "code",
   "execution_count": 3,
   "id": "7967f7d8-f8a3-4eae-a096-b1059334e8fb",
   "metadata": {
    "editable": true,
    "slideshow": {
     "slide_type": ""
    },
    "tags": []
   },
   "outputs": [],
   "source": [
    "# det_angle1 = stage2.get_det_angle(input_file1)\n",
    "det_angle1 = [-1, 71, 90, 109, -1, -1, 71, 90, -1, 90, 90, 109, -1, 71, -1, 90, -1, 108, 144, 72, 36, -1, -1, -1, -1, 36, 144, -1, 90, -1, -1, -1]\n",
    "\n",
    "hEn1 = stage2.get_hist(input_file1,\"hEn_gate_FA_beamcorr_pucorr\")\n",
    "hEn_bkg1 = stage2.get_hist(input_file1,\"hEn_gate_FA_bkg_beamcorr_pucorr\")\n",
    "hEgam1 = stage2.get_hist(input_file1,\"hEgam\")\n",
    "\n",
    "# det_angle2 = stage2.get_det_angle(input_file2)\n",
    "det_angle2 = [-1, 71, 90, 109, -1, -1, 71, 90, -1, 90, 90, 109, -1, 71, -1, 90, -1, 108, 144, 36, -1, -1, -1, -1, -1, 36, 144, -1, 90, -1, -1, -1]\n",
    "\n",
    "hEn2 = stage2.get_hist(input_file2,\"hEn_gate_FA_beamcorr_pucorr\")\n",
    "hEn_bkg2 = stage2.get_hist(input_file2,\"hEn_gate_FA_bkg_beamcorr_pucorr\")\n",
    "hEgam2 = stage2.get_hist(input_file2,\"hEgam\")"
   ]
  },
  {
   "cell_type": "markdown",
   "id": "cc7d28ac-3822-4199-9d07-182e8824e029",
   "metadata": {},
   "source": [
    "## Performing Background Subtractions"
   ]
  },
  {
   "cell_type": "code",
   "execution_count": 4,
   "id": "1ae777de-b716-44d4-87e4-5053946a15a6",
   "metadata": {
    "editable": true,
    "slideshow": {
     "slide_type": ""
    },
    "tags": []
   },
   "outputs": [
    {
     "name": "stderr",
     "output_type": "stream",
     "text": [
      "Info in <TCanvas::MakeDefCanvas>:  created default TCanvas with name c1\n"
     ]
    }
   ],
   "source": [
    "hEgam_bkg1 = stage2.calc_hEgam_bkg(hEgam1,6500,7100)\n",
    "scale1 = stage2.calc_scale(hEgam_bkg1, hEgam_gate_FA, hEgam_gate_FA_bkg)\n",
    "hEn_sub1 = stage2.calc_hEn_sub(hEn1, hEn_bkg1, scale1)\n",
    "\n",
    "hEgam_bkg2 = stage2.calc_hEgam_bkg(hEgam2,6500,7100)\n",
    "scale2 = stage2.calc_scale(hEgam_bkg2, hEgam_gate_FA, hEgam_gate_FA_bkg)\n",
    "hEn_sub2 = stage2.calc_hEn_sub(hEn2, hEn_bkg2, scale2)"
   ]
  },
  {
   "cell_type": "markdown",
   "id": "20477bc3-7a18-4529-968b-25113852c1ac",
   "metadata": {},
   "source": [
    "## Calculating N_L and N_H"
   ]
  },
  {
   "cell_type": "code",
   "execution_count": 5,
   "id": "9b2d2954-4093-47c4-b72d-10847d84d83b",
   "metadata": {},
   "outputs": [],
   "source": [
    "N_L_det1, N_H_det1 = stage2.calc_N_LH(hEn_sub1, E_p, G_p)\n",
    "\n",
    "N_L_det2, N_H_det2 = stage2.calc_N_LH(hEn_sub2, E_p, G_p)"
   ]
  },
  {
   "cell_type": "markdown",
   "id": "86f9b1c5-dfa0-46cc-92a8-5ef37036a997",
   "metadata": {},
   "source": [
    "## Adding N_L and N_H By Angle"
   ]
  },
  {
   "cell_type": "code",
   "execution_count": 6,
   "id": "a39f4126-0735-4ef7-9520-4aede9c85790",
   "metadata": {
    "tags": []
   },
   "outputs": [],
   "source": [
    "N_L_angle1 = stage2.sort_by_angle(N_L_det1,det_angle1)\n",
    "N_H_angle1 = stage2.sort_by_angle(N_H_det1,det_angle1)\n",
    "N_L_angle2 = stage2.sort_by_angle(N_L_det2,det_angle2)\n",
    "N_H_angle2 = stage2.sort_by_angle(N_H_det2,det_angle2)"
   ]
  },
  {
   "cell_type": "markdown",
   "id": "c525b3fc-9c0e-47b0-b0e4-3a1bcfe571a7",
   "metadata": {
    "tags": []
   },
   "source": [
    "## Adding Runs"
   ]
  },
  {
   "cell_type": "code",
   "execution_count": 7,
   "id": "b29d6123-e776-45f9-829e-a0dcff530e54",
   "metadata": {},
   "outputs": [
    {
     "name": "stdout",
     "output_type": "stream",
     "text": [
      "[ 489.00325936  525.79396189  227.46287224 1326.28758426  140.43548064\n",
      "  741.26954842  835.27594066]\n",
      "[ 541.44313147  550.81844523  237.81663688 1275.40479461  127.609981\n",
      "  437.65675506  592.83188152]\n"
     ]
    }
   ],
   "source": [
    "N_L_angle = N_L_angle1 + N_L_angle2 \n",
    "N_H_angle = N_H_angle1 + N_H_angle2 \n",
    "\n",
    "# N_L_angle = N_L_angle1 \n",
    "# N_H_angle = N_H_angle1 \n",
    "\n",
    "print(N_H_angle)\n",
    "print(N_L_angle)\n",
    "\n"
   ]
  },
  {
   "cell_type": "markdown",
   "id": "1c4a7178-ebd5-4dcf-8b2e-a585e7eb27aa",
   "metadata": {},
   "source": [
    "## Calculating A_LH and dA_LH"
   ]
  },
  {
   "cell_type": "code",
   "execution_count": 8,
   "id": "4fd890f5-5127-42ce-997d-85f68e30d2ae",
   "metadata": {},
   "outputs": [
    {
     "name": "stdout",
     "output_type": "stream",
     "text": [
      "[0.03111173 0.03046863 0.04634848 0.01960148 0.06100958 0.028142\n",
      " 0.0260777 ]\n"
     ]
    }
   ],
   "source": [
    "A_LH_angle = stage2.A_LH(N_L_angle,N_H_angle)\n",
    "dA_LH_angle = stage2.dA_LH(N_L_angle,N_H_angle)\n",
    "\n",
    "print(dA_LH_angle)\n",
    "\n",
    "# A_LH_angle1 = stage2.A_LH(N_L_angle1,N_H_angle1)\n",
    "# dA_LH_angle1 = stage2.dA_LH(N_L_angle1,N_H_angle1)\n",
    "\n",
    "# A_LH_angle2 = stage2.A_LH(N_L_angle2,N_H_angle2)\n",
    "# dA_LH_angle2 = stage2.dA_LH(N_L_angle2,N_H_angle2)\n"
   ]
  },
  {
   "cell_type": "code",
   "execution_count": 9,
   "id": "1775a67f",
   "metadata": {},
   "outputs": [
    {
     "data": {
      "text/plain": [
       "<cppyy.gbl.TCanvas object at 0x2a40ab500>"
      ]
     },
     "execution_count": 9,
     "metadata": {},
     "output_type": "execute_result"
    },
    {
     "data": {
      "text/html": [
       "\n",
       "\n",
       "<div id=\"root_plot_1693459433901\"\n",
       "     style=\"width: 596px; height: 472px\">\n",
       "</div>\n",
       "<script>\n",
       "\n",
       "function display_root_plot_1693459433901(Core) {\n",
       "   let obj = Core.parse({\"_typename\":\"TCanvas\",\"fUniqueID\":0,\"fBits\":3342344,\"fLineColor\":1,\"fLineStyle\":1,\"fLineWidth\":1,\"fFillColor\":0,\"fFillStyle\":1001,\"fLeftMargin\":0.1,\"fRightMargin\":0.1,\"fBottomMargin\":0.1,\"fTopMargin\":0.1,\"fXfile\":2,\"fYfile\":2,\"fAfile\":1,\"fXstat\":0.99,\"fYstat\":0.99,\"fAstat\":2,\"fFrameFillColor\":0,\"fFrameLineColor\":1,\"fFrameFillStyle\":1001,\"fFrameLineStyle\":1,\"fFrameLineWidth\":1,\"fFrameBorderSize\":1,\"fFrameBorderMode\":0,\"fX1\":-1.21352552195677,\"fY1\":-0.377594682306172,\"fX2\":1.21352552195677,\"fY2\":0.173921548679592,\"fXtoAbsPixelk\":298.00005,\"fXtoPixelk\":298.00005,\"fXtoPixel\":245.56549871278,\"fYtoAbsPixelk\":148.846024723247,\"fYtoPixelk\":148.846024723247,\"fYtoPixel\":-855.822500738302,\"fUtoAbsPixelk\":5e-5,\"fUtoPixelk\":5e-5,\"fUtoPixel\":596,\"fVtoAbsPixelk\":472.00005,\"fVtoPixelk\":472,\"fVtoPixel\":-472,\"fAbsPixeltoXk\":-1.21352552195677,\"fPixeltoXk\":-1.21352552195677,\"fPixeltoX\":0.00407223329515693,\"fAbsPixeltoYk\":0.173921548679592,\"fPixeltoYk\":-0.377594682306172,\"fPixeltoY\":-0.00116846659107153,\"fXlowNDC\":0,\"fYlowNDC\":0,\"fXUpNDC\":1,\"fYUpNDC\":1,\"fWNDC\":1,\"fHNDC\":1,\"fAbsXlowNDC\":0,\"fAbsYlowNDC\":0,\"fAbsWNDC\":1,\"fAbsHNDC\":1,\"fUxmin\":-0.97082040309906,\"fUymin\":-0.322443055920303,\"fUxmax\":0.97082040309906,\"fUymax\":0.118769922293723,\"fTheta\":30,\"fPhi\":30,\"fAspectRatio\":0,\"fNumber\":0,\"fTickx\":0,\"fTicky\":0,\"fLogx\":0,\"fLogy\":0,\"fLogz\":0,\"fPadPaint\":0,\"fCrosshair\":0,\"fCrosshairPos\":0,\"fBorderSize\":2,\"fBorderMode\":0,\"fModified\":false,\"fGridx\":false,\"fGridy\":false,\"fAbsCoord\":false,\"fEditable\":true,\"fFixedAspectRatio\":false,\"fPrimitives\":{\"_typename\":\"TList\",\"name\":\"TList\",\"arr\":[{\"_typename\":\"TFrame\",\"fUniqueID\":0,\"fBits\":8,\"fLineColor\":1,\"fLineStyle\":1,\"fLineWidth\":1,\"fFillColor\":0,\"fFillStyle\":1001,\"fX1\":-0.97082040309906,\"fY1\":-0.322443055920303,\"fX2\":0.97082040309906,\"fY2\":0.118769922293723,\"fBorderSize\":1,\"fBorderMode\":0},{\"_typename\":\"TGraphErrors\",\"fUniqueID\":0,\"fBits\":1032,\"fName\":\"Graph\",\"fTitle\":\"A_{LH}\",\"fLineColor\":1,\"fLineStyle\":1,\"fLineWidth\":1,\"fFillColor\":0,\"fFillStyle\":1000,\"fMarkerColor\":1,\"fMarkerStyle\":20,\"fMarkerSize\":1,\"fNpoints\":7,\"fX\":{\"$arr\":\"Float64\",\"len\":7,\"v\":[0.80901700258255,0.325568169355392,0.30901700258255,6.12323426292584e-17,-0.30901700258255,-0.325568169355392,-0.80901700258255]},\"fY\":{\"$arr\":\"Float64\",\"len\":7,\"v\":[0.0508904419839382,0.0232437252998352,0.0222527850419283,-0.0195575729012489,-0.0478482246398926,-0.257533311843872,-0.169765934348106]},\"fFunctions\":{\"_typename\":\"TList\",\"name\":\"TList\",\"arr\":[{\"_typename\":\"TF1\",\"fUniqueID\":0,\"fBits\":1024,\"fName\":\"fitFunc\",\"fTitle\":\"[0] * x + [1]\",\"fLineColor\":2,\"fLineStyle\":1,\"fLineWidth\":2,\"fFillColor\":19,\"fFillStyle\":0,\"fMarkerColor\":1,\"fMarkerStyle\":1,\"fMarkerSize\":1,\"fXmin\":-0.97082040309906,\"fXmax\":0.97082040309906,\"fNpar\":2,\"fNdim\":1,\"fNpx\":100,\"fType\":0,\"fNpfits\":7,\"fNDF\":5,\"fChisquare\":33.9527648589901,\"fMinimum\":-1111,\"fMaximum\":-1111,\"fParErrors\":[0.0226951303747193,0.0110998041525733],\"fParMin\":[0,0],\"fParMax\":[0,0],\"fSave\":{\"$arr\":\"Float64\",\"len\":103,\"v\":[-0.230665878724483,-0.227246568852366,-0.223827258980249,-0.220407949108132,-0.216988639236015,-0.213569329363898,-0.210150019491781,-0.206730709619664,-0.203311399747547,-0.19989208987543,-0.196472780003313,-0.193053470131196,-0.189634160259079,-0.186214850386962,-0.182795540514845,-0.179376230642728,-0.175956920770611,-0.172537610898494,-0.169118301026377,-0.16569899115426,-0.162279681282144,-0.158860371410027,-0.15544106153791,-0.152021751665793,-0.148602441793676,-0.145183131921559,-0.141763822049442,-0.138344512177325,-0.134925202305208,-0.131505892433091,-0.128086582560974,-0.124667272688857,-0.12124796281674,-0.117828652944623,-0.114409343072506,-0.110990033200389,-0.107570723328272,-0.104151413456155,-0.100732103584038,-0.0973127937119211,-0.0938934838398042,-0.0904741739676872,-0.0870548640955703,-0.0836355542234533,-0.0802162443513363,-0.0767969344792194,-0.0733776246071024,-0.0699583147349854,-0.0665390048628685,-0.0631196949907515,-0.0597003851186345,-0.0562810752465175,-0.0528617653744006,-0.0494424555022836,-0.0460231456301667,-0.0426038357580497,-0.0391845258859327,-0.0357652160138158,-0.0323459061416988,-0.0289265962695818,-0.0255072863974649,-0.0220879765253479,-0.0186686666532309,-0.015249356781114,-0.011830046908997,-0.00841073703688002,-0.00499142716476306,-0.00157211729264609,0.00184719257947087,0.00526650245158785,0.00868581232370481,0.0121051221958218,0.0155244320679387,0.0189437419400557,0.0223630518121727,0.0257823616842896,0.0292016715564066,0.0326209814285236,0.0360402913006405,0.0394596011727575,0.0428789110448745,0.0462982209169914,0.0497175307891084,0.0531368406612254,0.0565561505333423,0.0599754604054593,0.0633947702775763,0.0668140801496932,0.0702333900218102,0.0736526998939272,0.0770720097660441,0.0804913196381611,0.0839106295102781,0.0873299393823951,0.090749249254512,0.094168559126629,0.0975878689987459,0.101007178870863,0.10442648874298,0.107845798615097,0.111265108487214,-0.97082040309906,0.97082040309906]},\"fNormalized\":false,\"fNormIntegral\":0,\"fFormula\":{\"_typename\":\"TFormula\",\"fUniqueID\":0,\"fBits\":1024,\"fName\":\"fitFunc\",\"fTitle\":\"[0] * x + [1]\",\"fClingParameters\":[0.176104141466425,-0.0597003851186345],\"fAllParametersSetted\":true,\"fParams\":[{\"$pair\":\"pair<TString,int,TFormulaParamOrder>\",\"first\":\"p0\",\"second\":0},{\"$pair\":\"pair<TString,int,TFormulaParamOrder>\",\"first\":\"p1\",\"second\":1}],\"fFormula\":\"[p0]*x+[p1]\",\"fNdim\":1,\"fLinearParts\":[],\"fVectorized\":false},\"fParams\":null,\"fComposition\":null},{\"_typename\":\"TPaveStats\",\"fUniqueID\":0,\"fBits\":9,\"fLineColor\":1,\"fLineStyle\":1,\"fLineWidth\":1,\"fFillColor\":0,\"fFillStyle\":1001,\"fX1\":0.291246158542232,\"fY1\":0.0277697512487514,\"fX2\":1.16498454737082,\"fY2\":0.138072994980435,\"fX1NDC\":0.620000013709068,\"fY1NDC\":0.735000006854534,\"fX2NDC\":0.980000019073486,\"fY2NDC\":0.935000002384186,\"fBorderSize\":1,\"fInit\":1,\"fShadowColor\":1,\"fCornerRadius\":0,\"fOption\":\"brNDC\",\"fName\":\"stats\",\"fTextAngle\":0,\"fTextSize\":0,\"fTextAlign\":12,\"fTextColor\":1,\"fTextFont\":42,\"fLabel\":\"\",\"fLongest\":30,\"fMargin\":0.05,\"fLines\":{\"_typename\":\"TList\",\"name\":\"TList\",\"arr\":[{\"_typename\":\"TLatex\",\"fUniqueID\":0,\"fBits\":0,\"fName\":\"\",\"fTitle\":\"#chi^{2} \\/ ndf = 33.95 \\/ 5\",\"fTextAngle\":0,\"fTextSize\":0,\"fTextAlign\":0,\"fTextColor\":0,\"fTextFont\":0,\"fX\":0,\"fY\":0,\"fLineColor\":1,\"fLineStyle\":1,\"fLineWidth\":2,\"fLimitFactorSize\":3,\"fOriginSize\":0.04},{\"_typename\":\"TLatex\",\"fUniqueID\":0,\"fBits\":0,\"fName\":\"\",\"fTitle\":\"Prob  = 2.433e-06\",\"fTextAngle\":0,\"fTextSize\":0,\"fTextAlign\":0,\"fTextColor\":0,\"fTextFont\":0,\"fX\":0,\"fY\":0,\"fLineColor\":1,\"fLineStyle\":1,\"fLineWidth\":2,\"fLimitFactorSize\":3,\"fOriginSize\":0.04},{\"_typename\":\"TLatex\",\"fUniqueID\":0,\"fBits\":0,\"fName\":\"\",\"fTitle\":\"p0       = 0.1761 #pm 0.0227 \",\"fTextAngle\":0,\"fTextSize\":0,\"fTextAlign\":0,\"fTextColor\":0,\"fTextFont\":0,\"fX\":0,\"fY\":0,\"fLineColor\":1,\"fLineStyle\":1,\"fLineWidth\":2,\"fLimitFactorSize\":3,\"fOriginSize\":0.04},{\"_typename\":\"TLatex\",\"fUniqueID\":0,\"fBits\":0,\"fName\":\"\",\"fTitle\":\"p1       = -0.0597 #pm 0.0111 \",\"fTextAngle\":0,\"fTextSize\":0,\"fTextAlign\":0,\"fTextColor\":0,\"fTextFont\":0,\"fX\":0,\"fY\":0,\"fLineColor\":1,\"fLineStyle\":1,\"fLineWidth\":2,\"fLimitFactorSize\":3,\"fOriginSize\":0.04}],\"opt\":[\"\",\"\",\"\",\"\"]},\"fOptFit\":1111,\"fOptStat\":0,\"fFitFormat\":\"5.4g\",\"fStatFormat\":\"6.4g\",\"fParent\":{\"$ref\":4}}],\"opt\":[\"\",\"brNDC\"]},\"fHistogram\":{\"_typename\":\"TH1F\",\"fUniqueID\":0,\"fBits\":512,\"fName\":\"Graph\",\"fTitle\":\"A_{LH}\",\"fLineColor\":602,\"fLineStyle\":1,\"fLineWidth\":1,\"fFillColor\":0,\"fFillStyle\":1001,\"fMarkerColor\":1,\"fMarkerStyle\":1,\"fMarkerSize\":1,\"fNcells\":102,\"fXaxis\":{\"_typename\":\"TAxis\",\"fUniqueID\":0,\"fBits\":0,\"fName\":\"xaxis\",\"fTitle\":\"cos#theta_{#gamma}\",\"fNdivisions\":510,\"fAxisColor\":1,\"fLabelColor\":1,\"fLabelFont\":42,\"fLabelOffset\":0.005,\"fLabelSize\":0.035,\"fTickLength\":0.03,\"fTitleOffset\":1,\"fTitleSize\":0.035,\"fTitleColor\":1,\"fTitleFont\":42,\"fNbins\":100,\"fXmin\":-0.97082040309906,\"fXmax\":0.97082040309906,\"fXbins\":[],\"fFirst\":0,\"fLast\":0,\"fBits2\":0,\"fTimeDisplay\":false,\"fTimeFormat\":\"\",\"fLabels\":null,\"fModLabs\":null},\"fYaxis\":{\"_typename\":\"TAxis\",\"fUniqueID\":0,\"fBits\":0,\"fName\":\"yaxis\",\"fTitle\":\"A_{LH}\",\"fNdivisions\":510,\"fAxisColor\":1,\"fLabelColor\":1,\"fLabelFont\":42,\"fLabelOffset\":0.005,\"fLabelSize\":0.035,\"fTickLength\":0.03,\"fTitleOffset\":0,\"fTitleSize\":0.035,\"fTitleColor\":1,\"fTitleFont\":42,\"fNbins\":1,\"fXmin\":-0.322443055920303,\"fXmax\":0.118769922293723,\"fXbins\":[],\"fFirst\":0,\"fLast\":0,\"fBits2\":0,\"fTimeDisplay\":false,\"fTimeFormat\":\"\",\"fLabels\":null,\"fModLabs\":null},\"fZaxis\":{\"_typename\":\"TAxis\",\"fUniqueID\":0,\"fBits\":0,\"fName\":\"zaxis\",\"fTitle\":\"\",\"fNdivisions\":510,\"fAxisColor\":1,\"fLabelColor\":1,\"fLabelFont\":42,\"fLabelOffset\":0.005,\"fLabelSize\":0.035,\"fTickLength\":0.03,\"fTitleOffset\":1,\"fTitleSize\":0.035,\"fTitleColor\":1,\"fTitleFont\":42,\"fNbins\":1,\"fXmin\":0,\"fXmax\":1,\"fXbins\":[],\"fFirst\":0,\"fLast\":0,\"fBits2\":0,\"fTimeDisplay\":false,\"fTimeFormat\":\"\",\"fLabels\":null,\"fModLabs\":null},\"fBarOffset\":0,\"fBarWidth\":1000,\"fEntries\":0,\"fTsumw\":0,\"fTsumw2\":0,\"fTsumwx\":0,\"fTsumwx2\":0,\"fMaximum\":0.118769922293723,\"fMinimum\":-0.322443055920303,\"fNormFactor\":0,\"fContour\":[],\"fSumw2\":[],\"fOption\":\"\",\"fFunctions\":{\"_typename\":\"TList\",\"name\":\"TList\",\"arr\":[],\"opt\":[]},\"fBufferSize\":0,\"fBuffer\":[],\"fBinStatErrOpt\":0,\"fStatOverflows\":2,\"fArray\":{\"$arr\":\"Float32\",\"len\":102}},\"fMinimum\":-1111,\"fMaximum\":-1111,\"fEX\":{\"$arr\":\"Float64\",\"len\":7},\"fEY\":{\"$arr\":\"Float64\",\"len\":7,\"v\":[0.0311117321252823,0.0304686315357685,0.0463484786450863,0.0196014847606421,0.0610095821321011,0.0281419958919287,0.0260776989161968]}},{\"_typename\":\"TPaveText\",\"fUniqueID\":0,\"fBits\":9,\"fLineColor\":1,\"fLineStyle\":1,\"fLineWidth\":1,\"fFillColor\":0,\"fFillStyle\":0,\"fX1\":-0.101642943047117,\"fY1\":0.136109972422352,\"fX2\":0.101642943047117,\"fY2\":0.171163970154498,\"fX1NDC\":0.458120805369128,\"fY1NDC\":0.931440682734473,\"fX2NDC\":0.541879194630873,\"fY2NDC\":0.995000004768372,\"fBorderSize\":0,\"fInit\":1,\"fShadowColor\":1,\"fCornerRadius\":0,\"fOption\":\"blNDC\",\"fName\":\"title\",\"fTextAngle\":0,\"fTextSize\":0,\"fTextAlign\":22,\"fTextColor\":1,\"fTextFont\":42,\"fLabel\":\"\",\"fLongest\":6,\"fMargin\":0.05,\"fLines\":{\"_typename\":\"TList\",\"name\":\"TList\",\"arr\":[{\"_typename\":\"TLatex\",\"fUniqueID\":0,\"fBits\":0,\"fName\":\"\",\"fTitle\":\"A_{LH}\",\"fTextAngle\":0,\"fTextSize\":0,\"fTextAlign\":0,\"fTextColor\":0,\"fTextFont\":0,\"fX\":0,\"fY\":0,\"fLineColor\":1,\"fLineStyle\":1,\"fLineWidth\":2,\"fLimitFactorSize\":3,\"fOriginSize\":0.0540254227817059}],\"opt\":[\"\"]}},{\"_typename\":\"TStyle\",\"fUniqueID\":0,\"fBits\":0,\"fName\":\"Modern\",\"fTitle\":\"Modern Style\",\"fLineColor\":1,\"fLineStyle\":1,\"fLineWidth\":1,\"fFillColor\":19,\"fFillStyle\":1001,\"fMarkerColor\":1,\"fMarkerStyle\":1,\"fMarkerSize\":1,\"fTextAngle\":0,\"fTextSize\":0.05,\"fTextAlign\":11,\"fTextColor\":1,\"fTextFont\":62,\"fXaxis\":{\"_typename\":\"TAttAxis\",\"fNdivisions\":510,\"fAxisColor\":1,\"fLabelColor\":1,\"fLabelFont\":42,\"fLabelOffset\":0.005,\"fLabelSize\":0.035,\"fTickLength\":0.03,\"fTitleOffset\":1,\"fTitleSize\":0.035,\"fTitleColor\":1,\"fTitleFont\":42},\"fYaxis\":{\"_typename\":\"TAttAxis\",\"fNdivisions\":510,\"fAxisColor\":1,\"fLabelColor\":1,\"fLabelFont\":42,\"fLabelOffset\":0.005,\"fLabelSize\":0.035,\"fTickLength\":0.03,\"fTitleOffset\":0,\"fTitleSize\":0.035,\"fTitleColor\":1,\"fTitleFont\":42},\"fZaxis\":{\"_typename\":\"TAttAxis\",\"fNdivisions\":510,\"fAxisColor\":1,\"fLabelColor\":1,\"fLabelFont\":42,\"fLabelOffset\":0.005,\"fLabelSize\":0.035,\"fTickLength\":0.03,\"fTitleOffset\":1,\"fTitleSize\":0.035,\"fTitleColor\":1,\"fTitleFont\":42},\"fBarWidth\":1,\"fBarOffset\":0,\"fColorModelPS\":0,\"fDrawBorder\":0,\"fOptLogx\":0,\"fOptLogy\":0,\"fOptLogz\":0,\"fOptDate\":0,\"fOptStat\":1111,\"fOptTitle\":1,\"fOptFile\":0,\"fOptFit\":1111,\"fShowEventStatus\":0,\"fShowEditor\":0,\"fShowToolBar\":0,\"fNumberContours\":20,\"fAttDate\":{\"_typename\":\"TAttText\",\"fTextAngle\":0,\"fTextSize\":0.025,\"fTextAlign\":11,\"fTextColor\":1,\"fTextFont\":62},\"fDateX\":0.01,\"fDateY\":0.01,\"fEndErrorSize\":2,\"fErrorX\":0.5,\"fFuncColor\":2,\"fFuncStyle\":1,\"fFuncWidth\":2,\"fGridColor\":0,\"fGridStyle\":3,\"fGridWidth\":1,\"fLegendBorderSize\":1,\"fLegendFillColor\":0,\"fLegendFont\":42,\"fLegendTextSize\":0,\"fHatchesLineWidth\":1,\"fHatchesSpacing\":1,\"fFrameFillColor\":0,\"fFrameLineColor\":1,\"fFrameFillStyle\":1001,\"fFrameLineStyle\":1,\"fFrameLineWidth\":1,\"fFrameBorderSize\":1,\"fFrameBorderMode\":0,\"fHistFillColor\":0,\"fHistLineColor\":602,\"fHistFillStyle\":1001,\"fHistLineStyle\":1,\"fHistLineWidth\":1,\"fHistMinimumZero\":false,\"fHistTopMargin\":0.05,\"fCanvasPreferGL\":false,\"fCanvasColor\":0,\"fCanvasBorderSize\":2,\"fCanvasBorderMode\":0,\"fCanvasDefH\":500,\"fCanvasDefW\":700,\"fCanvasDefX\":10,\"fCanvasDefY\":10,\"fPadColor\":0,\"fPadBorderSize\":2,\"fPadBorderMode\":0,\"fPadBottomMargin\":0.1,\"fPadTopMargin\":0.1,\"fPadLeftMargin\":0.1,\"fPadRightMargin\":0.1,\"fPadGridX\":false,\"fPadGridY\":false,\"fPadTickX\":0,\"fPadTickY\":0,\"fPaperSizeX\":20,\"fPaperSizeY\":26,\"fScreenFactor\":1,\"fStatColor\":0,\"fStatTextColor\":1,\"fStatBorderSize\":1,\"fStatFont\":42,\"fStatFontSize\":0,\"fStatStyle\":1001,\"fStatFormat\":\"6.4g\",\"fStatX\":0.98,\"fStatY\":0.935,\"fStatW\":0.2,\"fStatH\":0.16,\"fStripDecimals\":true,\"fTitleAlign\":23,\"fTitleColor\":0,\"fTitleTextColor\":1,\"fTitleBorderSize\":0,\"fTitleFont\":42,\"fTitleFontSize\":0.05,\"fTitleStyle\":0,\"fTitleX\":0.5,\"fTitleY\":0.995,\"fTitleW\":0,\"fTitleH\":0,\"fLegoInnerR\":0.5,\"fLineStyles\":[\"\",\"  \",\" 12 12\",\" 4 8\",\" 12 16 4 16\",\" 20 12 4 12\",\" 20 12 4 12 4 12 4 12\",\" 20 20\",\" 20 12 4 12 4 12\",\" 80 20\",\" 80 40 4 40\",\"  \",\"  \",\"  \",\"  \",\"  \",\"  \",\"  \",\"  \",\"  \",\"  \",\"  \",\"  \",\"  \",\"  \",\"  \",\"  \",\"  \",\"  \",\"  \"],\"fHeaderPS\":\"\",\"fTitlePS\":\"\",\"fFitFormat\":\"5.4g\",\"fPaintTextFormat\":\"g\",\"fLineScalePS\":3,\"fJoinLinePS\":0,\"fCapLinePS\":0,\"fTimeOffset\":788918400,\"fImageScaling\":1}],\"opt\":[\"\",\"ap\",\"blNDC\",\"\"]},\"fExecs\":null,\"fName\":\"A_{LH}\",\"fTitle\":\"A_{LH}\",\"fNumPaletteColor\":0,\"fNextPaletteColor\":0,\"fDISPLAY\":\"$DISPLAY\",\"fDoubleBuffer\":0,\"fRetained\":true,\"fXsizeUser\":0,\"fYsizeUser\":0,\"fXsizeReal\":20,\"fYsizeReal\":16.66667,\"fWindowTopX\":0,\"fWindowTopY\":0,\"fWindowWidth\":0,\"fWindowHeight\":0,\"fCw\":596,\"fCh\":472,\"fCatt\":{\"_typename\":\"TAttCanvas\",\"fXBetween\":2,\"fYBetween\":2,\"fTitleFromTop\":1.2,\"fXdate\":0.2,\"fYdate\":0.3,\"fAdate\":1},\"kMoveOpaque\":true,\"kResizeOpaque\":true,\"fHighLightColor\":2,\"fBatch\":true,\"kShowEventStatus\":false,\"kAutoExec\":true,\"kMenuBar\":true});\n",
       "   Core.settings.HandleKeys = false;\n",
       "   Core.draw(\"root_plot_1693459433901\", obj, \"\");\n",
       "}\n",
       "\n",
       "function script_load_root_plot_1693459433901(src, on_error) {\n",
       "    let script = document.createElement('script');\n",
       "    script.src = src;\n",
       "    script.onload = function() { display_root_plot_1693459433901(JSROOT); };\n",
       "    script.onerror = function() { script.remove(); on_error(); };\n",
       "    document.head.appendChild(script);\n",
       "}\n",
       "\n",
       "if (typeof requirejs !== 'undefined') {\n",
       "\n",
       "    // We are in jupyter notebooks, use require.js which should be configured already\n",
       "    requirejs.config({\n",
       "       paths: { 'JSRootCore' : [ 'build/jsroot', 'https://root.cern/js/7.2.1/build/jsroot', 'https://jsroot.gsi.de/7.2.1/build/jsroot' ] }\n",
       "    })(['JSRootCore'],  function(Core) {\n",
       "       display_root_plot_1693459433901(Core);\n",
       "    });\n",
       "\n",
       "} else if (typeof JSROOT !== 'undefined') {\n",
       "\n",
       "   // JSROOT already loaded, just use it\n",
       "   display_root_plot_1693459433901(JSROOT);\n",
       "\n",
       "} else {\n",
       "\n",
       "    // We are in jupyterlab without require.js, directly loading jsroot\n",
       "    // Jupyterlab might be installed in a different base_url so we need to know it.\n",
       "    try {\n",
       "        var base_url = JSON.parse(document.getElementById('jupyter-config-data').innerHTML).baseUrl;\n",
       "    } catch(_) {\n",
       "        var base_url = '/';\n",
       "    }\n",
       "\n",
       "    // Try loading a local version of requirejs and fallback to cdn if not possible.\n",
       "    script_load_root_plot_1693459433901(base_url + 'static/build/jsroot.js', function(){\n",
       "        console.error('Fail to load JSROOT locally, please check your jupyter_notebook_config.py file');\n",
       "        script_load_root_plot_1693459433901('https://root.cern/js/7.2.1/build/jsroot.js', function(){\n",
       "            document.getElementById(\"root_plot_1693459433901\").innerHTML = \"Failed to load JSROOT\";\n",
       "        });\n",
       "    });\n",
       "}\n",
       "\n",
       "</script>\n"
      ],
      "text/plain": [
       "<IPython.core.display.HTML object>"
      ]
     },
     "metadata": {},
     "output_type": "display_data"
    }
   ],
   "source": [
    "# graph = ROOT.TGraphErrors(len(A_LH_angle[1:]),cos_angle[1:], A_LH_angle[1:], np.zeros_like(A_LH_angle[1:]), dA_LH_angle[1:])\n",
    "# graph.SetMarkerStyle(20)\n",
    "# graph.GetXaxis().SetTitle(\"cos#theta_{#gamma}\")\n",
    "# graph.GetYaxis().SetTitle(\"A_{LH}\")\n",
    "# # graph.SetTitle(title)\n",
    "\n",
    "# canvas = ROOT.TCanvas(\"canvas\", \"My Graph\", 600, 500)\n",
    "# graph.Draw()\n",
    "# fitFunc = ROOT.TF1(\"fitFunc\", \"[0]*x + [1]\")\n",
    "# graph.Fit(fitFunc, \"Q\")\n",
    "# ROOT.gStyle.SetOptFit(1)\n",
    "# graph.Draw(\"AP\")\n",
    "# canvas.Draw()\n",
    "A_LH_graph = stage2.create_A_LH_graph(cos_angle, A_LH_angle, dy = dA_LH_angle)\n",
    "stage2.linear_fit_and_plot(A_LH_graph)"
   ]
  },
  {
   "cell_type": "code",
   "execution_count": null,
   "id": "417c1039",
   "metadata": {},
   "outputs": [],
   "source": []
  },
  {
   "cell_type": "code",
   "execution_count": null,
   "id": "44cace38",
   "metadata": {},
   "outputs": [],
   "source": []
  },
  {
   "cell_type": "code",
   "execution_count": null,
   "id": "7d56caf2",
   "metadata": {},
   "outputs": [],
   "source": []
  }
 ],
 "metadata": {
  "kernelspec": {
   "display_name": "research",
   "language": "python",
   "name": "python3"
  },
  "language_info": {
   "codemirror_mode": {
    "name": "ipython",
    "version": 3
   },
   "file_extension": ".py",
   "mimetype": "text/x-python",
   "name": "python",
   "nbconvert_exporter": "python",
   "pygments_lexer": "ipython3",
   "version": "3.11.4"
  }
 },
 "nbformat": 4,
 "nbformat_minor": 5
}
