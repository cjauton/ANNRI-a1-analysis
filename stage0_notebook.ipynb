{
 "cells": [
  {
   "cell_type": "code",
   "execution_count": 1,
   "id": "1b6e2ac7-35ab-47ab-a988-7b0dcff1cd46",
   "metadata": {
    "scrolled": true
   },
   "outputs": [
    {
     "name": "stdout",
     "output_type": "stream",
     "text": [
      "Welcome to JupyROOT 6.28/00\n"
     ]
    }
   ],
   "source": [
    "import ROOT\n",
    "import numpy as np\n",
    "import toml\n",
    "from tqdm.notebook import tqdm, trange\n",
    "from utils import *\n",
    "import numba\n",
    "\n",
    "%jsroot on"
   ]
  },
  {
   "cell_type": "markdown",
   "id": "f1f26c42-268c-49ea-bc29-7df8b88c4851",
   "metadata": {},
   "source": [
    "## Load Config\n",
    "The config holds all the information on how to construct the histograms and other general settings"
   ]
  },
  {
   "cell_type": "code",
   "execution_count": 2,
   "id": "5ae00d1f-1c6b-45af-90b0-ab1cf7ff62a0",
   "metadata": {},
   "outputs": [],
   "source": [
    "config = toml.load(\"stage0_config.toml\")"
   ]
  },
  {
   "cell_type": "markdown",
   "id": "753cbd25-d176-48f7-b26b-f6f67c73ee27",
   "metadata": {},
   "source": [
    "## Read Calibration\n",
    "Read the detector calibration from csv file"
   ]
  },
  {
   "cell_type": "code",
   "execution_count": 3,
   "id": "9a94da2b-8442-4271-9de2-5de916d24f83",
   "metadata": {},
   "outputs": [],
   "source": [
    "file = open(\"calib/calib_apr.csv\", \"r\")\n",
    "file.readline()\n",
    "\n",
    "numch = config['general']['numch']\n",
    "\n",
    "calib_slope = [1] * numch\n",
    "calib_offset = [0] * numch\n",
    "\n",
    "for line in file:\n",
    "    values = line.strip().split(',')\n",
    "    calib_slope[int(values[0])] = float(values[1])\n",
    "    calib_offset[int(values[0])] = float(values[2])\n",
    "\n",
    "file.close()\n",
    "\n",
    "calib_slope = np.array(calib_slope)\n",
    "calib_offset = np.array(calib_offset)\n",
    "\n"
   ]
  },
  {
   "cell_type": "markdown",
   "id": "07314c86-9498-477f-ad77-d08edb181ac5",
   "metadata": {},
   "source": [
    "## NUMBA Function\n",
    "Create JIT compiled C++ function for creating hEgam column"
   ]
  },
  {
   "cell_type": "code",
   "execution_count": 4,
   "id": "d72a20e0-dcb3-4554-939b-e910209b7509",
   "metadata": {},
   "outputs": [],
   "source": [
    "@ROOT.Numba.Declare([\"int\",\"int\"], \"double\")\n",
    "def calc_Egam(detector,PulseHeight):\n",
    "    return PulseHeight*calib_slope[detector]+calib_offset[detector]"
   ]
  },
  {
   "cell_type": "markdown",
   "id": "7e7e983f-bd71-4664-849b-b651b6f387c1",
   "metadata": {},
   "source": [
    "## Create RDataFrame\n",
    "Create data frame and define new columns then filter by channel. Create histogram models and then fill histograms."
   ]
  },
  {
   "cell_type": "code",
   "execution_count": 5,
   "id": "9ea51b84-61da-435c-998a-a181c9d9c16a",
   "metadata": {
    "editable": true,
    "slideshow": {
     "slide_type": ""
    },
    "tags": []
   },
   "outputs": [],
   "source": [
    "ROOT.EnableImplicitMT()\n",
    "\n",
    "tree_name = config['general']['tree_name']\n",
    "numch = config['general']['numch']\n",
    "fp_length = config['general']['fp_length']\n",
    "pu_flag = config['general']['pu_flag']\n",
    "fo_flag = config['general']['fo_flag']\n",
    "\n",
    "file_name = \"data/rawroot_run_0064*\"\n",
    "\n",
    "df = ROOT.RDataFrame(tree_name, file_name)\n",
    "\n",
    "df = (df.Define(\"tof_ns\",\"tof*10.0\")\n",
    "      .Define(\"tof_mus\",\"tof_ns/1000.0+0.0000001\")\n",
    "      .Define(\"En\",\"pow((72.3*21.5/(tof_ns/1000.0)),2)+0.00001\")\n",
    "      .Define(\"Egam\",\"Numba::calc_Egam(detector,PulseHeight)\"))\n",
    "\n",
    "df_ch = []\n",
    "\n",
    "for ch in range(numch):\n",
    "    \n",
    "    df_ch.append(df.Filter(f\"detector == {ch}\"))\n",
    "\n",
    "hist_dict = {}\n",
    "\n",
    "for key, hist_conf in config['hist'].items():\n",
    "    \n",
    "    # name = hist_conf['name']\n",
    "    xaxis = hist_conf['xaxis']\n",
    "    yaxis = hist_conf['yaxis']\n",
    "    \n",
    "    col = hist_conf['col']\n",
    "    gate = hist_conf['gate']\n",
    "    \n",
    "    down = hist_conf['bins']['down']\n",
    "    up = hist_conf['bins']['up']\n",
    "    N = hist_conf['bins']['N']\n",
    "    var = hist_conf['bins']['var']\n",
    "\n",
    "    if hist_conf['all']:\n",
    "\n",
    "        name = hist_conf['name']\n",
    "        title  = name + ';' + xaxis + ';' + yaxis\n",
    "        xbins = get_xbins(N, down, up, var, fp_length)\n",
    "\n",
    "        hist_model_all = ROOT.RDF.TH1DModel(name, title, N, xbins)\n",
    "        hist_all = df.Histo1D(hist_model_all, col)\n",
    "\n",
    "        hist_dict[key] = hist_all\n",
    "\n",
    "    else:\n",
    "        hist_dict[key] = {}\n",
    "        for ch in range(numch):\n",
    "            \n",
    "            name = hist_conf['name'] + f'_d{ch}'\n",
    "            title  = name + ';' + xaxis + ';' + yaxis\n",
    "            xbins = get_xbins(N, down, up, var, fp_length)\n",
    "\n",
    "            hist_model_ch = ROOT.RDF.TH1DModel(name, title, N, xbins)\n",
    "            hist_ch = df_ch[ch].Histo1D(hist_model_ch, col)\n",
    "\n",
    "            hist_dict[key][name] = hist_ch\n",
    "        \n",
    "        \n",
    "# hist_dict\n"
   ]
  },
  {
   "cell_type": "markdown",
   "id": "463ea5fa-b4a4-412f-8c65-517f17d98d48",
   "metadata": {},
   "source": [
    "## Write Histograms\n",
    "Write histograms from dictionary to a root file maintaing heirerachy. "
   ]
  },
  {
   "cell_type": "code",
   "execution_count": 6,
   "id": "e7f17a12-20e9-417f-a7bc-2200292ac2f1",
   "metadata": {},
   "outputs": [],
   "source": [
    "write_dict_to_root(hist_dict,\"test.root\")"
   ]
  },
  {
   "cell_type": "code",
   "execution_count": 7,
   "id": "f37a8d48-f40a-4157-a1b3-6a7862c705e5",
   "metadata": {
    "editable": true,
    "slideshow": {
     "slide_type": ""
    },
    "tags": []
   },
   "outputs": [
    {
     "data": {
      "text/plain": [
       "{'hTOF_mus': {'hTOF_mus_d0': <cppyy.gbl.TH1D object at 0x16e4a4fd0>,\n",
       "  'hTOF_mus_d1': <cppyy.gbl.TH1D object at 0x16e49d660>,\n",
       "  'hTOF_mus_d2': <cppyy.gbl.TH1D object at 0x16b3ccf80>,\n",
       "  'hTOF_mus_d3': <cppyy.gbl.TH1D object at 0x16b3d9a70>,\n",
       "  'hTOF_mus_d4': <cppyy.gbl.TH1D object at 0x16b3d9e60>,\n",
       "  'hTOF_mus_d5': <cppyy.gbl.TH1D object at 0x16b3da250>,\n",
       "  'hTOF_mus_d6': <cppyy.gbl.TH1D object at 0x16b3da640>,\n",
       "  'hTOF_mus_d7': <cppyy.gbl.TH1D object at 0x16b3daa30>,\n",
       "  'hTOF_mus_d8': <cppyy.gbl.TH1D object at 0x16b3dae20>,\n",
       "  'hTOF_mus_d9': <cppyy.gbl.TH1D object at 0x107e97950>,\n",
       "  'hTOF_mus_d10': <cppyy.gbl.TH1D object at 0x107e97f60>,\n",
       "  'hTOF_mus_d11': <cppyy.gbl.TH1D object at 0x107e98350>,\n",
       "  'hTOF_mus_d12': <cppyy.gbl.TH1D object at 0x107e98740>,\n",
       "  'hTOF_mus_d13': <cppyy.gbl.TH1D object at 0x16b3db210>,\n",
       "  'hTOF_mus_d14': <cppyy.gbl.TH1D object at 0x16b3db600>,\n",
       "  'hTOF_mus_d15': <cppyy.gbl.TH1D object at 0x16b3db9f0>,\n",
       "  'hTOF_mus_d16': <cppyy.gbl.TH1D object at 0x16b3dbde0>,\n",
       "  'hTOF_mus_d17': <cppyy.gbl.TH1D object at 0x16b3dc1d0>,\n",
       "  'hTOF_mus_d18': <cppyy.gbl.TH1D object at 0x16b3dc5c0>,\n",
       "  'hTOF_mus_d19': <cppyy.gbl.TH1D object at 0x16b3dc9b0>,\n",
       "  'hTOF_mus_d20': <cppyy.gbl.TH1D object at 0x16b3dcda0>,\n",
       "  'hTOF_mus_d21': <cppyy.gbl.TH1D object at 0x16b3dd190>,\n",
       "  'hTOF_mus_d22': <cppyy.gbl.TH1D object at 0x16b3dd880>,\n",
       "  'hTOF_mus_d23': <cppyy.gbl.TH1D object at 0x16b3ddc70>,\n",
       "  'hTOF_mus_d24': <cppyy.gbl.TH1D object at 0x16b3de060>,\n",
       "  'hTOF_mus_d25': <cppyy.gbl.TH1D object at 0x16b3de450>,\n",
       "  'hTOF_mus_d26': <cppyy.gbl.TH1D object at 0x16b3de840>,\n",
       "  'hTOF_mus_d27': <cppyy.gbl.TH1D object at 0x16b3dec30>,\n",
       "  'hTOF_mus_d28': <cppyy.gbl.TH1D object at 0x16b3df020>,\n",
       "  'hTOF_mus_d29': <cppyy.gbl.TH1D object at 0x16b3df410>,\n",
       "  'hTOF_mus_d30': <cppyy.gbl.TH1D object at 0x16b3df800>,\n",
       "  'hTOF_mus_d31': <cppyy.gbl.TH1D object at 0x16b3dfbf0>},\n",
       " 'hTOF_10ns': {'hTOF_10ns_d0': <cppyy.gbl.TH1D object at 0x16b3e0640>,\n",
       "  'hTOF_10ns_d1': <cppyy.gbl.TH1D object at 0x16b3e0a30>,\n",
       "  'hTOF_10ns_d2': <cppyy.gbl.TH1D object at 0x16b3e0e20>,\n",
       "  'hTOF_10ns_d3': <cppyy.gbl.TH1D object at 0x16b3e1210>,\n",
       "  'hTOF_10ns_d4': <cppyy.gbl.TH1D object at 0x16b3e1600>,\n",
       "  'hTOF_10ns_d5': <cppyy.gbl.TH1D object at 0x16b3e19f0>,\n",
       "  'hTOF_10ns_d6': <cppyy.gbl.TH1D object at 0x16b3e20f0>,\n",
       "  'hTOF_10ns_d7': <cppyy.gbl.TH1D object at 0x16b3e24e0>,\n",
       "  'hTOF_10ns_d8': <cppyy.gbl.TH1D object at 0x16b3e28d0>,\n",
       "  'hTOF_10ns_d9': <cppyy.gbl.TH1D object at 0x16b3e2cc0>,\n",
       "  'hTOF_10ns_d10': <cppyy.gbl.TH1D object at 0x16b3e30b0>,\n",
       "  'hTOF_10ns_d11': <cppyy.gbl.TH1D object at 0x16b3e34a0>,\n",
       "  'hTOF_10ns_d12': <cppyy.gbl.TH1D object at 0x16b3e3890>,\n",
       "  'hTOF_10ns_d13': <cppyy.gbl.TH1D object at 0x16b3e3c80>,\n",
       "  'hTOF_10ns_d14': <cppyy.gbl.TH1D object at 0x16b3e4070>,\n",
       "  'hTOF_10ns_d15': <cppyy.gbl.TH1D object at 0x16b3e4460>,\n",
       "  'hTOF_10ns_d16': <cppyy.gbl.TH1D object at 0x16b3e4850>,\n",
       "  'hTOF_10ns_d17': <cppyy.gbl.TH1D object at 0x16b3e4c40>,\n",
       "  'hTOF_10ns_d18': <cppyy.gbl.TH1D object at 0x16b3e5030>,\n",
       "  'hTOF_10ns_d19': <cppyy.gbl.TH1D object at 0x16b3e5420>,\n",
       "  'hTOF_10ns_d20': <cppyy.gbl.TH1D object at 0x16b3e5810>,\n",
       "  'hTOF_10ns_d21': <cppyy.gbl.TH1D object at 0x16b3e5c00>,\n",
       "  'hTOF_10ns_d22': <cppyy.gbl.TH1D object at 0x16b3e62f0>,\n",
       "  'hTOF_10ns_d23': <cppyy.gbl.TH1D object at 0x16b3e66e0>,\n",
       "  'hTOF_10ns_d24': <cppyy.gbl.TH1D object at 0x16b3e6ad0>,\n",
       "  'hTOF_10ns_d25': <cppyy.gbl.TH1D object at 0x16b3e6ec0>,\n",
       "  'hTOF_10ns_d26': <cppyy.gbl.TH1D object at 0x16b3e72b0>,\n",
       "  'hTOF_10ns_d27': <cppyy.gbl.TH1D object at 0x16b3e76a0>,\n",
       "  'hTOF_10ns_d28': <cppyy.gbl.TH1D object at 0x16b3e7a90>,\n",
       "  'hTOF_10ns_d29': <cppyy.gbl.TH1D object at 0x16b3e7e80>,\n",
       "  'hTOF_10ns_d30': <cppyy.gbl.TH1D object at 0x16b3e8270>,\n",
       "  'hTOF_10ns_d31': <cppyy.gbl.TH1D object at 0x16b3e8660>},\n",
       " 'hEn_all_gated_Bo': <cppyy.gbl.TH1D object at 0x16b3e8a50>}"
      ]
     },
     "execution_count": 7,
     "metadata": {},
     "output_type": "execute_result"
    }
   ],
   "source": [
    "read_root_to_dict(\"test.root\")"
   ]
  },
  {
   "cell_type": "code",
   "execution_count": null,
   "id": "2c9dc78f-0f27-4281-a726-7879861939a7",
   "metadata": {
    "editable": true,
    "slideshow": {
     "slide_type": ""
    },
    "tags": []
   },
   "outputs": [],
   "source": []
  }
 ],
 "metadata": {
  "kernelspec": {
   "display_name": "research",
   "language": "python",
   "name": "research"
  },
  "language_info": {
   "codemirror_mode": {
    "name": "ipython",
    "version": 3
   },
   "file_extension": ".py",
   "mimetype": "text/x-python",
   "name": "python",
   "nbconvert_exporter": "python",
   "pygments_lexer": "ipython3",
   "version": "3.11.4"
  }
 },
 "nbformat": 4,
 "nbformat_minor": 5
}
