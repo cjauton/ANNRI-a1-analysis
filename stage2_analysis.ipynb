{
 "cells": [
  {
   "cell_type": "code",
   "execution_count": 3,
   "id": "9607fd41",
   "metadata": {},
   "outputs": [],
   "source": [
    "import ROOT\n",
    "import sys\n",
    "import numpy as np\n",
    "import root_numpy as r_np"
   ]
  },
  {
   "cell_type": "code",
   "execution_count": 4,
   "id": "02ad4ea5",
   "metadata": {},
   "outputs": [],
   "source": [
    "numch = 32\n",
    "hEgam_gate_FA = [6637,6702] # 127I\n",
    "hEgam_gate_FE = [6150,6194] # 127I\n",
    "hEgam_gate_FA_bkg = [6777,7044] # 127I"
   ]
  },
  {
   "cell_type": "code",
   "execution_count": 30,
   "id": "a53921f1-900b-4a20-a24a-19491c356644",
   "metadata": {},
   "outputs": [],
   "source": [
    "def get_det_angle (file_name: str) -> list[int]:\n",
    "    \"\"\"Takes a string of a root file and returns a list containing the detector map\"\"\"\n",
    "\n",
    "    file = ROOT.TFile(file_name)\n",
    "    det_pos_graph = file.Get(\"det_pos_graph\")\n",
    "    det_pos = []\n",
    "    pos_angle = [-1,71,90,109,109,90,71,90,-1,71,90,109,109,90,71,90,-1,36,72,108,144,-1,-1,-1,-1,144,108,72,36,-1,-1,-1] \n",
    "    det_angle = []\n",
    "\n",
    "    for i in range(det_pos_graph.GetN()):\n",
    "        det_pos.append(int(det_pos_graph.Eval(i)))\n",
    "\n",
    "    file.Close()\n",
    "    \n",
    "    for i in range(numch):\n",
    "        det_angle.append(pos_angle[det_pos[i]])\n",
    "\n",
    "    return det_angle\n",
    "\n",
    "def get_hist (file_name: str, hist_name: str) -> list[ROOT.TH1]:\n",
    "    \"\"\"Takes a string of a root file and a name of a histogram and returns a list of histograms\"\"\"\n",
    "\n",
    "    hist = []\n",
    "    file = ROOT.TFile(file_name)\n",
    "    \n",
    "    for i in range(numch):\n",
    "        hist.append(file.Get(f\"{hist_name}/{hist_name}_d{i}\"))\n",
    "        hist[i].SetDirectory(0)\n",
    "\n",
    "    file.Close()\n",
    "    \n",
    "    return hist"
   ]
  },
  {
   "cell_type": "code",
   "execution_count": 6,
   "id": "bc67dba5",
   "metadata": {},
   "outputs": [],
   "source": [
    "def calc_scale(hEgam_bkg: list[ROOT.TH1]) -> list[float]:\n",
    "    \"\"\"Takes a list of histograms, calculates the scale and return the scales as a list\"\"\"\n",
    "\n",
    "    scale = []\n",
    "\n",
    "    for i in range(numch):\n",
    "        try:     \n",
    "            num = hEgam_bkg[i].Integral(hEgam_bkg[i].GetXaxis().FindBin(hEgam_gate_FA[0]),hEgam_bkg[i].GetXaxis().FindBin(hEgam_gate_FA[1]))\n",
    "            dem = hEgam_bkg[i].Integral(hEgam_bkg[i].GetXaxis().FindBin(hEgam_gate_FA_bkg[0]),hEgam_bkg[i].GetXaxis().FindBin(hEgam_gate_FA_bkg[1]))\n",
    "            scale.append(num/dem)\n",
    "        except ZeroDivisionError:\n",
    "            scale.append(0)\n",
    "    \n",
    "    return scale\n",
    "\n",
    "\n",
    "def calc_hEn_sub(hist: list, hist_bkg: list, scale: list[float]) -> list[ROOT.TH1]:\n",
    "    \"\"\"Takes 2 lists of histograms and a list of scales and calculates a new histogram then returns the histograms as a list\"\"\"\n",
    "\n",
    "    hist_bkg_sub = []\n",
    "    for i in range(numch):\n",
    "        hist_bkg_sub.append(hist[i]-hist_bkg[i]*scale[i])\n",
    "        hist_bkg_sub[i].SetDirectory(0)\n",
    "\n",
    "    return hist_bkg_sub"
   ]
  },
  {
   "cell_type": "code",
   "execution_count": 7,
   "id": "d6a7ee13",
   "metadata": {},
   "outputs": [],
   "source": [
    "def get_A_LH_det(hist: list[ROOT.TH1],energy: float, width: float) -> tuple[list[float], list[float]]:\n",
    "    \"\"\"Takes a list of histograms and returns a list of A_LH_det and its error dA_LH_det\"\"\"\n",
    "    \n",
    "    N_L_det = []\n",
    "    N_H_det = []\n",
    "    A_LH_det = []\n",
    "    dA_LH_det = []\n",
    "    \n",
    "\n",
    "    for i in range(numch):\n",
    "        energy_bin = hist[i].FindBin(energy)\n",
    "        width_bin = int(width//hist[i].GetBinWidth(energy_bin))\n",
    "        N_L_det.append(hist[i].Integral(energy_bin - width_bin, energy_bin - 1))\n",
    "        N_H_det.append(hist[i].Integral(energy_bin, energy_bin + width_bin))\n",
    "    \n",
    "        try:     \n",
    "            A_LH_det.append(calc_A_LH(N_L_det[i],N_H_det[i]))\n",
    "            dA_LH_det.append(calc_dA_LH(N_L_det[i],N_H_det[i]))\n",
    "        except ZeroDivisionError:\n",
    "            A_LH_det.append(None)\n",
    "            dA_LH_det.append(None)\n",
    "\n",
    "    return A_LH_det, dA_LH_det\n",
    "\n",
    "\n",
    "def get_A_LH_angle (hist: list[ROOT.TH1], det_angle: list[int], energy: float, width: float) -> tuple[list[float], list[float]]:\n",
    "    \"\"\"Takes a list of histograms and returns a list of A_LH_det and its error dA_LH_det\"\"\"\n",
    "\n",
    "    angle_list = [36,71,72,90,108,109,144]\n",
    "    N_L_angle = [0] * len(angle_list)\n",
    "    N_H_angle = [0] * len(angle_list)\n",
    "    A_LH_angle = [] \n",
    "    dA_LH_angle = []\n",
    "\n",
    "    for i in range(numch):\n",
    "        energy_bin = hist[i].FindBin(energy)\n",
    "        width_bin = int(width//hist[i].GetBinWidth(energy_bin))\n",
    "        N_L = hist[i].Integral(energy_bin - width_bin, energy_bin - 1)\n",
    "        N_H  = hist[i].Integral(energy_bin, energy_bin + width_bin)\n",
    "\n",
    "        for j in range(len(angle_list)):\n",
    "            if angle_list[j] == det_angle[i]:\n",
    "                N_L_angle[j] = N_L_angle[j] + N_L\n",
    "                N_H_angle[j] = N_H_angle[j] + N_H\n",
    "\n",
    "    for j in range(len(angle_list)):\n",
    "        try:     \n",
    "            A_LH_angle.append(calc_A_LH(N_L_angle[j],N_H_angle[j])) \n",
    "            dA_LH_angle.append(calc_dA_LH(N_L_angle[j],N_H_angle[j]))\n",
    "        except ZeroDivisionError:\n",
    "            A_LH_angle.append(None)\n",
    "            dA_LH_angle.append(None)\n",
    "\n",
    "    return A_LH_angle, dA_LH_angle"
   ]
  },
  {
   "cell_type": "code",
   "execution_count": 29,
   "id": "5e11edd0-19ab-48e9-bcb6-afddcc13c5f1",
   "metadata": {},
   "outputs": [],
   "source": [
    "def calc_N_LH(hist: list[ROOT.TH1],energy: float, width: float) -> tuple[list[float], list[float]]:\n",
    "    \"\"\"Takes a list of histograms and returns a list of N_L, N_H for each histogram\"\"\"\n",
    "    \n",
    "    N_L = []\n",
    "    N_H = []\n",
    "    \n",
    "\n",
    "    for i in range(len(hist)):\n",
    "        energy_bin = hist[i].FindBin(energy)\n",
    "        width_bin = int(width//hist[i].GetBinWidth(energy_bin))\n",
    "        N_L.append(hist[i].Integral(energy_bin - width_bin, energy_bin - 1))\n",
    "        N_H.append(hist[i].Integral(energy_bin, energy_bin + width_bin))\n",
    "    \n",
    "        \n",
    "\n",
    "    return N_L, N_H"
   ]
  },
  {
   "cell_type": "code",
   "execution_count": 33,
   "id": "8e9247d6-2650-406d-a1cd-2344ea5a96f7",
   "metadata": {
    "tags": []
   },
   "outputs": [],
   "source": [
    "# calc_N_LH(get_hist(\"stage0_output_NaI_1.root\",\"hEn\"),13.6,0.5)"
   ]
  },
  {
   "cell_type": "code",
   "execution_count": 42,
   "id": "143b684c-163e-4a5b-b724-b0e9cfa9bacf",
   "metadata": {},
   "outputs": [],
   "source": [
    "def add_by_angle(list_by_det: list[list[any]], det_angle: list[list[int]]) -> list[any]:\n",
    "    \"\"\"Takes a lists of lists to be added by detector \"\"\"\n",
    "    \n",
    "    angle_list = [36,71,72,90,108,109,144]\n",
    "    list_by_angle = [0] * len(angle_list)\n",
    "    \n",
    "    for i, sublist in enumerate(list_by_det):\n",
    "        for j, value in enumerate(sublist):\n",
    "             for k, angle in enumerate(angle_list):\n",
    "                if angle == det_angle[i][j]:\n",
    "                    list_by_angle[k]+=value\n",
    "               \n",
    "    return list_by_angle"
   ]
  },
  {
   "cell_type": "code",
   "execution_count": 44,
   "id": "c9202d05-90e2-40a6-bb4a-9636cae13096",
   "metadata": {},
   "outputs": [],
   "source": [
    "# list1 = [[0.01,0.01,0.01],[0.1,0.1,0.1],[1,1,1]]\n",
    "# list2 = [[36,109,144],[36,109,144],[36,109,144]]\n",
    "# add_by_angle(list1,list2)"
   ]
  },
  {
   "cell_type": "code",
   "execution_count": 28,
   "id": "596b859d",
   "metadata": {},
   "outputs": [],
   "source": [
    "def A_LH (N_L: float, N_H: float) -> float:\n",
    "    \"\"\"Takes two floats N_L and N_H and returns A_LH\"\"\"\n",
    "\n",
    "    return (N_L - N_H) / (N_L + N_H)\n",
    "\n",
    "def dA_LH (N_L: float, N_H: float) -> float:\n",
    "    \"\"\"Takes two floats N_L and N_H and returns dA_LH\"\"\"\n",
    "\n",
    "    return 2 * ROOT.TMath.Sqrt((N_L * N_L * N_H + N_L * N_H * N_H)) / (N_L + N_H) / (N_L + N_H)"
   ]
  },
  {
   "cell_type": "code",
   "execution_count": 49,
   "id": "f20ad7dd-8a26-4057-94f0-cdec4e32d209",
   "metadata": {},
   "outputs": [
    {
     "name": "stderr",
     "output_type": "stream",
     "text": [
      "/var/folders/xg/rnpq_36x4jqgm4p1d_0gd47c0000gn/T/ipykernel_2993/2946472642.py:4: RuntimeWarning: divide by zero encountered in divide\n",
      "  return (N_L - N_H) / (N_L + N_H)\n"
     ]
    },
    {
     "data": {
      "text/plain": [
       "array([-0.33333333, -0.2       , -0.14285714,        -inf, -0.09090909])"
      ]
     },
     "execution_count": 49,
     "metadata": {},
     "output_type": "execute_result"
    }
   ],
   "source": [
    "arr1 = np.array([1, 2, 3, -1, 5])\n",
    "arr2 = np.array([2, 3, 4, 1, 6])\n",
    "A_LH(arr1,arr2)"
   ]
  },
  {
   "cell_type": "code",
   "execution_count": 17,
   "id": "1278a4c9",
   "metadata": {},
   "outputs": [],
   "source": [
    "def draw_hist (hist: list[ROOT.TH1]) -> None:\n",
    "    \"\"\"Takes a list of histograms and draws each one\"\"\"\n",
    "\n",
    "    global hist_canvas\n",
    "    hist_canvas = []\n",
    "    for i in range(len(hist)): \n",
    "        hist_canvas.append(ROOT.TCanvas(hist[i].GetName(),hist[i].GetName(),500,400))\n",
    "        hist[i].GetXaxis().SetRangeUser(energy - 6 * width, energy + 6 * width)\n",
    "        hist[i].Draw(\"E1\")\n",
    "        hist_canvas[i].Draw() \n"
   ]
  },
  {
   "cell_type": "code",
   "execution_count": 25,
   "id": "84a90888",
   "metadata": {
    "tags": []
   },
   "outputs": [],
   "source": [
    "input_file = \"stage0_output_NaI_1.root\"\n",
    "E_p = 13.6\n",
    "G_p = 0.5\n",
    "\n",
    "det_angle = get_det_angle(input_file)\n",
    "\n",
    "hEn = get_hist(input_file,\"hEn_gated_FA\")\n",
    "hEn_bkg = get_hist(input_file,\"hEn_gated_FA_bkg\")\n",
    "hEgam = get_hist(input_file,\"hEgam\")\n",
    "\n",
    "scale = calc_scale(hEn_bkg)\n",
    "\n",
    "hEn_sub = calc_hEn_sub(hEn, hEn_bkg, scale)\n",
    "\n",
    "A_LH_det, dA_LH_det = get_A_LH_det(hEn_sub, E_p, G_p)\n",
    "A_LH_angle, dA_LH_det = get_A_LH_angle(hEn_sub, det_angle, E_p, G_p)"
   ]
  },
  {
   "cell_type": "code",
   "execution_count": 34,
   "id": "3a5e54cd",
   "metadata": {
    "tags": []
   },
   "outputs": [],
   "source": [
    "# A_LH_det"
   ]
  },
  {
   "cell_type": "code",
   "execution_count": 35,
   "id": "1775a67f",
   "metadata": {},
   "outputs": [
    {
     "data": {
      "text/plain": [
       "[1, 2, 3, 3, 2, 1]"
      ]
     },
     "execution_count": 35,
     "metadata": {},
     "output_type": "execute_result"
    }
   ],
   "source": []
  },
  {
   "cell_type": "code",
   "execution_count": null,
   "id": "61cf43a0",
   "metadata": {},
   "outputs": [],
   "source": []
  }
 ],
 "metadata": {
  "kernelspec": {
   "display_name": "research",
   "language": "python",
   "name": "python3"
  },
  "language_info": {
   "codemirror_mode": {
    "name": "ipython",
    "version": 3
   },
   "file_extension": ".py",
   "mimetype": "text/x-python",
   "name": "python",
   "nbconvert_exporter": "python",
   "pygments_lexer": "ipython3",
   "version": "3.10.11"
  }
 },
 "nbformat": 4,
 "nbformat_minor": 5
}
