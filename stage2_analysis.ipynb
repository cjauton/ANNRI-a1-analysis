{
 "cells": [
  {
   "cell_type": "code",
   "execution_count": 6,
   "id": "9607fd41",
   "metadata": {},
   "outputs": [],
   "source": [
    "import ROOT\n",
    "import sys\n",
    "import numpy as np"
   ]
  },
  {
   "cell_type": "code",
   "execution_count": 7,
   "id": "02ad4ea5",
   "metadata": {},
   "outputs": [],
   "source": [
    "numch = 32\n",
    "hEgam_gate_FA = [6637,6702] # 127I\n",
    "hEgam_gate_FE = [6150,6194] # 127I\n",
    "hEgam_gate_FA_bkg = [6777,7044] # 127I"
   ]
  },
  {
   "cell_type": "code",
   "execution_count": 8,
   "id": "a53921f1-900b-4a20-a24a-19491c356644",
   "metadata": {},
   "outputs": [],
   "source": [
    "def get_det_angle (file_name: str) -> list[int]:\n",
    "    \"\"\"Takes a string of a root file and returns a list containing the detector map\"\"\"\n",
    "\n",
    "    file = ROOT.TFile(file_name)\n",
    "    det_pos_graph = file.Get(\"det_pos_graph\")\n",
    "    det_pos = []\n",
    "    pos_angle = [-1,71,90,109,109,90,71,90,-1,71,90,109,109,90,71,90,-1,36,72,108,144,-1,-1,-1,-1,144,108,72,36,-1,-1,-1] \n",
    "    det_angle = []\n",
    "\n",
    "    for i in range(det_pos_graph.GetN()):\n",
    "        det_pos.append(int(det_pos_graph.Eval(i)))\n",
    "        # print(type(det_pos_graph.Eval(i)))\n",
    "\n",
    "    file.Close()\n",
    "    \n",
    "    for i in range(numch):\n",
    "        det_angle.append(pos_angle[det_pos[i]])\n",
    "\n",
    "    return det_angle\n",
    "\n",
    "def get_hist (file_name: str, hist_name: str) -> list[ROOT.TH1]:\n",
    "    \"\"\"Takes a string of a root file and a name of a histogram and returns a list of histograms\"\"\"\n",
    "\n",
    "    hist = []\n",
    "    file = ROOT.TFile(file_name)\n",
    "    \n",
    "    for i in range(numch):\n",
    "        hist.append(file.Get(f\"{hist_name}/{hist_name}_d{i}\"))\n",
    "        hist[i].SetDirectory(0)\n",
    "\n",
    "    file.Close()\n",
    "    \n",
    "    return hist"
   ]
  },
  {
   "cell_type": "code",
   "execution_count": 9,
   "id": "bc67dba5",
   "metadata": {},
   "outputs": [],
   "source": [
    "def calc_scale(hEgam_bkg: list[ROOT.TH1]) -> list[float]:\n",
    "    \"\"\"Takes a list of histograms, calculates the scale and return the scales as a list\"\"\"\n",
    "\n",
    "    scale = []\n",
    "\n",
    "    for i in range(numch):\n",
    "        try:     \n",
    "            num = hEgam_bkg[i].Integral(hEgam_bkg[i].GetXaxis().FindBin(hEgam_gate_FA[0]),hEgam_bkg[i].GetXaxis().FindBin(hEgam_gate_FA[1]))\n",
    "            dem = hEgam_bkg[i].Integral(hEgam_bkg[i].GetXaxis().FindBin(hEgam_gate_FA_bkg[0]),hEgam_bkg[i].GetXaxis().FindBin(hEgam_gate_FA_bkg[1]))\n",
    "            scale.append(num/dem)\n",
    "        except ZeroDivisionError:\n",
    "            scale.append(0)\n",
    "    \n",
    "    return scale\n",
    "\n",
    "\n",
    "def calc_hEn_sub(hist: list, hist_bkg: list, scale: list[float]) -> list[ROOT.TH1]:\n",
    "    \"\"\"Takes 2 lists of histograms and a list of scales and calculates a new histogram then returns the histograms as a list\"\"\"\n",
    "\n",
    "    hist_bkg_sub = []\n",
    "    for i in range(numch):\n",
    "        hist_bkg_sub.append(hist[i]-hist_bkg[i]*scale[i])\n",
    "        hist_bkg_sub[i].SetDirectory(0)\n",
    "\n",
    "    return hist_bkg_sub"
   ]
  },
  {
   "cell_type": "code",
   "execution_count": 10,
   "id": "d6a7ee13",
   "metadata": {},
   "outputs": [],
   "source": [
    "def get_A_LH_det(hist: list[ROOT.TH1],energy: float, width: float) -> tuple[list[float], list[float]]:\n",
    "    \"\"\"Takes a list of histograms and returns a list of A_LH_det and its error dA_LH_det\"\"\"\n",
    "    \n",
    "    N_L_det = []\n",
    "    N_H_det = []\n",
    "    A_LH_det = []\n",
    "    dA_LH_det = []\n",
    "    \n",
    "\n",
    "    for i in range(numch):\n",
    "        energy_bin = hist[i].FindBin(energy)\n",
    "        width_bin = int(width//hist[i].GetBinWidth(energy_bin))\n",
    "        N_L_det.append(hist[i].Integral(energy_bin - width_bin, energy_bin - 1))\n",
    "        N_H_det.append(hist[i].Integral(energy_bin, energy_bin + width_bin))\n",
    "    \n",
    "        try:     \n",
    "            A_LH_det.append(calc_A_LH(N_L_det[i],N_H_det[i]))\n",
    "            dA_LH_det.append(calc_dA_LH(N_L_det[i],N_H_det[i]))\n",
    "        except ZeroDivisionError:\n",
    "            A_LH_det.append(None)\n",
    "            dA_LH_det.append(None)\n",
    "\n",
    "    return A_LH_det, dA_LH_det\n",
    "\n",
    "\n",
    "def get_A_LH_angle (hist: list[ROOT.TH1], det_angle: list[int], energy: float, width: float) -> tuple[list[float], list[float]]:\n",
    "    \"\"\"Takes a list of histograms and returns a list of A_LH_det and its error dA_LH_det\"\"\"\n",
    "\n",
    "    angle_list = [36,71,72,90,108,109,144]\n",
    "    N_L_angle = [0] * len(angle_list)\n",
    "    N_H_angle = [0] * len(angle_list)\n",
    "    A_LH_angle = [] \n",
    "    dA_LH_angle = []\n",
    "\n",
    "    for i in range(numch):\n",
    "        energy_bin = hist[i].FindBin(energy)\n",
    "        width_bin = int(width//hist[i].GetBinWidth(energy_bin))\n",
    "        N_L = hist[i].Integral(energy_bin - width_bin, energy_bin - 1)\n",
    "        N_H  = hist[i].Integral(energy_bin, energy_bin + width_bin)\n",
    "\n",
    "        for j in range(len(angle_list)):\n",
    "            if angle_list[j] == det_angle[i]:\n",
    "                N_L_angle[j] = N_L_angle[j] + N_L\n",
    "                N_H_angle[j] = N_H_angle[j] + N_H\n",
    "\n",
    "    for j in range(len(angle_list)):\n",
    "        try:     \n",
    "            A_LH_angle.append(calc_A_LH(N_L_angle[j],N_H_angle[j])) \n",
    "            dA_LH_angle.append(calc_dA_LH(N_L_angle[j],N_H_angle[j]))\n",
    "        except ZeroDivisionError:\n",
    "            A_LH_angle.append(None)\n",
    "            dA_LH_angle.append(None)\n",
    "\n",
    "    return A_LH_angle, dA_LH_angle"
   ]
  },
  {
   "cell_type": "code",
   "execution_count": 11,
   "id": "596b859d",
   "metadata": {},
   "outputs": [],
   "source": [
    "def calc_A_LH (N_L: float, N_H: float) -> float:\n",
    "    \"\"\"Takes two floats N_L and N_H and returns A_LH\"\"\"\n",
    "\n",
    "    return (N_L - N_H) / (N_L + N_H)\n",
    "\n",
    "def calc_dA_LH (N_L: float, N_H: float) -> float:\n",
    "    \"\"\"Takes two floats N_L and N_H and returns dA_LH\"\"\"\n",
    "\n",
    "    return 2 * ROOT.TMath.Sqrt((N_L * N_L * N_H + N_L * N_H * N_H)) / (N_L + N_H) / (N_L + N_H)"
   ]
  },
  {
   "cell_type": "code",
   "execution_count": 12,
   "id": "1278a4c9",
   "metadata": {},
   "outputs": [],
   "source": [
    "def draw_hist (hist: list[ROOT.TH1]) -> None:\n",
    "    \"\"\"Takes a list of histograms and draws each one\"\"\"\n",
    "\n",
    "    for i in range(len(hist)):\n",
    "        # canvas.append(ROOT.TCanvas(f\"hEn_d{i}\", \"My Graph\", 800, 600))\n",
    "        hist[i].Draw(\"E1\")\n",
    "        # canvas[i].Update()\n"
   ]
  },
  {
   "cell_type": "code",
   "execution_count": null,
   "id": "b016dffb",
   "metadata": {},
   "outputs": [],
   "source": []
  },
  {
   "cell_type": "code",
   "execution_count": 20,
   "id": "84a90888",
   "metadata": {},
   "outputs": [
    {
     "name": "stderr",
     "output_type": "stream",
     "text": [
      "Warning in <TCanvas::Constructor>: Deleting canvas with same name: myCanvasName\n"
     ]
    },
    {
     "data": {
      "image/png": "[encoded data removed]",
      "text/plain": [
       "<IPython.core.display.Image object>"
      ]
     },
     "metadata": {},
     "output_type": "display_data"
    }
   ],
   "source": [
    "input_file = \"stage0_output_NaI_1.root\"\n",
    "hEn = get_hist(input_file,\"hEn_gated_FA\")\n",
    "\n",
    "# draw_hist(hEn)\n",
    "c = ROOT.TCanvas(\"myCanvasName\",\"The Canvas Title\",800,600)\n",
    "for i in hEn: \n",
    "    i.Draw(\"E1\")\n",
    "    c.Draw()\n",
    "    \n"
   ]
  },
  {
   "cell_type": "code",
   "execution_count": 22,
   "id": "3a5e54cd",
   "metadata": {},
   "outputs": [
    {
     "name": "stderr",
     "output_type": "stream",
     "text": [
      "Warning in <TROOT::Append>: Replacing existing TH1: gauss (Potential memory leak).\n",
      "Warning in <TCanvas::Constructor>: Deleting canvas with same name: myCanvasName\n"
     ]
    },
    {
     "data": {
      "image/png": "[encoded data removed]",
      "text/plain": [
       "<IPython.core.display.Image object>"
      ]
     },
     "metadata": {},
     "output_type": "display_data"
    }
   ],
   "source": [
    "h = ROOT.TH1F(\"gauss\",\"Example histogram\",100,-4,4)\n",
    "h.FillRandom(\"gaus\")\n",
    "c = ROOT.TCanvas(\"myCanvasName\",\"The Canvas Title\",500,400)\n",
    "h.Draw()\n",
    "c.Draw()"
   ]
  },
  {
   "cell_type": "code",
   "execution_count": null,
   "id": "1775a67f",
   "metadata": {},
   "outputs": [],
   "source": []
  }
 ],
 "metadata": {
  "kernelspec": {
   "display_name": "research",
   "language": "python",
   "name": "python3"
  },
  "language_info": {
   "codemirror_mode": {
    "name": "ipython",
    "version": 3
   },
   "file_extension": ".py",
   "mimetype": "text/x-python",
   "name": "python",
   "nbconvert_exporter": "python",
   "pygments_lexer": "ipython3",
   "version": "3.10.11"
  }
 },
 "nbformat": 4,
 "nbformat_minor": 5
}
