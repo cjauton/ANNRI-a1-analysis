{
 "cells": [
  {
   "cell_type": "code",
   "execution_count": 1,
   "metadata": {},
   "outputs": [],
   "source": [
    "import numpy as np\n",
    "import pandas as pd"
   ]
  },
  {
   "cell_type": "code",
   "execution_count": 2,
   "metadata": {},
   "outputs": [],
   "source": [
    "det = np.array([1,2,3,6,7,9,10,11,13,15,17,18,19,25,26,28])\n",
    "\n",
    "ph_1596 = np.array([1511,1694,1393,1611,1840,1750,1570,1730,1109,1555,1573,1646,1737,1524,1713,1308])\n",
    "ph_511 = np.array([483,541,445,515,590,560,502,553,354,496,503,525,555,484,548,418])"
   ]
  },
  {
   "cell_type": "code",
   "execution_count": 3,
   "metadata": {},
   "outputs": [
    {
     "data": {
      "text/plain": [
       "array([1.05544747, 0.94102342, 1.14451477, 0.9899635 , 0.868     ,\n",
       "       0.91176471, 1.0159176 , 0.92183517, 1.43708609, 1.02455146,\n",
       "       1.01401869, 0.96788582, 0.9179357 , 1.04326923, 0.93133047,\n",
       "       1.21910112])"
      ]
     },
     "execution_count": 3,
     "metadata": {},
     "output_type": "execute_result"
    }
   ],
   "source": [
    "slope = (1596-511)/(ph_1596-ph_511)\n",
    "slope"
   ]
  },
  {
   "cell_type": "code",
   "execution_count": 5,
   "metadata": {},
   "outputs": [
    {
     "data": {
      "text/plain": [
       "array([ 1.2188716 ,  1.90633131,  1.69092827,  1.16879562, -1.12      ,\n",
       "        0.41176471,  1.0093633 ,  1.22514868,  2.27152318,  2.82247403,\n",
       "        0.94859813,  2.85994648,  1.54568528,  6.05769231,  0.63090129,\n",
       "        1.41573034])"
      ]
     },
     "execution_count": 5,
     "metadata": {},
     "output_type": "execute_result"
    }
   ],
   "source": [
    "offset = 511 - slope * ph_511\n",
    "offset"
   ]
  },
  {
   "cell_type": "code",
   "execution_count": 6,
   "metadata": {},
   "outputs": [],
   "source": [
    "calib_dict = {\"det\":det, \"slope\":slope, \"offset\":offset}"
   ]
  },
  {
   "cell_type": "code",
   "execution_count": 8,
   "metadata": {},
   "outputs": [
    {
     "data": {
      "text/html": [
       "<div>\n",
       "<style scoped>\n",
       "    .dataframe tbody tr th:only-of-type {\n",
       "        vertical-align: middle;\n",
       "    }\n",
       "\n",
       "    .dataframe tbody tr th {\n",
       "        vertical-align: top;\n",
       "    }\n",
       "\n",
       "    .dataframe thead th {\n",
       "        text-align: right;\n",
       "    }\n",
       "</style>\n",
       "<table border=\"1\" class=\"dataframe\">\n",
       "  <thead>\n",
       "    <tr style=\"text-align: right;\">\n",
       "      <th></th>\n",
       "      <th>det</th>\n",
       "      <th>slope</th>\n",
       "      <th>offset</th>\n",
       "    </tr>\n",
       "  </thead>\n",
       "  <tbody>\n",
       "    <tr>\n",
       "      <th>0</th>\n",
       "      <td>1</td>\n",
       "      <td>1.055447</td>\n",
       "      <td>1.218872</td>\n",
       "    </tr>\n",
       "    <tr>\n",
       "      <th>1</th>\n",
       "      <td>2</td>\n",
       "      <td>0.941023</td>\n",
       "      <td>1.906331</td>\n",
       "    </tr>\n",
       "    <tr>\n",
       "      <th>2</th>\n",
       "      <td>3</td>\n",
       "      <td>1.144515</td>\n",
       "      <td>1.690928</td>\n",
       "    </tr>\n",
       "    <tr>\n",
       "      <th>3</th>\n",
       "      <td>6</td>\n",
       "      <td>0.989964</td>\n",
       "      <td>1.168796</td>\n",
       "    </tr>\n",
       "    <tr>\n",
       "      <th>4</th>\n",
       "      <td>7</td>\n",
       "      <td>0.868000</td>\n",
       "      <td>-1.120000</td>\n",
       "    </tr>\n",
       "    <tr>\n",
       "      <th>5</th>\n",
       "      <td>9</td>\n",
       "      <td>0.911765</td>\n",
       "      <td>0.411765</td>\n",
       "    </tr>\n",
       "    <tr>\n",
       "      <th>6</th>\n",
       "      <td>10</td>\n",
       "      <td>1.015918</td>\n",
       "      <td>1.009363</td>\n",
       "    </tr>\n",
       "    <tr>\n",
       "      <th>7</th>\n",
       "      <td>11</td>\n",
       "      <td>0.921835</td>\n",
       "      <td>1.225149</td>\n",
       "    </tr>\n",
       "    <tr>\n",
       "      <th>8</th>\n",
       "      <td>13</td>\n",
       "      <td>1.437086</td>\n",
       "      <td>2.271523</td>\n",
       "    </tr>\n",
       "    <tr>\n",
       "      <th>9</th>\n",
       "      <td>15</td>\n",
       "      <td>1.024551</td>\n",
       "      <td>2.822474</td>\n",
       "    </tr>\n",
       "    <tr>\n",
       "      <th>10</th>\n",
       "      <td>17</td>\n",
       "      <td>1.014019</td>\n",
       "      <td>0.948598</td>\n",
       "    </tr>\n",
       "    <tr>\n",
       "      <th>11</th>\n",
       "      <td>18</td>\n",
       "      <td>0.967886</td>\n",
       "      <td>2.859946</td>\n",
       "    </tr>\n",
       "    <tr>\n",
       "      <th>12</th>\n",
       "      <td>19</td>\n",
       "      <td>0.917936</td>\n",
       "      <td>1.545685</td>\n",
       "    </tr>\n",
       "    <tr>\n",
       "      <th>13</th>\n",
       "      <td>25</td>\n",
       "      <td>1.043269</td>\n",
       "      <td>6.057692</td>\n",
       "    </tr>\n",
       "    <tr>\n",
       "      <th>14</th>\n",
       "      <td>26</td>\n",
       "      <td>0.931330</td>\n",
       "      <td>0.630901</td>\n",
       "    </tr>\n",
       "    <tr>\n",
       "      <th>15</th>\n",
       "      <td>28</td>\n",
       "      <td>1.219101</td>\n",
       "      <td>1.415730</td>\n",
       "    </tr>\n",
       "  </tbody>\n",
       "</table>\n",
       "</div>"
      ],
      "text/plain": [
       "    det     slope    offset\n",
       "0     1  1.055447  1.218872\n",
       "1     2  0.941023  1.906331\n",
       "2     3  1.144515  1.690928\n",
       "3     6  0.989964  1.168796\n",
       "4     7  0.868000 -1.120000\n",
       "5     9  0.911765  0.411765\n",
       "6    10  1.015918  1.009363\n",
       "7    11  0.921835  1.225149\n",
       "8    13  1.437086  2.271523\n",
       "9    15  1.024551  2.822474\n",
       "10   17  1.014019  0.948598\n",
       "11   18  0.967886  2.859946\n",
       "12   19  0.917936  1.545685\n",
       "13   25  1.043269  6.057692\n",
       "14   26  0.931330  0.630901\n",
       "15   28  1.219101  1.415730"
      ]
     },
     "execution_count": 8,
     "metadata": {},
     "output_type": "execute_result"
    }
   ],
   "source": [
    "df  = pd.DataFrame(calib_dict)\n",
    "df"
   ]
  },
  {
   "cell_type": "code",
   "execution_count": 9,
   "metadata": {},
   "outputs": [],
   "source": [
    "df.to_csv(\"../calib/calib_2023may.csv\",index=False)"
   ]
  },
  {
   "cell_type": "code",
   "execution_count": null,
   "metadata": {},
   "outputs": [],
   "source": []
  },
  {
   "cell_type": "code",
   "execution_count": null,
   "metadata": {},
   "outputs": [],
   "source": []
  }
 ],
 "metadata": {
  "kernelspec": {
   "display_name": "research",
   "language": "python",
   "name": "python3"
  },
  "language_info": {
   "codemirror_mode": {
    "name": "ipython",
    "version": 3
   },
   "file_extension": ".py",
   "mimetype": "text/x-python",
   "name": "python",
   "nbconvert_exporter": "python",
   "pygments_lexer": "ipython3",
   "version": "3.11.4"
  },
  "orig_nbformat": 4
 },
 "nbformat": 4,
 "nbformat_minor": 2
}
